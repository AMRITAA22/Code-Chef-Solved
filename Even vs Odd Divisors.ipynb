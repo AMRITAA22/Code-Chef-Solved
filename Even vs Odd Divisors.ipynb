{
 "cells": [
  {
   "cell_type": "code",
   "execution_count": null,
   "id": "13f53df0",
   "metadata": {},
   "outputs": [],
   "source": [
    "def solve():\n",
    "    n = int(input())\n",
    "    if n % 2 != 0:\n",
    "        print(\"-1\")\n",
    "    else:\n",
    "        count = 0\n",
    "        while n % 2 == 0:\n",
    "            n //= 2\n",
    "            count += 1\n",
    "        if count == 1:\n",
    "            print(\"0\")\n",
    "        else:\n",
    "            print(\"1\")\n",
    "\n",
    "t = int(input())\n",
    "for _ in range(t):\n",
    "    solve()"
   ]
  }
 ],
 "metadata": {
  "language_info": {
   "name": "python"
  }
 },
 "nbformat": 4,
 "nbformat_minor": 5
}
