{
 "cells": [
  {
   "cell_type": "code",
   "execution_count": null,
   "id": "ddc4a700",
   "metadata": {},
   "outputs": [],
   "source": [
    "t = int(input())\n",
    "while t > 0:\n",
    "    a = int(input())\n",
    "    # Your code goes here\n",
    "    if a%2==0 and a%7==0:\n",
    "        print(\"alice\")\n",
    "    elif a%2!=0 and a%9==0:\n",
    "        print(\"bob\")\n",
    "    else:\n",
    "        print(\"charlie\")\n",
    "    t -= 1"
   ]
  }
 ],
 "metadata": {
  "language_info": {
   "name": "python"
  }
 },
 "nbformat": 4,
 "nbformat_minor": 5
}
