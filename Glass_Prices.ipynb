{
 "cells": [
  {
   "cell_type": "code",
   "execution_count": null,
   "id": "3f22dab4",
   "metadata": {},
   "outputs": [],
   "source": [
    "# cook your dish here\n",
    "x,y=map(int,input().split())\n",
    "if x*2>=y:\n",
    "    print(\"metal\")\n",
    "else:\n",
    "    print(\"plastic\")"
   ]
  }
 ],
 "metadata": {
  "language_info": {
   "name": "python"
  }
 },
 "nbformat": 4,
 "nbformat_minor": 5
}
