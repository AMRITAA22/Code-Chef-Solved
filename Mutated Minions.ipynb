{
 "cells": [
  {
   "cell_type": "code",
   "execution_count": null,
   "id": "edb33985",
   "metadata": {},
   "outputs": [],
   "source": [
    "# cook your dish here\n",
    "t=int(input())\n",
    "for _ in range(t):\n",
    "    n, k = map(int, input().split())\n",
    "    a = list(input().split())\n",
    "    count = 0\n",
    "    for i in range(n):\n",
    "        a[i] = int(a[i]) + k \n",
    "        if (a[i] % 7 == 0):\n",
    "            count += 1\n",
    "    print(count)\n",
    "    "
   ]
  }
 ],
 "metadata": {
  "language_info": {
   "name": "python"
  }
 },
 "nbformat": 4,
 "nbformat_minor": 5
}
