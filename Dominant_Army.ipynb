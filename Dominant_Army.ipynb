{
 "cells": [
  {
   "cell_type": "code",
   "execution_count": null,
   "id": "02fc2b4d",
   "metadata": {},
   "outputs": [],
   "source": [
    "def solve():\n",
    "    a, b, c = map(int, input().split())\n",
    "    if a > b + c or b > a + c or c > a + b:\n",
    "        print(\"YES\")\n",
    "    else:\n",
    "        print(\"NO\")\n",
    "\n",
    "t = int(input())\n",
    "for _ in range(t):\n",
    "    solve()"
   ]
  }
 ],
 "metadata": {
  "language_info": {
   "name": "python"
  }
 },
 "nbformat": 4,
 "nbformat_minor": 5
}
