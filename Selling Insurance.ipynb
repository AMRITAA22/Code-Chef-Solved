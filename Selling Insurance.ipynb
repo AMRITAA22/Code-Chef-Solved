{
 "cells": [
  {
   "cell_type": "code",
   "execution_count": null,
   "id": "dfea88bf",
   "metadata": {},
   "outputs": [],
   "source": [
    "# cook your dish here\n",
    "import math\n",
    "t=int(input())\n",
    "if 1<=t<=100:\n",
    "    for i in range(t):\n",
    "        x=int(input())\n",
    "        if 1<=x<=100:   \n",
    "            a=(20/100)*x\n",
    "            print(math.ceil(100/a))"
   ]
  }
 ],
 "metadata": {
  "language_info": {
   "name": "python"
  }
 },
 "nbformat": 4,
 "nbformat_minor": 5
}
