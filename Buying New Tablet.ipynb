{
 "cells": [
  {
   "cell_type": "code",
   "execution_count": null,
   "id": "0841a150",
   "metadata": {},
   "outputs": [],
   "source": [
    "# cook your dish here\n",
    "for i in range(int(input())):\n",
    "    x,y=map(int,input().split())\n",
    "    \n",
    "    l=[]\n",
    "    for j in range(x):\n",
    "        h,w,p=list(map(int,input().split()))\n",
    "        a=h*w\n",
    "        if(p<=y):\n",
    "            l.append(a)\n",
    "            \n",
    "            \n",
    "    if(len(l)>0):\n",
    "        print(max(l))\n",
    "    else:\n",
    "        print('no tablet')"
   ]
  }
 ],
 "metadata": {
  "language_info": {
   "name": "python"
  }
 },
 "nbformat": 4,
 "nbformat_minor": 5
}
