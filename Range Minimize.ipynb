{
 "cells": [
  {
   "cell_type": "code",
   "execution_count": null,
   "id": "3e284493",
   "metadata": {},
   "outputs": [],
   "source": [
    "# cook your dish here\n",
    "for _ in range(int(input())):\n",
    "    array_size=int(input())\n",
    "    array=sorted(list(map(int,input().split())))\n",
    "    if array_size<=3:\n",
    "        print(0)\n",
    "    else:\n",
    "        diff1=array[-1]-array[2]\n",
    "        diff2=array[-2]-array[1]\n",
    "        diff3=array[-3]-array[0]\n",
    "        print(min(diff1,diff2,diff3))"
   ]
  }
 ],
 "metadata": {
  "language_info": {
   "name": "python"
  }
 },
 "nbformat": 4,
 "nbformat_minor": 5
}
