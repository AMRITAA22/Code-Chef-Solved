{
 "cells": [
  {
   "cell_type": "code",
   "execution_count": null,
   "id": "50c42230",
   "metadata": {},
   "outputs": [],
   "source": [
    "# cook your dish here\n",
    "a,b,c=map(int,input().split())\n",
    "if a*b==c*c:\n",
    "    print(\"yes\")\n",
    "else:\n",
    "    print(\"No\")"
   ]
  }
 ],
 "metadata": {
  "language_info": {
   "name": "python"
  }
 },
 "nbformat": 4,
 "nbformat_minor": 5
}
