{
 "cells": [
  {
   "cell_type": "code",
   "execution_count": null,
   "id": "3333f3d2",
   "metadata": {},
   "outputs": [],
   "source": [
    "t = int(input())\n",
    "for i in range(0,t):\n",
    "    a,b = map(int,input().split())\n",
    "    # write your code here\n",
    "    print(a+b)"
   ]
  }
 ],
 "metadata": {
  "language_info": {
   "name": "python"
  }
 },
 "nbformat": 4,
 "nbformat_minor": 5
}
