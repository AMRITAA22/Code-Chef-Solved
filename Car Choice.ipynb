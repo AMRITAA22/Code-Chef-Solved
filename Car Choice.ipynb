{
 "cells": [
  {
   "cell_type": "code",
   "execution_count": null,
   "id": "229b2d9b",
   "metadata": {},
   "outputs": [],
   "source": [
    "# cook your dish here\n",
    "t=int(input())\n",
    "for _ in range(t):\n",
    "    x1,x2,y1,y2=map(int,input().split())\n",
    "    if y1/x1==y2/x2:\n",
    "        print(0)\n",
    "    elif y1/x1>y2/x2:\n",
    "        print(1)\n",
    "    else:\n",
    "        print(-1)"
   ]
  }
 ],
 "metadata": {
  "language_info": {
   "name": "python"
  }
 },
 "nbformat": 4,
 "nbformat_minor": 5
}
