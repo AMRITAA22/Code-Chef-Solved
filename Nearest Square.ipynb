{
 "cells": [
  {
   "cell_type": "code",
   "execution_count": null,
   "id": "54eb8776",
   "metadata": {},
   "outputs": [],
   "source": [
    "# cook your dish here\n",
    "import math\n",
    "t=int(input())\n",
    "for _ in range(t):\n",
    "    n=int(input())\n",
    "    sqrt_n=int(math.sqrt(n))\n",
    "    largest_square=sqrt_n*sqrt_n\n",
    "    print(largest_square)"
   ]
  }
 ],
 "metadata": {
  "language_info": {
   "name": "python"
  }
 },
 "nbformat": 4,
 "nbformat_minor": 5
}
