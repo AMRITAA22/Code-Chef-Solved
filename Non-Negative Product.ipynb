{
 "cells": [
  {
   "cell_type": "code",
   "execution_count": null,
   "id": "587e9036",
   "metadata": {},
   "outputs": [],
   "source": [
    "# cook your dish here\n",
    "t=int(input())\n",
    "for i in range(t):\n",
    "    n=int(input())\n",
    "    A=list(map(int, input().split()))\n",
    "    c=0\n",
    "    p=1\n",
    "    for k in range(n):\n",
    "        p=p*A[k]\n",
    "        \n",
    "    if(p>=0):\n",
    "        print(0)\n",
    "    else:\n",
    "        print(1)"
   ]
  }
 ],
 "metadata": {
  "language_info": {
   "name": "python"
  }
 },
 "nbformat": 4,
 "nbformat_minor": 5
}
