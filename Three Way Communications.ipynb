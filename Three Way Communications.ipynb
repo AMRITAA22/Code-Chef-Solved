{
 "cells": [
  {
   "cell_type": "code",
   "execution_count": null,
   "id": "5f33a185",
   "metadata": {},
   "outputs": [],
   "source": [
    "# cook your dish here\n",
    "import math\n",
    "t = int(input())\n",
    "for i in range(0,t):\n",
    "    R = int(input())\n",
    "    count=0\n",
    "    a,b = map(int,input().split())\n",
    "    c,d = map(int,input().split())\n",
    "    e,f = map(int,input().split())\n",
    "    temp = math.sqrt(pow((a-c),2)+pow((b-d),2))\n",
    "    tem  = math.sqrt(pow((e-c),2)+pow((f-d),2))\n",
    "    te   = math.sqrt(pow((a-e),2)+pow((b-f),2))\n",
    "    if(temp > R):\n",
    "        count+=1\n",
    "    if(tem > R):\n",
    "        count+=1\n",
    "    if(te > R):\n",
    "        count+=1\n",
    "    if(count >= 2):\n",
    "        print(\"no\")\n",
    "    else:\n",
    "        print(\"yes\")"
   ]
  }
 ],
 "metadata": {
  "language_info": {
   "name": "python"
  }
 },
 "nbformat": 4,
 "nbformat_minor": 5
}
