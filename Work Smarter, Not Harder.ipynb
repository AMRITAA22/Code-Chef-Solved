{
 "cells": [
  {
   "cell_type": "code",
   "execution_count": null,
   "id": "713a479b",
   "metadata": {},
   "outputs": [],
   "source": [
    "# cook your dish here\n",
    "import math as m\n",
    "def calculate_difference(l, v1, v2):\n",
    "    t1 = l / v1\n",
    "    t2 = l / v2\n",
    "    t1 = m.ceil(t1)\n",
    "    t2 = m.ceil(t2)\n",
    "    return t1 - t2\n",
    "for _ in range(int(input())):\n",
    "    l, v1, v2 = map(int, input().split())\n",
    "    result = calculate_difference(l, v1, v2)\n",
    "    print(result - 1)"
   ]
  }
 ],
 "metadata": {
  "language_info": {
   "name": "python"
  }
 },
 "nbformat": 4,
 "nbformat_minor": 5
}
