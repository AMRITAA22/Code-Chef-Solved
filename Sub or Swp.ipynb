{
 "cells": [
  {
   "cell_type": "code",
   "execution_count": null,
   "id": "2e23661e",
   "metadata": {},
   "outputs": [],
   "source": [
    "# cook your dish here\n",
    "def gcd(a,b):\n",
    "    if(b==0):\n",
    "        return a\n",
    "    else:\n",
    "        return gcd(b,a%b)\n",
    "t=int(input())\n",
    "for _ in range(t):\n",
    "    a,b=map(int,input().split())\n",
    "    print(gcd(a,b))"
   ]
  }
 ],
 "metadata": {
  "language_info": {
   "name": "python"
  }
 },
 "nbformat": 4,
 "nbformat_minor": 5
}
