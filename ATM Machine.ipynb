{
 "cells": [
  {
   "cell_type": "code",
   "execution_count": null,
   "id": "3dbeb173",
   "metadata": {},
   "outputs": [],
   "source": [
    "# cook your dish here\n",
    "for _ in range(int(input())):\n",
    "    n, money = map(int, input().split())\n",
    "    L = list(input().split())\n",
    "    for i in range(n):\n",
    "        L[i] = int(L[i])\n",
    "        \n",
    "    ns = \"\"\n",
    "    for i in range(n):\n",
    "        if (L[i] <= money):\n",
    "            ns += \"1\"\n",
    "            money -= L[i]\n",
    "        else:\n",
    "            ns += '0'\n",
    "    \n",
    "    print(ns)\n",
    "    "
   ]
  }
 ],
 "metadata": {
  "language_info": {
   "name": "python"
  }
 },
 "nbformat": 4,
 "nbformat_minor": 5
}
