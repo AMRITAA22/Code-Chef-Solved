{
 "cells": [
  {
   "cell_type": "code",
   "execution_count": null,
   "id": "7deebbd6",
   "metadata": {},
   "outputs": [],
   "source": [
    "# cook your dish here\n",
    "t=int(input())\n",
    "result=' '\n",
    "for _ in range(t):\n",
    "    s=list(input())\n",
    "    t=list(input())\n",
    "    for i in range(len(s)):\n",
    "        if s[i]==t[i]:\n",
    "            result+=\"G\"\n",
    "        else:\n",
    "            result+=\"B\"\n",
    "    print(result)\n",
    "    result=' '"
   ]
  }
 ],
 "metadata": {
  "language_info": {
   "name": "python"
  }
 },
 "nbformat": 4,
 "nbformat_minor": 5
}
