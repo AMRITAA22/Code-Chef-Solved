{
 "cells": [
  {
   "cell_type": "code",
   "execution_count": null,
   "id": "d43d34aa",
   "metadata": {},
   "outputs": [],
   "source": [
    "def reverse_integer(n):\n",
    "    reversed_num = 0\n",
    "    while n > 0:\n",
    "        reversed_num = reversed_num * 10 + n % 10\n",
    "        n //= 10\n",
    "    return reversed_num\n",
    "\n",
    "t = int(input())\n",
    "for _ in range(t):\n",
    "    n = int(input())\n",
    "    print(reverse_integer(n))"
   ]
  }
 ],
 "metadata": {
  "language_info": {
   "name": "python"
  }
 },
 "nbformat": 4,
 "nbformat_minor": 5
}
