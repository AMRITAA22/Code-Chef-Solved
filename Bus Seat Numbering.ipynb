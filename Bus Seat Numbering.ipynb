{
 "cells": [
  {
   "cell_type": "code",
   "execution_count": null,
   "id": "b82ae232",
   "metadata": {},
   "outputs": [],
   "source": [
    "# cook your dish here\n",
    "t=int(input())\n",
    "for _ in range(t):\n",
    "    n=int(input())\n",
    "    if 1 <= n <= 10:\n",
    "        print(\"Lower Double\")\n",
    "    elif 11 <= n <= 15:\n",
    "        print(\"Lower Single\")\n",
    "    elif 16 <= n <= 25:\n",
    "        print(\"Upper Double\")\n",
    "    else:\n",
    "        print(\"Upper Single\")"
   ]
  }
 ],
 "metadata": {
  "language_info": {
   "name": "python"
  }
 },
 "nbformat": 4,
 "nbformat_minor": 5
}
