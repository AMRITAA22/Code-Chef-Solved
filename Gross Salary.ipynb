{
 "cells": [
  {
   "cell_type": "code",
   "execution_count": null,
   "id": "4d29de5d",
   "metadata": {},
   "outputs": [],
   "source": [
    "# cook your dish here\n",
    "t=int(input())\n",
    "for _ in range(t):\n",
    "    salary=int(input())\n",
    "    if salary<1500:\n",
    "        HRA=0.10*salary\n",
    "        DA=0.90*salary\n",
    "        print(salary+HRA+DA)\n",
    "    else:\n",
    "        DA=0.98*salary\n",
    "        print(salary+500+DA)"
   ]
  }
 ],
 "metadata": {
  "language_info": {
   "name": "python"
  }
 },
 "nbformat": 4,
 "nbformat_minor": 5
}
