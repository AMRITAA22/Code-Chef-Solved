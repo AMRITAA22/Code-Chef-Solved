{
 "cells": [
  {
   "cell_type": "code",
   "execution_count": null,
   "id": "de56c233",
   "metadata": {},
   "outputs": [],
   "source": [
    "# cook your dish here\n",
    "n=int(input())\n",
    "if n==16:\n",
    "    print(\"ADVITIYA\")\n",
    "elif n==17:\n",
    "    print(\"ADVITIYA\")\n",
    "elif n==18:\n",
    "    print(\"ADVITIYA\")\n",
    "else:\n",
    "    print(\"WAITING FOR ADVITIYA\")"
   ]
  }
 ],
 "metadata": {
  "language_info": {
   "name": "python"
  }
 },
 "nbformat": 4,
 "nbformat_minor": 5
}
