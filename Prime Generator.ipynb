{
 "cells": [
  {
   "cell_type": "code",
   "execution_count": null,
   "id": "9143dd57",
   "metadata": {},
   "outputs": [],
   "source": [
    "# cook your dish here\n",
    "t=int(input())\n",
    "for _ in range(t):\n",
    "    N1, N2 = map(int, input().split())\n",
    "    for Num in range(N1, N2 + 1):\n",
    "        if sympy.isprime(Num):\n",
    "            print(Num)\n",
    "    else:\n",
    "        print()"
   ]
  }
 ],
 "metadata": {
  "language_info": {
   "name": "python"
  }
 },
 "nbformat": 4,
 "nbformat_minor": 5
}
