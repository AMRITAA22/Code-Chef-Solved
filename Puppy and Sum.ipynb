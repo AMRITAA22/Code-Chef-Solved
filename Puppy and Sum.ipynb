{
 "cells": [
  {
   "cell_type": "code",
   "execution_count": null,
   "id": "230191fe",
   "metadata": {},
   "outputs": [],
   "source": [
    "# cook your dish here\n",
    "\n",
    "T=int(input())\n",
    "for o in range(T):\n",
    "    D,N=map(int,input().split())\n",
    "    S=1\n",
    "    for i in range(1,D+1):\n",
    "        S=N*(N+1)//2\n",
    "        N=S\n",
    "    print(S)"
   ]
  }
 ],
 "metadata": {
  "language_info": {
   "name": "python"
  }
 },
 "nbformat": 4,
 "nbformat_minor": 5
}
