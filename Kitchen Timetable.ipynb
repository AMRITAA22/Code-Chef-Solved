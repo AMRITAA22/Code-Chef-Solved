{
 "cells": [
  {
   "cell_type": "code",
   "execution_count": null,
   "id": "0573d12c",
   "metadata": {},
   "outputs": [],
   "source": [
    "# cook your dish here\n",
    "for i in range(int(input())):\n",
    "    n = int(input())\n",
    "    a = list(map(int, input().split()))\n",
    "    b = list(map(int, input().split()))\n",
    "    c = 0\n",
    "    at = a[0]\n",
    "    for x in range(0, n):\n",
    "        if x > 0:\n",
    "            at = a[x] - a[x-1]\n",
    "        if at >= b[x]:\n",
    "            c += 1\n",
    "    print(c)"
   ]
  }
 ],
 "metadata": {
  "language_info": {
   "name": "python"
  }
 },
 "nbformat": 4,
 "nbformat_minor": 5
}
