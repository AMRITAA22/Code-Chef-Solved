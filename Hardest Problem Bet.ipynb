{
 "cells": [
  {
   "cell_type": "code",
   "execution_count": null,
   "id": "605c8122",
   "metadata": {},
   "outputs": [],
   "source": [
    "# cook your dish here\n",
    "t=int(input())\n",
    "for _ in range(t):\n",
    "    a,b,c=map(int,input().split())\n",
    "    if min(a,b,c)==a:\n",
    "        print(\"Draw\")\n",
    "    elif min(a,b,c)==b:\n",
    "        print(\"Bob\")\n",
    "    else:\n",
    "        print(\"Alice\")"
   ]
  }
 ],
 "metadata": {
  "language_info": {
   "name": "python"
  }
 },
 "nbformat": 4,
 "nbformat_minor": 5
}
