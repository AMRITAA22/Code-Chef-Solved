{
 "cells": [
  {
   "cell_type": "code",
   "execution_count": null,
   "id": "a705965e",
   "metadata": {},
   "outputs": [],
   "source": [
    "# cook your dish here\n",
    "def solve():\n",
    "    n,x=map(int,input().split())\n",
    "    sub=(n+5)//6\n",
    "    print(sub*x)\n",
    "\n",
    "t=int(input())\n",
    "for i in range(t):\n",
    "    solve()"
   ]
  }
 ],
 "metadata": {
  "language_info": {
   "name": "python"
  }
 },
 "nbformat": 4,
 "nbformat_minor": 5
}
