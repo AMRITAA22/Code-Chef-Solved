{
 "cells": [
  {
   "cell_type": "code",
   "execution_count": null,
   "id": "b3140619",
   "metadata": {},
   "outputs": [],
   "source": [
    "# cook your dish here\n",
    "def solve():\n",
    "    x,y,m=map(int,input().split())\n",
    "    if x*m<y:\n",
    "        print(\"YES\")\n",
    "    else:\n",
    "        print(\"NO\")\n",
    "        \n",
    "t=int(input())\n",
    "for i in range(t):\n",
    "    solve()"
   ]
  }
 ],
 "metadata": {
  "language_info": {
   "name": "python"
  }
 },
 "nbformat": 4,
 "nbformat_minor": 5
}
