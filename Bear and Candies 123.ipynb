{
 "cells": [
  {
   "cell_type": "code",
   "execution_count": null,
   "id": "b4daba1a",
   "metadata": {},
   "outputs": [],
   "source": [
    "# cook your dish here\n",
    "for i in range(int(input())):\n",
    "    a,b=map(int,input().split())\n",
    "    c=0\n",
    "    for i in range(1,1000):\n",
    "        if i%2==1:\n",
    "            a=a-i\n",
    "            if(a<0):\n",
    "                print(\"Bob\")\n",
    "                break\n",
    "        else:\n",
    "            b=b-i\n",
    "            if(b<0):\n",
    "                print(\"Limak\")\n",
    "                break\n",
    "            "
   ]
  }
 ],
 "metadata": {
  "language_info": {
   "name": "python"
  }
 },
 "nbformat": 4,
 "nbformat_minor": 5
}
