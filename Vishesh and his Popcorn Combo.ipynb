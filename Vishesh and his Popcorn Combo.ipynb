{
 "cells": [
  {
   "cell_type": "code",
   "execution_count": null,
   "id": "dd81b32b",
   "metadata": {},
   "outputs": [],
   "source": [
    "# cook your dish here\n",
    "for _ in range(int(input())):\n",
    "    a,b=map(int,input().split())\n",
    "    c,d=map(int,input().split())\n",
    "    e,f=map(int,input().split())\n",
    "    print(max(a+b,c+d,e+f))"
   ]
  }
 ],
 "metadata": {
  "language_info": {
   "name": "python"
  }
 },
 "nbformat": 4,
 "nbformat_minor": 5
}
