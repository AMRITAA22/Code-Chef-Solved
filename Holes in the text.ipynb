{
 "cells": [
  {
   "cell_type": "code",
   "execution_count": null,
   "id": "e51d346d",
   "metadata": {},
   "outputs": [],
   "source": [
    "# cook your dish here\n",
    "for _ in range(int(input())):\n",
    "    s = input()\n",
    "    holy = [ 'A', 'B', 'D', 'O', 'P', 'Q', 'R']\n",
    "    holes = 0\n",
    "    for l in s:\n",
    "        if l in holy:\n",
    "            if l == 'B':\n",
    "                holes += 2\n",
    "            else:\n",
    "                holes += 1\n",
    "    else:\n",
    "        print(holes)"
   ]
  }
 ],
 "metadata": {
  "language_info": {
   "name": "python"
  }
 },
 "nbformat": 4,
 "nbformat_minor": 5
}
