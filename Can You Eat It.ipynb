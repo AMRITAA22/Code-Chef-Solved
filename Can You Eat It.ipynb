{
 "cells": [
  {
   "cell_type": "code",
   "execution_count": null,
   "id": "104225ae",
   "metadata": {},
   "outputs": [],
   "source": [
    "# cook your dish here\n",
    "t=int(input())\n",
    "for _ in range(t):\n",
    "    n,k=map(int,input().split())\n",
    "    if n == 0:\n",
    "        print(0)\n",
    "    elif n < k:\n",
    "        print(-1)\n",
    "    elif n % k == 0:\n",
    "        print(n // k)\n",
    "    else:\n",
    "        print(-1)"
   ]
  }
 ],
 "metadata": {
  "language_info": {
   "name": "python"
  }
 },
 "nbformat": 4,
 "nbformat_minor": 5
}
