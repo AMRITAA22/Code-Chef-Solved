{
 "cells": [
  {
   "cell_type": "code",
   "execution_count": null,
   "id": "cefb31d1",
   "metadata": {},
   "outputs": [],
   "source": [
    "# cook your dish here\n",
    "t = int(input())\n",
    "for i in range(0,t):\n",
    "    N,M = map(int,input().split())\n",
    "    A = list(map(int,input().split()))\n",
    "    te = 0\n",
    "    for j in range(N):\n",
    "        temp = abs(A[j]-1)\n",
    "        tem = abs(A[j]-M)\n",
    "        te += max(temp,tem)\n",
    "    print(te)"
   ]
  }
 ],
 "metadata": {
  "language_info": {
   "name": "python"
  }
 },
 "nbformat": 4,
 "nbformat_minor": 5
}
