{
 "cells": [
  {
   "cell_type": "code",
   "execution_count": null,
   "id": "0f33182d",
   "metadata": {},
   "outputs": [],
   "source": [
    "def solve():\n",
    "    x, y, z = map(int, input().split())\n",
    "    \n",
    "    if (y * z) % x == 0:\n",
    "        print(y * z, x)\n",
    "        return\n",
    "    if (x * z) % y == 0:\n",
    "        print(x * z, y)\n",
    "        return\n",
    "    if (x * y) % z == 0:\n",
    "        print(x * y, z)\n",
    "        return\n",
    "    print(\"-1\")\n",
    "\n",
    "t = int(input())\n",
    "for _ in range(t):\n",
    "    solve()"
   ]
  }
 ],
 "metadata": {
  "language_info": {
   "name": "python"
  }
 },
 "nbformat": 4,
 "nbformat_minor": 5
}
