{
 "cells": [
  {
   "cell_type": "code",
   "execution_count": null,
   "id": "e3212c4e",
   "metadata": {},
   "outputs": [],
   "source": [
    "# cook your dish here\n",
    "t=int(input())\n",
    "for _ in range(t):\n",
    "    x1,y1,x2,y2=map(int,input().split())\n",
    "    if y1==y2 or x1==x2:\n",
    "        print(\"YES\")\n",
    "    else:\n",
    "        print(\"NO\")"
   ]
  }
 ],
 "metadata": {
  "language_info": {
   "name": "python"
  }
 },
 "nbformat": 4,
 "nbformat_minor": 5
}
