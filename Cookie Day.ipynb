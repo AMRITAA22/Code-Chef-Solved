{
 "cells": [
  {
   "cell_type": "code",
   "execution_count": null,
   "id": "3f4bca94",
   "metadata": {},
   "outputs": [],
   "source": [
    "# cook your dish here\n",
    "for _ in range(int(input())):\n",
    "    N,K=map(int,input().split())\n",
    "    jars=list(map(int,input().split()))\n",
    "    jars=sorted(jars)\n",
    "    ans=[]\n",
    "    if jars[-1]<K:\n",
    "        ans.append(-1)\n",
    "    for i in range(N):\n",
    "        if jars[i]>=K:\n",
    "            ans.append(jars[i]%K)\n",
    "    print(min(ans))\n",
    "            \n",
    "    \n",
    "    \n",
    "    \n",
    "            \n",
    "            \n",
    "            \n",
    "                \n",
    "            "
   ]
  }
 ],
 "metadata": {
  "language_info": {
   "name": "python"
  }
 },
 "nbformat": 4,
 "nbformat_minor": 5
}
