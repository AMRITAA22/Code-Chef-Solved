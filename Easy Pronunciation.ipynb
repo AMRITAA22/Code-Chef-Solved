{
 "cells": [
  {
   "cell_type": "code",
   "execution_count": null,
   "id": "52a24309",
   "metadata": {},
   "outputs": [],
   "source": [
    "for _ in range(int(input())):\n",
    "    n = int(input())\n",
    "    s = input()\n",
    "    if n<=3:\n",
    "        print(\"YES\")\n",
    "    else:\n",
    "        for i in range(n-3):\n",
    "            string = s[i:i+4]\n",
    "            vow1 = 'a' in string or 'e' in string or 'i' in string \n",
    "            vow2 = 'o' in string or 'u' in string \n",
    "            if not vow1 and not vow2:\n",
    "                print(\"NO\")\n",
    "                break \n",
    "        else:\n",
    "            print(\"YES\")\n",
    "        \n",
    "    \n",
    "        "
   ]
  }
 ],
 "metadata": {
  "language_info": {
   "name": "python"
  }
 },
 "nbformat": 4,
 "nbformat_minor": 5
}
