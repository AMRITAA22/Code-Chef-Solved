{
 "cells": [
  {
   "cell_type": "code",
   "execution_count": null,
   "id": "77d03473",
   "metadata": {
    "vscode": {
     "languageId": "plaintext"
    }
   },
   "outputs": [],
   "source": [
    "n = int(input())\n",
    "\n",
    "if n % 3 == 0:\n",
    "    print(n)\n",
    "else:\n",
    "    lower_multiple = n - (n % 3)\n",
    "    upper_multiple = n + (3 - (n % 3))\n",
    "    \n",
    "    if abs(n - lower_multiple) <= abs(n - upper_multiple):\n",
    "        print(lower_multiple)\n",
    "    else:\n",
    "        print(upper_multiple)"
   ]
  }
 ],
 "metadata": {
  "language_info": {
   "name": "python"
  }
 },
 "nbformat": 4,
 "nbformat_minor": 5
}
