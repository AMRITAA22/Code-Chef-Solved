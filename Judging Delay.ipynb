{
 "cells": [
  {
   "cell_type": "code",
   "execution_count": null,
   "id": "a19081ec",
   "metadata": {},
   "outputs": [],
   "source": [
    "# cook your dish here\n",
    "T=int(input())\n",
    "for i in range(T):\n",
    "    N=int(input())\n",
    "    count=0\n",
    "    for j in range(N):\n",
    "        S,J=list(map(int,input().split()))\n",
    "        time_taken_to_judge=J-S\n",
    "        if(time_taken_to_judge>5):\n",
    "            count+=1 \n",
    "    print(count)\n",
    "    "
   ]
  }
 ],
 "metadata": {
  "language_info": {
   "name": "python"
  }
 },
 "nbformat": 4,
 "nbformat_minor": 5
}
