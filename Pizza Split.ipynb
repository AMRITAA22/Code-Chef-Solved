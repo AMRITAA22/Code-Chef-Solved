{
 "cells": [
  {
   "cell_type": "code",
   "execution_count": null,
   "id": "7e4ab231",
   "metadata": {},
   "outputs": [],
   "source": [
    "\n",
    "# cook your dish here\n",
    "n=int(input())\n",
    "if n%2==0:\n",
    "    print(1)\n",
    "else:\n",
    "    print(2)"
   ]
  }
 ],
 "metadata": {
  "language_info": {
   "name": "python"
  }
 },
 "nbformat": 4,
 "nbformat_minor": 5
}
