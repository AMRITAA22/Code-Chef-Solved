{
 "cells": [
  {
   "cell_type": "code",
   "execution_count": null,
   "id": "243e164d",
   "metadata": {},
   "outputs": [],
   "source": [
    "# cook your dish here\n",
    "t=int(input())\n",
    "for _ in range(t):\n",
    "    a,b,c,d=map(int,input().split())\n",
    "    if a+b+c+d==0:\n",
    "        print(\"IN\")\n",
    "    else:\n",
    "        print(\"OUT\")"
   ]
  }
 ],
 "metadata": {
  "language_info": {
   "name": "python"
  }
 },
 "nbformat": 4,
 "nbformat_minor": 5
}
