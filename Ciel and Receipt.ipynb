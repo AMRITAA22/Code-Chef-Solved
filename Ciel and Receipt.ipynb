{
 "cells": [
  {
   "cell_type": "code",
   "execution_count": null,
   "id": "5a08002e",
   "metadata": {},
   "outputs": [],
   "source": [
    "# cook your dish here\n",
    "t=int(input())\n",
    "for _ in range(t):\n",
    "    p=int(input())\n",
    "    ans=0\n",
    "    for i in range(11,-1,-1):\n",
    "        val=2**i\n",
    "        ans+=p//val\n",
    "        p%=val\n",
    "    print(ans)"
   ]
  }
 ],
 "metadata": {
  "language_info": {
   "name": "python"
  }
 },
 "nbformat": 4,
 "nbformat_minor": 5
}
