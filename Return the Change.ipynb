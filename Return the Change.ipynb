{
 "cells": [
  {
   "cell_type": "code",
   "execution_count": null,
   "id": "9ceaf92a",
   "metadata": {},
   "outputs": [],
   "source": [
    "import math\n",
    "t=int(input())\n",
    "while t!=0:\n",
    "    n=int(input())\n",
    "    if n%10>=5:\n",
    "        r= math.ceil(n/10)*10\n",
    "    else:\n",
    "        r=math.floor(n/10)*10\n",
    "    print(100-r)\n",
    "    t-=1\n",
    "    "
   ]
  }
 ],
 "metadata": {
  "language_info": {
   "name": "python"
  }
 },
 "nbformat": 4,
 "nbformat_minor": 5
}
