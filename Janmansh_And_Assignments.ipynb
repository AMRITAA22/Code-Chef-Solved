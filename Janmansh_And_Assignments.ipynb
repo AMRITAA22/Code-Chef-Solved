{
 "cells": [
  {
   "cell_type": "code",
   "execution_count": null,
   "id": "e74dfff0",
   "metadata": {},
   "outputs": [],
   "source": [
    "\n",
    "# cook your dish here\n",
    "t=int(input())\n",
    "for _ in range(t):\n",
    "    x=int(input())\n",
    "    if x+3<=10:\n",
    "        print(\"yes\")\n",
    "    else:\n",
    "        print(\"no\")"
   ]
  }
 ],
 "metadata": {
  "language_info": {
   "name": "python"
  }
 },
 "nbformat": 4,
 "nbformat_minor": 5
}
