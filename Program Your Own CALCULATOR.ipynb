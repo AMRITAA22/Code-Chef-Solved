{
 "cells": [
  {
   "cell_type": "code",
   "execution_count": null,
   "id": "0c4860fa",
   "metadata": {},
   "outputs": [],
   "source": [
    "# cook your dish here\n",
    "a=int(input())\n",
    "b=int(input())\n",
    "c=input()\n",
    "if c==\"+\":\n",
    "    print(a+b)\n",
    "elif c==\"-\":\n",
    "    print(a-b)\n",
    "elif c==\"*\":\n",
    "    print(a*b)\n",
    "elif c==\"/\":\n",
    "    print(a/b)\n",
    "else:\n",
    "    print(0)    "
   ]
  }
 ],
 "metadata": {
  "language_info": {
   "name": "python"
  }
 },
 "nbformat": 4,
 "nbformat_minor": 5
}
