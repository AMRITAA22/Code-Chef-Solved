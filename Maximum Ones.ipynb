{
 "cells": [
  {
   "cell_type": "code",
   "execution_count": null,
   "id": "a1405d3a",
   "metadata": {},
   "outputs": [],
   "source": [
    "# cook your dish here\n",
    "t=int(input())\n",
    "for _ in range(t):\n",
    "    n,k=map(int,input().split())\n",
    "    s = input()\n",
    "    last_one = -1\n",
    "    for i in range(n):\n",
    "        if s[i] == '1':\n",
    "            last_one = i\n",
    "    if last_one == -1:\n",
    "        print(0)\n",
    "        continue\n",
    "    zeros_before = 0\n",
    "    for i in range(last_one):\n",
    "        if s[i] == '0':\n",
    "            zeros_before += 1\n",
    "    ones = 0\n",
    "    for i in range(n):\n",
    "        if s[i] == '1':\n",
    "            ones += 1\n",
    "    print(ones + min(k, zeros_before))"
   ]
  }
 ],
 "metadata": {
  "language_info": {
   "name": "python"
  }
 },
 "nbformat": 4,
 "nbformat_minor": 5
}
