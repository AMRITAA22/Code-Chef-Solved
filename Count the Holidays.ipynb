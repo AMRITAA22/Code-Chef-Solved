{
 "cells": [
  {
   "cell_type": "code",
   "execution_count": null,
   "id": "5b1c323b",
   "metadata": {},
   "outputs": [],
   "source": [
    "# cook your dish here\n",
    "t = int(input())\n",
    "s=[6,13,20,27,7,14,21,28]\n",
    "for i in range(t):\n",
    "    count=0\n",
    "    n = int(input())\n",
    "    arr=list(map(int,input().split()))\n",
    "    for j in arr:\n",
    "        if j not in s:\n",
    "            count+=1\n",
    "    print(count+8)"
   ]
  }
 ],
 "metadata": {
  "language_info": {
   "name": "python"
  }
 },
 "nbformat": 4,
 "nbformat_minor": 5
}
