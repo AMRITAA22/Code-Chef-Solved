{
 "cells": [
  {
   "cell_type": "code",
   "execution_count": null,
   "id": "87c649bd",
   "metadata": {},
   "outputs": [],
   "source": [
    "# cook your dish here\n",
    "n,q=map(int,input().split())\n",
    "a=list(map(int,input().split()))\n",
    "b=list(map(int,input().split()))\n",
    "for i in range(q):\n",
    "    l,r=map(int,input().split())\n",
    "    s=0\n",
    "    for j in range(l-1,r):\n",
    "        s+=a[j]*b[j]\n",
    "    print(s)"
   ]
  }
 ],
 "metadata": {
  "language_info": {
   "name": "python"
  }
 },
 "nbformat": 4,
 "nbformat_minor": 5
}
