{
 "cells": [
  {
   "cell_type": "code",
   "execution_count": null,
   "id": "570badb0",
   "metadata": {},
   "outputs": [],
   "source": [
    "# cook your dish here\n",
    "def trail(n):\n",
    "    count=0\n",
    "    while(n>0):\n",
    "        count+=n//5\n",
    "        n//=5 \n",
    "    print(count)\n",
    "t=int(input())\n",
    "while(t):\n",
    "    n=int(input())\n",
    "    trail(n)\n",
    "    t-=1 "
   ]
  }
 ],
 "metadata": {
  "language_info": {
   "name": "python"
  }
 },
 "nbformat": 4,
 "nbformat_minor": 5
}
