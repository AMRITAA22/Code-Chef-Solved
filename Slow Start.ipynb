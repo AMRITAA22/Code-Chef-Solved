{
 "cells": [
  {
   "cell_type": "code",
   "execution_count": null,
   "id": "ea51859c",
   "metadata": {},
   "outputs": [],
   "source": [
    "# cook your dish here\n",
    "for i in range(int(input())):\n",
    "    x,h=map(int,input().split())\n",
    "    y=x//2\n",
    "    c=0\n",
    "    while h>0:\n",
    "        if c>=5:\n",
    "            h-=x\n",
    "        else:\n",
    "            h-=y\n",
    "        c+=1\n",
    "    print(c)"
   ]
  }
 ],
 "metadata": {
  "language_info": {
   "name": "python"
  }
 },
 "nbformat": 4,
 "nbformat_minor": 5
}
