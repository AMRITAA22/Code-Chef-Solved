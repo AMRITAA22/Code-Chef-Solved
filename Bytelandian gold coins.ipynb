{
 "cells": [
  {
   "cell_type": "code",
   "execution_count": null,
   "id": "f155b3e8",
   "metadata": {},
   "outputs": [],
   "source": [
    "# cook your dish here\n",
    "def exchange_coin(n, memo={}):\n",
    "    if n == 0:\n",
    "        return 0\n",
    "    if n in memo:\n",
    "        return memo[n]\n",
    "    exchange_value = exchange_coin(n//2) + exchange_coin(n//3) + exchange_coin(n//4)\n",
    "    memo[n] = max(n, exchange_value)\n",
    "    return memo[n]\n",
    "while True:\n",
    "    try:\n",
    "        n = int(input())\n",
    "        print(exchange_coin(n))\n",
    "    except EOFError:\n",
    "        break"
   ]
  }
 ],
 "metadata": {
  "language_info": {
   "name": "python"
  }
 },
 "nbformat": 4,
 "nbformat_minor": 5
}
