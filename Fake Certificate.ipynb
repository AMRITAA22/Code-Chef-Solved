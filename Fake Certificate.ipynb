{
 "cells": [
  {
   "cell_type": "code",
   "execution_count": null,
   "id": "ce54b996",
   "metadata": {},
   "outputs": [],
   "source": [
    "# cook your dish here\n",
    "for _ in range(int(input())):\n",
    "    N = int(input())\n",
    "    S = input()\n",
    "    cur = 0\n",
    "    high = 0\n",
    "    for i in S:\n",
    "        if i == '0':\n",
    "            cur += 1 \n",
    "        else:\n",
    "            high = max(high, cur)\n",
    "            cur =0\n",
    "    high = max(high, cur)\n",
    "    print(S.count('1')+high)"
   ]
  }
 ],
 "metadata": {
  "language_info": {
   "name": "python"
  }
 },
 "nbformat": 4,
 "nbformat_minor": 5
}
