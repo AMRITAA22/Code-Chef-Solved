{
 "cells": [
  {
   "cell_type": "code",
   "execution_count": null,
   "id": "868a9747",
   "metadata": {},
   "outputs": [],
   "source": [
    "# cook your dish here\n",
    "for i in range(int(input())):\n",
    "    a=int(input())\n",
    "    b=list(map(int,input().split()))\n",
    "    res=[]\n",
    "    for i in range(a):\n",
    "        for j in range(i+1,a+1):\n",
    "            if sum(b[i:j])%2==0:\n",
    "                res.append(len(b[i:j]))\n",
    "    if(res):\n",
    "        print(max(res))\n",
    "    else:\n",
    "        print(0)"
   ]
  }
 ],
 "metadata": {
  "kernelspec": {
   "display_name": "Python 3",
   "language": "python",
   "name": "python3"
  },
  "language_info": {
   "name": "python",
   "version": "3.12.7"
  }
 },
 "nbformat": 4,
 "nbformat_minor": 5
}
