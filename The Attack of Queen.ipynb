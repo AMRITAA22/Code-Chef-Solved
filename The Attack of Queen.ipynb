{
 "cells": [
  {
   "cell_type": "code",
   "execution_count": null,
   "id": "4d358294",
   "metadata": {},
   "outputs": [],
   "source": [
    "\n",
    "# cook your dish here\n",
    "for i in range(int(input())):\n",
    "    n,x,y=map(int,input().split())\n",
    "    print((2*(n-1))+min(x-1,y-1)+min(x-1,n-y)+min(n-x,y-1)+min(n-x,n-y))"
   ]
  }
 ],
 "metadata": {
  "language_info": {
   "name": "python"
  }
 },
 "nbformat": 4,
 "nbformat_minor": 5
}
