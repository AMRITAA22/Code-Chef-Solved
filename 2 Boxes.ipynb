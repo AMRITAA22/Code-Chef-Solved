{
 "cells": [
  {
   "cell_type": "code",
   "execution_count": null,
   "id": "96f0a26e",
   "metadata": {},
   "outputs": [],
   "source": [
    "for _ in range(int(input())):\n",
    "    x, y, k = map(int, input().split())\n",
    "    change= abs(x - y)  \n",
    "    if change==k:\n",
    "        print(0)\n",
    "    elif (change-k)%2==0:\n",
    "        print(abs(change-k)//2)\n",
    "    else:\n",
    "        print(-1) "
   ]
  }
 ],
 "metadata": {
  "language_info": {
   "name": "python"
  }
 },
 "nbformat": 4,
 "nbformat_minor": 5
}
