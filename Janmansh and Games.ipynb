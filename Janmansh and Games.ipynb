{
 "cells": [
  {
   "cell_type": "code",
   "execution_count": null,
   "id": "9e19f2de",
   "metadata": {},
   "outputs": [],
   "source": [
    "# cook your dish here\n",
    "t=int(input())\n",
    "for _ in range(t):\n",
    "    x,y=map(int,input().split())\n",
    "    if y % 2 == 0: \n",
    "        if x % 2 == 0:\n",
    "            print(\"Janmansh\")\n",
    "        else:\n",
    "            print(\"Jay\")\n",
    "    else:\n",
    "        if x % 2 == 0:\n",
    "            print(\"Jay\")\n",
    "        else:\n",
    "            print(\"Janmansh\")\n"
   ]
  }
 ],
 "metadata": {
  "language_info": {
   "name": "python"
  }
 },
 "nbformat": 4,
 "nbformat_minor": 5
}
