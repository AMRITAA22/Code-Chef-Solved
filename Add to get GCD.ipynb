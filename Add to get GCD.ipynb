{
 "cells": [
  {
   "cell_type": "code",
   "execution_count": null,
   "id": "cb989133",
   "metadata": {},
   "outputs": [],
   "source": [
    "# cook your dish here\n",
    "from math import gcd\n",
    "for _ in range(int(input())):\n",
    "    x,y =map(int, input().split())\n",
    "    if gcd(x, y) > 1:\n",
    "        print(0)\n",
    "    else:\n",
    "        if gcd(x+1, y) > 1 or gcd(y+1, x) > 1:\n",
    "            print(1)\n",
    "        else:\n",
    "            print(2)"
   ]
  }
 ],
 "metadata": {
  "language_info": {
   "name": "python"
  }
 },
 "nbformat": 4,
 "nbformat_minor": 5
}
