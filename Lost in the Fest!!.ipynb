{
 "cells": [
  {
   "cell_type": "code",
   "execution_count": null,
   "id": "89b25b7b",
   "metadata": {},
   "outputs": [],
   "source": [
    "# cook your dish here\n",
    "t=int(input())\n",
    "for _ in range(t):\n",
    "    n=int(input())\n",
    "    h=list(map(int,input().split()))\n",
    "    sec = 0\n",
    "    for i in range(n-1):\n",
    "        if h[i] >= h[n-1]:\n",
    "            sec = n - (i + 1)\n",
    "            break\n",
    "    print(sec)"
   ]
  }
 ],
 "metadata": {
  "language_info": {
   "name": "python"
  }
 },
 "nbformat": 4,
 "nbformat_minor": 5
}
