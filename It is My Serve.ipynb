{
 "cells": [
  {
   "cell_type": "code",
   "execution_count": null,
   "id": "835461de",
   "metadata": {},
   "outputs": [],
   "source": [
    "# cook your dish here\n",
    "t=int(input())\n",
    "for _ in range(t):\n",
    "    p,q=map(int,input().split())\n",
    "    if ((p+q)//2)%2==0:\n",
    "        print(\"alice\")\n",
    "    else:\n",
    "        print(\"bob\")"
   ]
  }
 ],
 "metadata": {
  "language_info": {
   "name": "python"
  }
 },
 "nbformat": 4,
 "nbformat_minor": 5
}
