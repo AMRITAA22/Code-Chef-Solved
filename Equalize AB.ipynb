{
 "cells": [
  {
   "cell_type": "code",
   "execution_count": null,
   "id": "aa3b6456",
   "metadata": {},
   "outputs": [],
   "source": [
    "# cook your dish here\n",
    "for _ in range(int(input())):\n",
    "    a,b,x = map(int,input().split())\n",
    "    \n",
    "    difference = abs(a-b)\n",
    "    \n",
    "    if difference%2==0:\n",
    "        half_difference = difference/2\n",
    "        if half_difference%x==0:\n",
    "            print('YES')\n",
    "        else:\n",
    "            print('NO')\n",
    "    else:\n",
    "        print('NO')"
   ]
  }
 ],
 "metadata": {
  "language_info": {
   "name": "python"
  }
 },
 "nbformat": 4,
 "nbformat_minor": 5
}
