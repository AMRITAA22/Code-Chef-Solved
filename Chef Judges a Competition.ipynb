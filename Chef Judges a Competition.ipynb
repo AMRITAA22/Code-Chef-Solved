{
 "cells": [
  {
   "cell_type": "code",
   "execution_count": null,
   "id": "a65d5763",
   "metadata": {},
   "outputs": [],
   "source": [
    "# cook your dish here\n",
    "t=int(input())\n",
    "for _ in range(t):\n",
    "    n=int(input())\n",
    "    a=list(map(int,input().split()))\n",
    "    b=list(map(int,input().split()))\n",
    "    sum_a=sum(a)-max(a)\n",
    "    sum_b=sum(b)-max(b)\n",
    "    if sum_a<sum_b:\n",
    "        print(\"Alice\")\n",
    "    elif sum_b<sum_a:\n",
    "        print(\"Bob\")\n",
    "    else:\n",
    "        print(\"Draw\")"
   ]
  }
 ],
 "metadata": {
  "language_info": {
   "name": "python"
  }
 },
 "nbformat": 4,
 "nbformat_minor": 5
}
