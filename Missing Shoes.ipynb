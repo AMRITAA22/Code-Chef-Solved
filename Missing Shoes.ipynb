{
 "cells": [
  {
   "cell_type": "code",
   "execution_count": null,
   "id": "e95b4f6d",
   "metadata": {},
   "outputs": [],
   "source": [
    "# cook your dish here\n",
    "l,r=map(int,input().split())\n",
    "print(abs(l-r))"
   ]
  }
 ],
 "metadata": {
  "language_info": {
   "name": "python"
  }
 },
 "nbformat": 4,
 "nbformat_minor": 5
}
