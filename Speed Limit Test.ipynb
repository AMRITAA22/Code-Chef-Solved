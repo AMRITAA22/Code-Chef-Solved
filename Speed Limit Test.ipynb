{
 "cells": [
  {
   "cell_type": "code",
   "execution_count": null,
   "id": "ddf8ae1c",
   "metadata": {},
   "outputs": [],
   "source": [
    "# cook your dish here\n",
    "t=int(input())\n",
    "for _ in range(t):\n",
    "    a,x,b,y=map(int,input().split())\n",
    "    s_a=a/x \n",
    "    s_b=b/y  \n",
    "    if s_a>s_b:\n",
    "        print(\"alice\")\n",
    "    elif s_b==s_a:\n",
    "        print(\"equal\")\n",
    "    else:\n",
    "        print(\"bob\")"
   ]
  }
 ],
 "metadata": {
  "language_info": {
   "name": "python"
  }
 },
 "nbformat": 4,
 "nbformat_minor": 5
}
