{
 "cells": [
  {
   "cell_type": "code",
   "execution_count": null,
   "id": "800862a6",
   "metadata": {},
   "outputs": [],
   "source": [
    "# cook your dish here\n",
    "t=int(input())\n",
    "for _ in range(t):\n",
    "    a,b,c=map(int,input().split())\n",
    "    if a+c>=b:\n",
    "        print(a+c)\n",
    "    else:\n",
    "        print(b)"
   ]
  }
 ],
 "metadata": {
  "language_info": {
   "name": "python"
  }
 },
 "nbformat": 4,
 "nbformat_minor": 5
}
