{
 "cells": [
  {
   "cell_type": "code",
   "execution_count": null,
   "id": "d70ad642",
   "metadata": {},
   "outputs": [],
   "source": [
    "# cook your dish here\n",
    "for t in range(int(input())):\n",
    "    x1, y1, z1 = map(int, input().split())\n",
    "    x2, y2, z2 = map(int, input().split())\n",
    "    s1 = x1+y1+z1\n",
    "    s2 = x2+y2+z2\n",
    "    if s1>s2:\n",
    "        print(\"Dragon\")\n",
    "    elif s2>s1:\n",
    "        print(\"Sloth\")\n",
    "    elif (s1==s2 and x1>x2) or (s1==s2 and x1==x2 and y1>y2):\n",
    "        print(\"Dragon\")\n",
    "    elif (s1==s2 and x2>x1) or (s1==s2 and x1==x2 and y2>y1):\n",
    "        print(\"Sloth\")\n",
    "    else:\n",
    "        print(\"Tie\")\n",
    "    "
   ]
  }
 ],
 "metadata": {
  "language_info": {
   "name": "python"
  }
 },
 "nbformat": 4,
 "nbformat_minor": 5
}
