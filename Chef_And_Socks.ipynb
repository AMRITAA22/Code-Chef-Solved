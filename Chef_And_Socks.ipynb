{
 "cells": [
  {
   "cell_type": "code",
   "execution_count": null,
   "id": "564834e6",
   "metadata": {},
   "outputs": [],
   "source": [
    "# cook your dish here\n",
    "a,x,y=map(int,input().split())\n",
    "c=x+y\n",
    "if a<=c:\n",
    "    print(\"yes\")\n",
    "else:\n",
    "    print(\"no\")"
   ]
  }
 ],
 "metadata": {
  "language_info": {
   "name": "python"
  }
 },
 "nbformat": 4,
 "nbformat_minor": 5
}
