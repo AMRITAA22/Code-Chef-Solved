{
 "cells": [
  {
   "cell_type": "code",
   "execution_count": null,
   "id": "cf795a1f",
   "metadata": {},
   "outputs": [],
   "source": [
    "def solve():\n",
    "    n = int(input())\n",
    "    min_cost = float('inf')  # Initialize with a very large value\n",
    "    found = False\n",
    "\n",
    "    for _ in range(n):\n",
    "        a, b = map(int, input().split())\n",
    "        if a >= 7:\n",
    "            min_cost = min(min_cost, b)\n",
    "            found = True\n",
    "\n",
    "    if found:\n",
    "        print(min_cost)\n",
    "    else:\n",
    "        print(-1)\n",
    "\n",
    "t = int(input())\n",
    "for _ in range(t):\n",
    "    solve()"
   ]
  }
 ],
 "metadata": {
  "language_info": {
   "name": "python"
  }
 },
 "nbformat": 4,
 "nbformat_minor": 5
}
