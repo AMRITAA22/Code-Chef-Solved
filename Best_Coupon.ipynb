{
 "cells": [
  {
   "cell_type": "code",
   "execution_count": null,
   "id": "adea30f5",
   "metadata": {},
   "outputs": [],
   "source": [
    "# cook your dish here\n",
    "t=int(input())\n",
    "for i in range(t):\n",
    "    x=int(input())\n",
    "    if x>=1000:\n",
    "        print(x//10)\n",
    "    else:\n",
    "        print(100)"
   ]
  }
 ],
 "metadata": {
  "language_info": {
   "name": "python"
  }
 },
 "nbformat": 4,
 "nbformat_minor": 5
}
