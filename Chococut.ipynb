{
 "cells": [
  {
   "cell_type": "code",
   "execution_count": null,
   "id": "fb5debe7",
   "metadata": {},
   "outputs": [],
   "source": [
    "# cook your dish here\n",
    "from math import ceil\n",
    "t=int(input())\n",
    "for _ in range(t):\n",
    "    n,m,k=map(int,input().split())\n",
    "    nside = n - ceil(k/m)      \n",
    "    mside = m - ceil(k/n)      \n",
    "    print(max(n*mside, m*nside))"
   ]
  }
 ],
 "metadata": {
  "language_info": {
   "name": "python"
  }
 },
 "nbformat": 4,
 "nbformat_minor": 5
}
