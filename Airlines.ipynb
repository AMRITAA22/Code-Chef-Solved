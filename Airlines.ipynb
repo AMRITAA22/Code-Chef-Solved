{
 "cells": [
  {
   "cell_type": "code",
   "execution_count": null,
   "id": "84ec94bb",
   "metadata": {},
   "outputs": [],
   "source": [
    "import math\n",
    "\n",
    "t = int(input())\n",
    "for _ in range(t):\n",
    "    x, n = map(int, input().split())\n",
    "    needed_planes = math.ceil(n / 100)\n",
    "    \n",
    "    if needed_planes > x:\n",
    "        print(needed_planes - x)\n",
    "    else:\n",
    "        print(0)"
   ]
  }
 ],
 "metadata": {
  "language_info": {
   "name": "python"
  }
 },
 "nbformat": 4,
 "nbformat_minor": 5
}
