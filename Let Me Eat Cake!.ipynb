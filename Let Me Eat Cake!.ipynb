{
 "cells": [
  {
   "cell_type": "code",
   "execution_count": null,
   "id": "6dc9d2ac",
   "metadata": {},
   "outputs": [],
   "source": [
    "# cook your dish here\n",
    "import math\n",
    "\n",
    "t=int(input())\n",
    "for _ in range(t):\n",
    "    a, b = map(int, input().split())\n",
    "    total_eaten = 0\n",
    "    while a != b:\n",
    "        if a > b:\n",
    "            eaten = math.ceil(a / 2)\n",
    "            total_eaten += eaten\n",
    "            a -= eaten\n",
    "        else:\n",
    "            eaten = math.ceil(b / 2)\n",
    "            total_eaten += eaten\n",
    "            b -= eaten\n",
    "    print(total_eaten)"
   ]
  }
 ],
 "metadata": {
  "language_info": {
   "name": "python"
  }
 },
 "nbformat": 4,
 "nbformat_minor": 5
}
