{
 "cells": [
  {
   "cell_type": "code",
   "execution_count": null,
   "id": "0f14bdb6",
   "metadata": {},
   "outputs": [],
   "source": [
    "x=int(input())\n",
    "print(x//6)"
   ]
  }
 ],
 "metadata": {
  "language_info": {
   "name": "python"
  }
 },
 "nbformat": 4,
 "nbformat_minor": 5
}
