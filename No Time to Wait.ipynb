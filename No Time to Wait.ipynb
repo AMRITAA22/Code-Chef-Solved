{
 "cells": [
  {
   "cell_type": "code",
   "execution_count": null,
   "id": "236d6ef6",
   "metadata": {},
   "outputs": [],
   "source": [
    "N, H, x = map(int, input().split())\n",
    "T = list(map(int, input().split()))\n",
    "\n",
    "if any(T[i] + x == H for i in range(N)):\n",
    "    print(\"YES\")\n",
    "else:\n",
    "    print(\"NO\")"
   ]
  }
 ],
 "metadata": {
  "language_info": {
   "name": "python"
  }
 },
 "nbformat": 4,
 "nbformat_minor": 5
}
