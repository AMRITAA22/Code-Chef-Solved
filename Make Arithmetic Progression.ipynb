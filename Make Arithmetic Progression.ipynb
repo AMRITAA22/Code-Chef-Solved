{
 "cells": [
  {
   "cell_type": "code",
   "execution_count": null,
   "id": "491343c6",
   "metadata": {},
   "outputs": [],
   "source": [
    "# cook your dish here\n",
    "t=int(input())\n",
    "for i in range(t):\n",
    "    x,y,z=map(int,input().split())\n",
    "    if y-x==z-y:\n",
    "        print(\"0\")\n",
    "    else:\n",
    "        print(\"1\")"
   ]
  }
 ],
 "metadata": {
  "language_info": {
   "name": "python"
  }
 },
 "nbformat": 4,
 "nbformat_minor": 5
}
