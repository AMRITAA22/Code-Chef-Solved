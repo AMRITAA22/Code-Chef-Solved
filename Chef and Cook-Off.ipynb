{
 "cells": [
  {
   "cell_type": "code",
   "execution_count": null,
   "id": "8c745395",
   "metadata": {},
   "outputs": [],
   "source": [
    "# cook your dish here\n",
    "t=int(input())\n",
    "for _ in range(t):\n",
    "    a,b,c,d,e=map(int,input().split())\n",
    "    if a+b+c+d+e==0:\n",
    "        print(\"Beginner\")\n",
    "    elif a+b+c+d+e==1:\n",
    "        print(\"Junior Developer\")\n",
    "    elif a+b+c+d+e==2:\n",
    "        print(\"Middle Developer\")\n",
    "    elif a+b+c+d+e==3:\n",
    "        print(\"Senior Developer\")\n",
    "    elif a+b+c+d+e==4:\n",
    "        print(\"Hacker\")\n",
    "    else:\n",
    "        print(\"Jeff Dean\")"
   ]
  }
 ],
 "metadata": {
  "language_info": {
   "name": "python"
  }
 },
 "nbformat": 4,
 "nbformat_minor": 5
}
