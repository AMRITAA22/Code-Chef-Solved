{
 "cells": [
  {
   "cell_type": "code",
   "execution_count": null,
   "id": "71e4fef9",
   "metadata": {},
   "outputs": [],
   "source": [
    "# cook your dish here\n",
    "for i in range(int(input())):\n",
    "    a=int(input())\n",
    "    s=input()\n",
    "    c=s.count('1')\n",
    "    if(c%2==0):\n",
    "        print(\"YES\")\n",
    "    else:\n",
    "        print(\"NO\")"
   ]
  }
 ],
 "metadata": {
  "language_info": {
   "name": "python"
  }
 },
 "nbformat": 4,
 "nbformat_minor": 5
}
