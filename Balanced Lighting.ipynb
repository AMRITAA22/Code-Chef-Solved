{
 "cells": [
  {
   "cell_type": "code",
   "execution_count": null,
   "id": "d6f5fa40",
   "metadata": {},
   "outputs": [],
   "source": [
    "# cook your dish here\n",
    "t=int(input())\n",
    "for _ in range(t):\n",
    "    n=int(input())\n",
    "    c=list(map(int,input().split()))\n",
    "    if n % 2 != 0:\n",
    "        print(\"No\")\n",
    "        continue\n",
    "    red_count = c.count(1)\n",
    "    blue_count = c.count(2)\n",
    "    target_count=n//2\n",
    "    if red_count<=target_count and blue_count<=target_count:\n",
    "        print(\"yes\")\n",
    "    else:\n",
    "        print(\"no\")"
   ]
  }
 ],
 "metadata": {
  "language_info": {
   "name": "python"
  }
 },
 "nbformat": 4,
 "nbformat_minor": 5
}
