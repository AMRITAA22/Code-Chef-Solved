{
 "cells": [
  {
   "cell_type": "code",
   "execution_count": null,
   "id": "af182894",
   "metadata": {},
   "outputs": [],
   "source": [
    "# cook your dish here\n",
    "s=input()\n",
    "print(s[6])"
   ]
  }
 ],
 "metadata": {
  "language_info": {
   "name": "python"
  }
 },
 "nbformat": 4,
 "nbformat_minor": 5
}
