{
 "cells": [
  {
   "cell_type": "code",
   "execution_count": null,
   "id": "ab810118",
   "metadata": {},
   "outputs": [],
   "source": [
    "# cook your dish here\n",
    "t=int(input())\n",
    "for _ in range(t):\n",
    "    n=int(input())\n",
    "    binary_n=bin(n)\n",
    "    sum_of_b_n=binary_n.count('1')\n",
    "    if sum_of_b_n%2==0:\n",
    "        print(\"even\")\n",
    "    else:\n",
    "        print(\"odd\")"
   ]
  }
 ],
 "metadata": {
  "language_info": {
   "name": "python"
  }
 },
 "nbformat": 4,
 "nbformat_minor": 5
}
