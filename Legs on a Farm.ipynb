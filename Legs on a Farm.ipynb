{
 "cells": [
  {
   "cell_type": "code",
   "execution_count": null,
   "id": "27c12f0b",
   "metadata": {},
   "outputs": [],
   "source": [
    "# cook your dish here\n",
    "def legs():\n",
    "    n=int(input())\n",
    "    if n%4==0:\n",
    "        print(n//4)\n",
    "    else:\n",
    "        print(n//4+1)\n",
    "\n",
    "\n",
    "t=int(input())\n",
    "for _ in range(t):\n",
    "    legs()"
   ]
  }
 ],
 "metadata": {
  "language_info": {
   "name": "python"
  }
 },
 "nbformat": 4,
 "nbformat_minor": 5
}
