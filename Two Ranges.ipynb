{
 "cells": [
  {
   "cell_type": "code",
   "execution_count": null,
   "id": "b8d21acb",
   "metadata": {},
   "outputs": [],
   "source": [
    "# cook your dish here\n",
    "for i in range(int(input())):\n",
    "    a,b,c,d=map(int,input().split())\n",
    "    lst=[]\n",
    "    for j in range(a,b+1):\n",
    "        lst.append(j)\n",
    "    for k in range(c,d+1):\n",
    "        if(k not in lst):\n",
    "            lst.append(k)\n",
    "    print(len(lst))"
   ]
  }
 ],
 "metadata": {
  "language_info": {
   "name": "python"
  }
 },
 "nbformat": 4,
 "nbformat_minor": 5
}
