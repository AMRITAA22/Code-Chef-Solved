{
 "cells": [
  {
   "cell_type": "code",
   "execution_count": null,
   "id": "59916b80",
   "metadata": {},
   "outputs": [],
   "source": [
    "# cook your dish here\n",
    "for i in range(int(input())):\n",
    "    n=int(input())\n",
    "    att1=list(map(int,input().split()))\n",
    "    def1=list(map(int,input().split()))\n",
    "    \n",
    "    att2=list(map(int,input().split()))\n",
    "    def2=list(map(int,input().split()))\n",
    "    \n",
    "    #for team1\n",
    "    attack1=sum(att1)\n",
    "    defence1=sum(def1)\n",
    "    \n",
    "    #for team2\n",
    "    attack2=sum(att2)\n",
    "    defence2=sum(def2)\n",
    "    \n",
    "    if attack1>attack2 and defence1>defence2:\n",
    "        print('A')\n",
    "    \n",
    "    elif attack2>attack1 and defence2>defence1:\n",
    "        print('P')\n",
    "\n",
    "    else:\n",
    "        print('DRAW')"
   ]
  }
 ],
 "metadata": {
  "language_info": {
   "name": "python"
  }
 },
 "nbformat": 4,
 "nbformat_minor": 5
}
