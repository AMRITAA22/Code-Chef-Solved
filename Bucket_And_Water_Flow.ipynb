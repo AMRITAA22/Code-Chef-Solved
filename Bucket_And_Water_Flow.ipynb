{
 "cells": [
  {
   "cell_type": "code",
   "execution_count": null,
   "id": "4fa896d6",
   "metadata": {},
   "outputs": [],
   "source": [
    "# cook your dish here\n",
    "t=int(input())\n",
    "for i in range(t):\n",
    "    w,x,y,z=map(int,input().split())\n",
    "    a=w+y*z \n",
    "    if a==x:\n",
    "        print(\"filled\")\n",
    "    elif a<x:\n",
    "        print(\"unfilled\")\n",
    "    else:\n",
    "        print(\"overflow\")"
   ]
  }
 ],
 "metadata": {
  "language_info": {
   "name": "python"
  }
 },
 "nbformat": 4,
 "nbformat_minor": 5
}
