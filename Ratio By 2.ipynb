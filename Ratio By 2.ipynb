{
 "cells": [
  {
   "cell_type": "code",
   "execution_count": null,
   "id": "b05996be",
   "metadata": {},
   "outputs": [],
   "source": [
    "# cook your dish here\n",
    "T = int(input())\n",
    "\n",
    "for _ in range(T):\n",
    "    X, Y = map(int, input().split())\n",
    "    d = max(X, Y)\n",
    "    p = min(X, Y)\n",
    "    \n",
    "    op = max(0, p - (d // 2))\n",
    "    ap = max(0, 2 * p - d)\n",
    "    \n",
    "    print(min(ap, op))"
   ]
  }
 ],
 "metadata": {
  "language_info": {
   "name": "python"
  }
 },
 "nbformat": 4,
 "nbformat_minor": 5
}
