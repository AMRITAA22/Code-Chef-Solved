{
 "cells": [
  {
   "cell_type": "code",
   "execution_count": null,
   "id": "d217983a",
   "metadata": {},
   "outputs": [],
   "source": [
    "# cook your dish here\n",
    "x=int(input())\n",
    "if x>=7:\n",
    "    print(\"Yes\")\n",
    "else:\n",
    "    print(\"No\")"
   ]
  }
 ],
 "metadata": {
  "language_info": {
   "name": "python"
  }
 },
 "nbformat": 4,
 "nbformat_minor": 5
}
