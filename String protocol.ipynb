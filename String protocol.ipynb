{
 "cells": [
  {
   "cell_type": "code",
   "execution_count": null,
   "id": "3d04641e",
   "metadata": {},
   "outputs": [],
   "source": [
    "# cook your dish here\n",
    "for i in range(int(input())):\n",
    "    n=int(input())\n",
    "    s=input()\n",
    "    a=set(s)\n",
    "    counter=0\n",
    "    for let in a:\n",
    "        x=s.count(let)\n",
    "        mult=s.count(let+let)\n",
    "        counter+=(x-mult*2)+mult\n",
    "    print(counter)\n",
    "        \n",
    "        "
   ]
  }
 ],
 "metadata": {
  "kernelspec": {
   "display_name": "Python 3",
   "language": "python",
   "name": "python3"
  },
  "language_info": {
   "name": "python",
   "version": "3.12.7"
  }
 },
 "nbformat": 4,
 "nbformat_minor": 5
}
