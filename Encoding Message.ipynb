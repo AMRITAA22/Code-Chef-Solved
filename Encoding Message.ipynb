{
 "cells": [
  {
   "cell_type": "code",
   "execution_count": null,
   "id": "bad46551",
   "metadata": {},
   "outputs": [],
   "source": [
    "# cook your dish here\n",
    "for i in range(int(input())):\n",
    "    n=int(input())\n",
    "    s=list(input())\n",
    "    s1=''\n",
    "    if len(s)%2==0:\n",
    "        for i in range(0,n,2):\n",
    "            (s[i],s[i+1])=(s[i+1],s[i])\n",
    "    else:\n",
    "        for i in range(0,n-1,2):\n",
    "            (s[i],s[i+1])=(s[i+1],s[i])\n",
    "    for ele in s:\n",
    "        if ele=='z':\n",
    "            ele=chr(ord('a'))\n",
    "            s1+=ele\n",
    "        else:\n",
    "            ele=chr(ord('a')+(ord('z')-ord(ele)))\n",
    "            s1+=ele\n",
    "    print(s1)"
   ]
  }
 ],
 "metadata": {
  "language_info": {
   "name": "python"
  }
 },
 "nbformat": 4,
 "nbformat_minor": 5
}
