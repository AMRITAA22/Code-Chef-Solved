{
 "cells": [
  {
   "cell_type": "code",
   "execution_count": null,
   "id": "b657055e",
   "metadata": {},
   "outputs": [],
   "source": [
    "# cook your dish here\n",
    "t=int(input())\n",
    "for _ in range(t):\n",
    "    s=input()\n",
    "    print(s.count('<>'))"
   ]
  }
 ],
 "metadata": {
  "language_info": {
   "name": "python"
  }
 },
 "nbformat": 4,
 "nbformat_minor": 5
}
