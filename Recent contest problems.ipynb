{
 "cells": [
  {
   "cell_type": "code",
   "execution_count": null,
   "id": "3f1d624b",
   "metadata": {},
   "outputs": [],
   "source": [
    "# cook your dish here\n",
    "t=int(input())\n",
    "for _ in range(t):\n",
    "    n=int(input())\n",
    "    l=list(input().split())\n",
    "    a=0\n",
    "    b=0\n",
    "    for i in l:\n",
    "        if i==\"START38\":\n",
    "            a+=1\n",
    "        else:\n",
    "            b+=1\n",
    "    print(a,b)"
   ]
  }
 ],
 "metadata": {
  "language_info": {
   "name": "python"
  }
 },
 "nbformat": 4,
 "nbformat_minor": 5
}
