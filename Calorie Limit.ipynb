{
 "cells": [
  {
   "cell_type": "code",
   "execution_count": null,
   "id": "8ee62879",
   "metadata": {},
   "outputs": [],
   "source": [
    "# cook your dish here\n",
    "def sweet():\n",
    "    n,k=map(int,input().split())\n",
    "    a=list(map(int,input().split()))\n",
    "    count = 0\n",
    "    current_calories = 0\n",
    "    \n",
    "    for i in range(n):\n",
    "        if current_calories + a[i] <= k:\n",
    "            current_calories += a[i]\n",
    "            count += 1\n",
    "        else:\n",
    "            break\n",
    "            \n",
    "    print(count)\n",
    "\n",
    "\n",
    "t=int(input())\n",
    "for _ in range(t):\n",
    "    sweet()"
   ]
  }
 ],
 "metadata": {
  "language_info": {
   "name": "python"
  }
 },
 "nbformat": 4,
 "nbformat_minor": 5
}
