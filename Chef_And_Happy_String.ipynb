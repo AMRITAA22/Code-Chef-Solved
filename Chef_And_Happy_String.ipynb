{
 "cells": [
  {
   "cell_type": "code",
   "execution_count": null,
   "id": "24ad51f2",
   "metadata": {},
   "outputs": [],
   "source": [
    "t = int(input())\n",
    "\n",
    "while t > 0:\n",
    "    s = input()\n",
    "    happy=False\n",
    "    for i in range(len(s)-2):\n",
    "        if s[i] in 'aeiou' and s[i+1] in 'aeiou' and s[i+2] in 'aeiou':\n",
    "            happy=True\n",
    "            break\n",
    "    print(\"Happy\"if happy else \"Sad\")\n",
    "\n",
    "    t -= 1\n"
   ]
  }
 ],
 "metadata": {
  "language_info": {
   "name": "python"
  }
 },
 "nbformat": 4,
 "nbformat_minor": 5
}
