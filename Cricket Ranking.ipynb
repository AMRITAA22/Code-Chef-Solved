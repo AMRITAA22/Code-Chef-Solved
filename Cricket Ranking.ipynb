{
 "cells": [
  {
   "cell_type": "code",
   "execution_count": null,
   "id": "b32bffc9",
   "metadata": {},
   "outputs": [],
   "source": [
    "# cook your dish here\n",
    "t=int(input())\n",
    "for _ in range(t):\n",
    "    R1, W1, C1 = map(int, input().split())\n",
    "    R2, W2, C2 = map(int, input().split())\n",
    "    score_A = 0\n",
    "    score_B = 0\n",
    "    if R1 > R2:\n",
    "        score_A += 1\n",
    "    else:\n",
    "        score_B += 1\n",
    "    if W1 > W2:\n",
    "        score_A += 1\n",
    "    else:\n",
    "        score_B += 1\n",
    "    if C1 > C2:\n",
    "        score_A += 1\n",
    "    else:\n",
    "        score_B += 1\n",
    "    if score_A > score_B:\n",
    "        print(\"A\")\n",
    "    else:\n",
    "        print(\"B\")"
   ]
  }
 ],
 "metadata": {
  "language_info": {
   "name": "python"
  }
 },
 "nbformat": 4,
 "nbformat_minor": 5
}
