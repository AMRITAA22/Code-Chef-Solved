{
 "cells": [
  {
   "cell_type": "code",
   "execution_count": null,
   "id": "08c35de1",
   "metadata": {},
   "outputs": [],
   "source": [
    "t = int(input())\n",
    "for i in range(0,t):\n",
    "    x,y = map(int,input().split())\n",
    "    # write your code here\n",
    "    if x+y<=6:\n",
    "        print(\"no\")\n",
    "    else:\n",
    "        print(\"yes\")"
   ]
  }
 ],
 "metadata": {
  "language_info": {
   "name": "python"
  }
 },
 "nbformat": 4,
 "nbformat_minor": 5
}
