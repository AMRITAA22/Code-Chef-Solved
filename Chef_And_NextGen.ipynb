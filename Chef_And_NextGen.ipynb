{
 "cells": [
  {
   "cell_type": "code",
   "execution_count": null,
   "id": "0befe3ed",
   "metadata": {},
   "outputs": [],
   "source": [
    "# cook your dish here\n",
    "t=int(input())\n",
    "for _ in range(t):\n",
    "    a,b,x,y=map(int,input().split())\n",
    "    m=a*b  \n",
    "    r=x*y  \n",
    "    if r>=m:\n",
    "        print(\"yes\")\n",
    "    else:\n",
    "        print(\"no\")"
   ]
  }
 ],
 "metadata": {
  "language_info": {
   "name": "python"
  }
 },
 "nbformat": 4,
 "nbformat_minor": 5
}
