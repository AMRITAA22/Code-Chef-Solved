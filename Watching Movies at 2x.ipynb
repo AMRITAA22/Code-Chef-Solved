{
 "cells": [
  {
   "cell_type": "code",
   "execution_count": null,
   "id": "dd9a5124",
   "metadata": {},
   "outputs": [],
   "source": [
    "# cook your dish here\n",
    "X, Y = map(int, input().split())\n",
    "total_time = X - (Y // 2)\n",
    "print(total_time)\n"
   ]
  }
 ],
 "metadata": {
  "language_info": {
   "name": "python"
  }
 },
 "nbformat": 4,
 "nbformat_minor": 5
}
