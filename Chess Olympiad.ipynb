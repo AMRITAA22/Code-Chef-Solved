{
 "cells": [
  {
   "cell_type": "code",
   "execution_count": null,
   "id": "aef86db1",
   "metadata": {},
   "outputs": [],
   "source": [
    "# cook your dish here\n",
    "x,y,z=map(int,input().split())\n",
    "team_points = x + 0.5 * y\n",
    "opponent_points = z + 0.5 * y\n",
    "remaining_games = 4 - (x + y + z)\n",
    "if team_points + remaining_games > opponent_points:\n",
    "    print(\"YES\")\n",
    "else:\n",
    "    print(\"NO\")\n"
   ]
  }
 ],
 "metadata": {
  "language_info": {
   "name": "python"
  }
 },
 "nbformat": 4,
 "nbformat_minor": 5
}
