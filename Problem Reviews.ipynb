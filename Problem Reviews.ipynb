{
 "cells": [
  {
   "cell_type": "code",
   "execution_count": null,
   "id": "d5a8b0e6",
   "metadata": {},
   "outputs": [],
   "source": [
    "t=int(input())\n",
    "for i in range(0,t):\n",
    "    count=0\n",
    "    n=int(input())\n",
    "    n1=list(map(int,input().split()))\n",
    "    for i in n1:\n",
    "        if(i<=4):\n",
    "            count+=1\n",
    "    if(count==0):\n",
    "        print(\"yes\")\n",
    "    else:\n",
    "        print(\"NO\")"
   ]
  }
 ],
 "metadata": {
  "language_info": {
   "name": "python"
  }
 },
 "nbformat": 4,
 "nbformat_minor": 5
}
