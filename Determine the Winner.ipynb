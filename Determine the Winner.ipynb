{
 "cells": [
  {
   "cell_type": "code",
   "execution_count": null,
   "id": "1dc7488f",
   "metadata": {},
   "outputs": [],
   "source": [
    "# cook your dish here\n",
    "t=int(input())\n",
    "for i in range(t):\n",
    "    a,b,c,d=map(int,input().split())\n",
    "    if max(a,b)==max(c,d):\n",
    "        print(\"TIE\")\n",
    "    elif max(a,b)<max(c,d):\n",
    "        print(\"P\")\n",
    "    else:\n",
    "        print(\"Q\")"
   ]
  }
 ],
 "metadata": {
  "language_info": {
   "name": "python"
  }
 },
 "nbformat": 4,
 "nbformat_minor": 5
}
