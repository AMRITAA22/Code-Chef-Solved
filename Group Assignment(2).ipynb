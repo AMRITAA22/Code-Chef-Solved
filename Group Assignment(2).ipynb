{
 "cells": [
  {
   "cell_type": "code",
   "execution_count": null,
   "id": "18e87835",
   "metadata": {},
   "outputs": [],
   "source": [
    "# cook your dish here\n",
    "for _ in range(int(input())):\n",
    "    n = int(input())\n",
    "    p = list(map(int,input().split()))\n",
    "    groups = set(p)\n",
    "    for g in groups:\n",
    "        if p.count(g) % g != 0:\n",
    "            print('NO')\n",
    "            break\n",
    "    else:\n",
    "        print('YES')"
   ]
  }
 ],
 "metadata": {
  "language_info": {
   "name": "python"
  }
 },
 "nbformat": 4,
 "nbformat_minor": 5
}
