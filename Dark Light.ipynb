{
 "cells": [
  {
   "cell_type": "code",
   "execution_count": null,
   "id": "001a2eb6",
   "metadata": {},
   "outputs": [],
   "source": [
    "# cook your dish here\n",
    "t=int(input())\n",
    "for _ in range(t):\n",
    "    n,k=map(int,input().split())\n",
    "    if k == 0:\n",
    "        if n % 4 == 0:\n",
    "            print(\"Off\")\n",
    "        else:\n",
    "            print(\"On\")\n",
    "    else:\n",
    "        if n % 4 == 0:\n",
    "            print(\"On\")\n",
    "        else:\n",
    "            print(\"Ambiguous\")"
   ]
  }
 ],
 "metadata": {
  "language_info": {
   "name": "python"
  }
 },
 "nbformat": 4,
 "nbformat_minor": 5
}
