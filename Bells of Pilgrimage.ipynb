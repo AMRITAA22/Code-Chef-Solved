{
 "cells": [
  {
   "cell_type": "code",
   "execution_count": null,
   "id": "7c16749b",
   "metadata": {},
   "outputs": [],
   "source": [
    "# cook your dish here\n",
    "def solve():\n",
    "    n, x, k, p = map(int, input().split())\n",
    "    mana = p\n",
    "    if k <= x:\n",
    "        mana += 10 * k\n",
    "    else:\n",
    "        mana += 10 * x\n",
    "        mana += 5 * (k - x)\n",
    "    if k == n:\n",
    "        mana += 20\n",
    "    print(mana)\n",
    "\n",
    "t = int(input())\n",
    "for _ in range(t):\n",
    "    solve()"
   ]
  }
 ],
 "metadata": {
  "language_info": {
   "name": "python"
  }
 },
 "nbformat": 4,
 "nbformat_minor": 5
}
