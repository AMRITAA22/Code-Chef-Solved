{
 "cells": [
  {
   "cell_type": "code",
   "execution_count": null,
   "id": "4215d3cb",
   "metadata": {},
   "outputs": [],
   "source": [
    "# cook your dish here\n",
    "x = (2,-3)\n",
    "for _ in range(int(input())):\n",
    "    n = int(input())\n",
    "    a = 0\n",
    "    while n != 50:\n",
    "        n += x[n>50]\n",
    "        a+=1\n",
    "    print(a)"
   ]
  }
 ],
 "metadata": {
  "language_info": {
   "name": "python"
  }
 },
 "nbformat": 4,
 "nbformat_minor": 5
}
