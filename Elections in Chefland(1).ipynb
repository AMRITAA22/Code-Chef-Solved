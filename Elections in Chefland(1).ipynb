{
 "cells": [
  {
   "cell_type": "code",
   "execution_count": null,
   "id": "1f1164a2",
   "metadata": {},
   "outputs": [],
   "source": [
    "# cook your dish here\n",
    "t=int(input())\n",
    "for _ in range(t):\n",
    "    xa,xb,xc=map(int,input().split())\n",
    "    if xa>50 or xb>50 or xc>50:\n",
    "        if xa>xb and xa>xc:\n",
    "            print(\"A\")\n",
    "        elif xb>xa and xb>xc:\n",
    "            print(\"B\")\n",
    "        else:\n",
    "            print(\"C\")\n",
    "    else:\n",
    "        print(\"NOTA\")"
   ]
  }
 ],
 "metadata": {
  "language_info": {
   "name": "python"
  }
 },
 "nbformat": 4,
 "nbformat_minor": 5
}
