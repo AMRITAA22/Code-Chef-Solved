{
 "cells": [
  {
   "cell_type": "code",
   "execution_count": null,
   "id": "35f9c6e4",
   "metadata": {},
   "outputs": [],
   "source": [
    "# cook your dish here\n",
    "a,b=map(int,input().split())\n",
    "total=(a*6)+b\n",
    "print(total)"
   ]
  }
 ],
 "metadata": {
  "language_info": {
   "name": "python"
  }
 },
 "nbformat": 4,
 "nbformat_minor": 5
}
