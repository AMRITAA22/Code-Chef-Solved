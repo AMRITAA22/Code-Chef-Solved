{
 "cells": [
  {
   "cell_type": "code",
   "execution_count": null,
   "id": "1ab1956a",
   "metadata": {},
   "outputs": [],
   "source": [
    "# cook your dish here\n",
    "def prize(n,a,b,c):\n",
    "    if n<10: return 0\n",
    "    elif n<21: return a \n",
    "    elif n<42: return b \n",
    "    else: return c \n",
    "\n",
    "for i in range(int(input())):\n",
    "    D,d,a,b,c = map(int,input().split())\n",
    "    dis = D*d\n",
    "    ans = prize(dis,a,b,c)\n",
    "    print(ans)"
   ]
  }
 ],
 "metadata": {
  "language_info": {
   "name": "python"
  }
 },
 "nbformat": 4,
 "nbformat_minor": 5
}
