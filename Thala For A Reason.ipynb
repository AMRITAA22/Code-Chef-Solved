{
 "cells": [
  {
   "cell_type": "code",
   "execution_count": null,
   "id": "76472d8a",
   "metadata": {},
   "outputs": [],
   "source": [
    "# cook your dish here\n",
    "n=int(input())\n",
    "if n==7:\n",
    "    print(\"thala\")\n",
    "else:\n",
    "    print(\"sadge\")"
   ]
  }
 ],
 "metadata": {
  "language_info": {
   "name": "python"
  }
 },
 "nbformat": 4,
 "nbformat_minor": 5
}
