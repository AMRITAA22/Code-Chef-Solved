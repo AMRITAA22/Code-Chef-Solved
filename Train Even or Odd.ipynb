{
 "cells": [
  {
   "cell_type": "code",
   "execution_count": null,
   "id": "50479d68",
   "metadata": {},
   "outputs": [],
   "source": [
    "# cook your dish here\n",
    "def solve():\n",
    "    N = int(input())\n",
    "    A = list(map(int, input().split()))\n",
    "    sum_odd_days = 0\n",
    "    sum_even_days = 0\n",
    "    for i in range(N):\n",
    "        if (i + 1) % 2 != 0:  \n",
    "            sum_odd_days += A[i]\n",
    "        else: \n",
    "            sum_even_days += A[i]\n",
    "    print(max(sum_odd_days, sum_even_days))\n",
    "T = int(input())\n",
    "for _ in range(T):\n",
    "    solve()"
   ]
  }
 ],
 "metadata": {
  "language_info": {
   "name": "python"
  }
 },
 "nbformat": 4,
 "nbformat_minor": 5
}
