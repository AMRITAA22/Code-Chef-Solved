{
 "cells": [
  {
   "cell_type": "code",
   "execution_count": null,
   "id": "2232a215",
   "metadata": {},
   "outputs": [],
   "source": [
    "# cook your dish here\n",
    "for i in range(int(input())):\n",
    "    a, b = map(int, input().split(\" \"))\n",
    "    if a == b:\n",
    "        print(\"Yes\")\n",
    "    else:\n",
    "        # check if the number can be achieved or not \n",
    "        mini = min(a,b)\n",
    "        maxi = max(a,b)\n",
    "        \n",
    "        while(mini<maxi):\n",
    "            mini *= 2\n",
    "            \n",
    "        if mini == maxi:\n",
    "            print(\"Yes\")\n",
    "        else:\n",
    "            print(\"No\")"
   ]
  }
 ],
 "metadata": {
  "language_info": {
   "name": "python"
  }
 },
 "nbformat": 4,
 "nbformat_minor": 5
}
