{
 "cells": [
  {
   "cell_type": "code",
   "execution_count": null,
   "id": "9a2e3059",
   "metadata": {},
   "outputs": [],
   "source": [
    "# cook your dish here\n",
    "t=int(input())\n",
    "for _ in range(t):\n",
    "    n,k=map(int,input().split())\n",
    "    p=list(map(int,input().split()))\n",
    "    a=0\n",
    "    for i in range(n):\n",
    "        if p[i]>k:\n",
    "            a+=(p[i]-k) \n",
    "    print(a)"
   ]
  }
 ],
 "metadata": {
  "language_info": {
   "name": "python"
  }
 },
 "nbformat": 4,
 "nbformat_minor": 5
}
