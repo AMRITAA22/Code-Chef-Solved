{
 "cells": [
  {
   "cell_type": "code",
   "execution_count": null,
   "id": "051fa951",
   "metadata": {},
   "outputs": [],
   "source": [
    "# cook your dish here\n",
    "T=int(input())\n",
    "for i in range(T):\n",
    "    H,X,Y=map(int,input().split())\n",
    "    a=H-Y\n",
    "    if(a%X==0):\n",
    "        print((a//X)+1)\n",
    "    else:\n",
    "        print((a//X)+2)"
   ]
  }
 ],
 "metadata": {
  "language_info": {
   "name": "python"
  }
 },
 "nbformat": 4,
 "nbformat_minor": 5
}
