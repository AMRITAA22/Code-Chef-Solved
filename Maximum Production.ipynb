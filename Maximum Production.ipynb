{
 "cells": [
  {
   "cell_type": "code",
   "execution_count": null,
   "id": "1da83c2b",
   "metadata": {},
   "outputs": [],
   "source": [
    "def solve():\n",
    "    d, x, y, z = map(int, input().split())\n",
    "    work_strategy_1 = x * 7\n",
    "    work_strategy_2 = y * d + z * (7 - d)\n",
    "    print(max(work_strategy_1, work_strategy_2))\n",
    "\n",
    "t = int(input())\n",
    "for _ in range(t):\n",
    "    solve()"
   ]
  }
 ],
 "metadata": {
  "language_info": {
   "name": "python"
  }
 },
 "nbformat": 4,
 "nbformat_minor": 5
}
