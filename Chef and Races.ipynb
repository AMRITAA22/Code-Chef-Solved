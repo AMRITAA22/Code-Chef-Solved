{
 "cells": [
  {
   "cell_type": "code",
   "execution_count": null,
   "id": "9ac03347",
   "metadata": {},
   "outputs": [],
   "source": [
    "# cook your dish here\n",
    "t=int(input())\n",
    "for _ in range(t):\n",
    "    x,y,a,b=map(int,input().split())\n",
    "    gold_medals = 0\n",
    "    if x != a and x != b:\n",
    "        gold_medals += 1\n",
    "    if y != a and y != b:\n",
    "        gold_medals += 1\n",
    "    print(gold_medals)\n",
    "    "
   ]
  }
 ],
 "metadata": {
  "language_info": {
   "name": "python"
  }
 },
 "nbformat": 4,
 "nbformat_minor": 5
}
