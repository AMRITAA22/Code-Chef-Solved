{
 "cells": [
  {
   "cell_type": "code",
   "execution_count": null,
   "id": "435f234c",
   "metadata": {},
   "outputs": [],
   "source": [
    "# cook your dish here\n",
    "for _ in range(int(input())):\n",
    "    n = [x for x in range(1,int(input())+1)]\n",
    "    print(*n[::-1])"
   ]
  }
 ],
 "metadata": {
  "language_info": {
   "name": "python"
  }
 },
 "nbformat": 4,
 "nbformat_minor": 5
}
