{
 "cells": [
  {
   "cell_type": "code",
   "execution_count": null,
   "id": "f5e91990",
   "metadata": {},
   "outputs": [],
   "source": [
    "# cook your dish here\n",
    "t=int(input())\n",
    "for _ in range(t):\n",
    "    l,r=map(int,input().split())\n",
    "    count=0\n",
    "    for i in range(l,r+1):\n",
    "        if i%10==2 or i%10==3 or i%10==9:\n",
    "            count+=1\n",
    "    print(count)"
   ]
  }
 ],
 "metadata": {
  "language_info": {
   "name": "python"
  }
 },
 "nbformat": 4,
 "nbformat_minor": 5
}
