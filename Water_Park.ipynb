{
 "cells": [
  {
   "cell_type": "code",
   "execution_count": null,
   "id": "ec87adcc",
   "metadata": {},
   "outputs": [],
   "source": [
    "# cook your dish here\n",
    "w,h=map(int,input().split())\n",
    "if 60<=w and 130>=h:\n",
    "    print(\"yes\")\n",
    "else:\n",
    "    print(\"no\")"
   ]
  }
 ],
 "metadata": {
  "language_info": {
   "name": "python"
  }
 },
 "nbformat": 4,
 "nbformat_minor": 5
}
