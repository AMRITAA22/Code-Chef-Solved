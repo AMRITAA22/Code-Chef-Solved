{
 "cells": [
  {
   "cell_type": "code",
   "execution_count": null,
   "id": "5ae2041f",
   "metadata": {},
   "outputs": [],
   "source": [
    "# cook your dish here\n",
    "t=int(input())\n",
    "for _ in range(t):\n",
    "    n,a,b=map(int,input().split())\n",
    "    arr = list(map(int, input().split()))\n",
    "    count_a = arr.count(a)\n",
    "    count_b = arr.count(b)\n",
    "    prob_a = count_a / n\n",
    "    prob_b = count_b / n\n",
    "    print(f\"{prob_a * prob_b:.10f}\")"
   ]
  }
 ],
 "metadata": {
  "language_info": {
   "name": "python"
  }
 },
 "nbformat": 4,
 "nbformat_minor": 5
}
