{
 "cells": [
  {
   "cell_type": "code",
   "execution_count": null,
   "id": "12e67f1a",
   "metadata": {},
   "outputs": [],
   "source": [
    "# cook your dish here\n",
    "t=int(input())\n",
    "for _ in range(t):\n",
    "    n=int(input())\n",
    "    x=list(map(int,input().split()))\n",
    "    r=sum(x)\n",
    "    print(r-min(x))"
   ]
  }
 ],
 "metadata": {
  "language_info": {
   "name": "python"
  }
 },
 "nbformat": 4,
 "nbformat_minor": 5
}
