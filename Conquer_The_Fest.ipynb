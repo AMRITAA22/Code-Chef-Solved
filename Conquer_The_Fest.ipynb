{
 "cells": [
  {
   "cell_type": "code",
   "execution_count": null,
   "id": "a026dbdd",
   "metadata": {},
   "outputs": [],
   "source": [
    "# cook your dish here\n",
    "n,b=map(int,input().split())\n",
    "if b*10<=n:\n",
    "    print(\"yes\")\n",
    "else:\n",
    "    print(\"no\")"
   ]
  }
 ],
 "metadata": {
  "language_info": {
   "name": "python"
  }
 },
 "nbformat": 4,
 "nbformat_minor": 5
}
