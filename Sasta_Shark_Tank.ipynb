{
 "cells": [
  {
   "cell_type": "code",
   "execution_count": null,
   "id": "16c9f446",
   "metadata": {},
   "outputs": [],
   "source": [
    "# cook your dish here\n",
    "t= int(input())\n",
    "for _ in range(t):\n",
    "    a,b=map(int,input().split())\n",
    "    x=(a*10)\n",
    "    y=(b*5)\n",
    "    if x==y:\n",
    "        print(\"any\")\n",
    "    elif x>y:\n",
    "        print(\"first\")\n",
    "    else:\n",
    "        print(\"second\")"
   ]
  }
 ],
 "metadata": {
  "language_info": {
   "name": "python"
  }
 },
 "nbformat": 4,
 "nbformat_minor": 5
}
