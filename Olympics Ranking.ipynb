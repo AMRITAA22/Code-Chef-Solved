{
 "cells": [
  {
   "cell_type": "code",
   "execution_count": null,
   "id": "9da6a1ac",
   "metadata": {},
   "outputs": [],
   "source": [
    "# cook your dish here\n",
    "for _ in range(int(input())):\n",
    "    s=list(map(int,input().split()))\n",
    "    t1=sum(s[:3])\n",
    "    t2=sum(s[3:])\n",
    "    if t1>t2:\n",
    "        print('1')\n",
    "    else:\n",
    "        print('2')"
   ]
  }
 ],
 "metadata": {
  "language_info": {
   "name": "python"
  }
 },
 "nbformat": 4,
 "nbformat_minor": 5
}
