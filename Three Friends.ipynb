{
 "cells": [
  {
   "cell_type": "code",
   "execution_count": null,
   "id": "0a938ab0",
   "metadata": {},
   "outputs": [],
   "source": [
    "# cook your dish here\n",
    "for i in range(int(input())):\n",
    "    a,b,c=map(int,input().split())\n",
    "    if( a+b==c or b+c==a or a+c==b):\n",
    "        print('yes')\n",
    "    else:\n",
    "        print('no')"
   ]
  }
 ],
 "metadata": {
  "language_info": {
   "name": "python"
  }
 },
 "nbformat": 4,
 "nbformat_minor": 5
}
