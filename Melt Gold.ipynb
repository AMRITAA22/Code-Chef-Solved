{
 "cells": [
  {
   "cell_type": "code",
   "execution_count": null,
   "id": "1e1ba5c5",
   "metadata": {},
   "outputs": [],
   "source": [
    "import math\n",
    "# cook your dish here\n",
    "t=int(input())\n",
    "for _ in range(t):\n",
    "    x,y=map(int,input().split())\n",
    "    s=2*(x-y)\n",
    "    print(round(math.sqrt(s)))"
   ]
  }
 ],
 "metadata": {
  "language_info": {
   "name": "python"
  }
 },
 "nbformat": 4,
 "nbformat_minor": 5
}
