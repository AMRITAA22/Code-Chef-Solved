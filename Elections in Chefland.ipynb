{
 "cells": [
  {
   "cell_type": "code",
   "execution_count": null,
   "id": "a89402d8",
   "metadata": {},
   "outputs": [],
   "source": [
    "def solve():\n",
    "    n, x = map(int, input().split())\n",
    "    ages = list(map(int, input().split()))\n",
    "    \n",
    "    eligible_voters = 0\n",
    "    for age in ages:\n",
    "        if age >= x:\n",
    "            eligible_voters += 1\n",
    "    print(eligible_voters)\n",
    "\n",
    "t = int(input())\n",
    "for _ in range(t):\n",
    "    solve()"
   ]
  }
 ],
 "metadata": {
  "language_info": {
   "name": "python"
  }
 },
 "nbformat": 4,
 "nbformat_minor": 5
}
