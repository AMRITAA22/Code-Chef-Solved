{
 "cells": [
  {
   "cell_type": "code",
   "execution_count": null,
   "id": "3316e91d",
   "metadata": {},
   "outputs": [],
   "source": [
    "for _ in range(int(input())):\n",
    "    s = input()\n",
    "    target = 'ADVITIYA'\n",
    "    steps = 0\n",
    "    for i in range(8):\n",
    "        steps += (ord(target[i]) - ord(s[i])) % 26\n",
    "    print(steps)"
   ]
  }
 ],
 "metadata": {
  "language_info": {
   "name": "python"
  }
 },
 "nbformat": 4,
 "nbformat_minor": 5
}
