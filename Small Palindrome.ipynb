{
 "cells": [
  {
   "cell_type": "code",
   "execution_count": null,
   "id": "f6c48181",
   "metadata": {},
   "outputs": [],
   "source": [
    "# cook your dish here\n",
    "t=int(input())\n",
    "for i in range(t):\n",
    "    x,y=map(int,input().split())\n",
    "    print(\"1\" * (x // 2) + \"2\" * y + \"1\" * (x // 2))"
   ]
  }
 ],
 "metadata": {
  "language_info": {
   "name": "python"
  }
 },
 "nbformat": 4,
 "nbformat_minor": 5
}
