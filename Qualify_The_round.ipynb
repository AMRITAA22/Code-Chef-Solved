{
 "cells": [
  {
   "cell_type": "code",
   "execution_count": null,
   "id": "8c41cddc",
   "metadata": {},
   "outputs": [],
   "source": [
    "# cook your dish here\n",
    "t=int(input())\n",
    "for _ in range(t):\n",
    "    x,a,b=map(int,input().split())\n",
    "    score=(a*1)+(b*2)\n",
    "    if score>=x:\n",
    "        print(\"qualify\")\n",
    "    else:\n",
    "        print(\"NotQualify\")"
   ]
  }
 ],
 "metadata": {
  "language_info": {
   "name": "python"
  }
 },
 "nbformat": 4,
 "nbformat_minor": 5
}
