{
 "cells": [
  {
   "cell_type": "code",
   "execution_count": null,
   "id": "cf5b9a15",
   "metadata": {},
   "outputs": [],
   "source": [
    "# cook your dish here\n",
    "for _ in range(int(input())):\n",
    "    n = int(input())\n",
    "    v,a = [0]*n,[0]*n\n",
    "    for i in range(n):\n",
    "        v[i],a[i] = map(int,input().split())\n",
    "    ms = 0\n",
    "    for i in range(n):\n",
    "        for j in range(i+1,n):\n",
    "            Stren = a[i]*v[j]+v[i]*a[j]\n",
    "            ms = max(ms, Stren)\n",
    "    print(ms)"
   ]
  }
 ],
 "metadata": {
  "language_info": {
   "name": "python"
  }
 },
 "nbformat": 4,
 "nbformat_minor": 5
}
