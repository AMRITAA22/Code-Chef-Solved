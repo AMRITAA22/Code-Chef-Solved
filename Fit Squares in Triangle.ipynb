{
 "cells": [
  {
   "cell_type": "code",
   "execution_count": null,
   "id": "db535ba4",
   "metadata": {},
   "outputs": [],
   "source": [
    "# cook your dish here\n",
    "t = int(input())\n",
    "for _ in range(t):\n",
    "    b = int(input())\n",
    "    n = (b // 2) - 1\n",
    "    ans = ((n) * (n+1) )//2\n",
    "    print(ans)"
   ]
  }
 ],
 "metadata": {
  "language_info": {
   "name": "python"
  }
 },
 "nbformat": 4,
 "nbformat_minor": 5
}
