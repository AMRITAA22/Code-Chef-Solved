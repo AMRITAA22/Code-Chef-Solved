{
 "cells": [
  {
   "cell_type": "code",
   "execution_count": null,
   "id": "dc47e03e",
   "metadata": {},
   "outputs": [],
   "source": [
    "# cook your dish here\n",
    "def is_valid_binary_string(N, K):\n",
    "    if K > (N + 1) // 2 or K < (N // 2):\n",
    "        return \"NO\"\n",
    "    return \"YES\"\n",
    "\n",
    "T = int(input())\n",
    "for _ in range(T):\n",
    "    N, K = map(int, input().split())\n",
    "    print(is_valid_binary_string(N, K))"
   ]
  }
 ],
 "metadata": {
  "language_info": {
   "name": "python"
  }
 },
 "nbformat": 4,
 "nbformat_minor": 5
}
