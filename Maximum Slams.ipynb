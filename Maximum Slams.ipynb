{
 "cells": [
  {
   "cell_type": "code",
   "execution_count": null,
   "id": "4a787a30",
   "metadata": {},
   "outputs": [],
   "source": [
    "# cook your dish here\n",
    "import math\n",
    "n=int(input())\n",
    "print(math.ceil((25-n)/4))"
   ]
  }
 ],
 "metadata": {
  "language_info": {
   "name": "python"
  }
 },
 "nbformat": 4,
 "nbformat_minor": 5
}
