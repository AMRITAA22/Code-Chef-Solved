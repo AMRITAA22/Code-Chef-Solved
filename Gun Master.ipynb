{
 "cells": [
  {
   "cell_type": "code",
   "execution_count": null,
   "id": "a599591b",
   "metadata": {},
   "outputs": [],
   "source": [
    "# cook your dish here\n",
    "t=int(input())\n",
    "for _ in range(t):\n",
    "    n,d=map(int,input().split())\n",
    "    a=map(int,input().split())\n",
    "    c=0\n",
    "    flag=0 # 0 vala short , 1 vala long\n",
    "    for i in a:\n",
    "        if i<=d:\n",
    "            if flag!=0:\n",
    "                c+=1\n",
    "            flag=0\n",
    "        else:\n",
    "            if flag!=1:\n",
    "                c+=1\n",
    "            flag=1\n",
    "    print(c)"
   ]
  }
 ],
 "metadata": {
  "language_info": {
   "name": "python"
  }
 },
 "nbformat": 4,
 "nbformat_minor": 5
}
