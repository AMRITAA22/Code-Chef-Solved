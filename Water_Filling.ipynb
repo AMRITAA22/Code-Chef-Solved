{
 "cells": [
  {
   "cell_type": "code",
   "execution_count": 2,
   "id": "ef4c4248",
   "metadata": {},
   "outputs": [
    {
     "name": "stdout",
     "output_type": "stream",
     "text": [
      "Not now\n",
      "Not now\n",
      "Not now\n"
     ]
    }
   ],
   "source": [
    "# cook your dish here\n",
    "def sol():\n",
    "    b1,b2,b3=map(int,input().split())\n",
    "    k=[b1,b2,b3].count(0)\n",
    "    if k>=2:\n",
    "        print(\"Water filling time\")\n",
    "    else:\n",
    "        print(\"Not now\")\n",
    "\n",
    "\n",
    "\n",
    "t=int(input())\n",
    "for _ in range(t):\n",
    "    sol()"
   ]
  },
  {
   "cell_type": "code",
   "execution_count": 1,
   "id": "72b8d9d3",
   "metadata": {},
   "outputs": [
    {
     "name": "stdout",
     "output_type": "stream",
     "text": [
      "Water filling time\n",
      "Not now\n",
      "Water filling time\n"
     ]
    }
   ],
   "source": [
    "def sol():\n",
    "    b1,b2,b3=map(int,input().split())\n",
    "    if b1+b2>=2 or b1+b3>=2 or b2+b3>=2:\n",
    "        print(\"Water filling time\")\n",
    "    else:\n",
    "        print(\"Not now\")\n",
    "\n",
    "\n",
    "\n",
    "t=int(input())\n",
    "for _ in range(t):\n",
    "    sol()"
   ]
  },
  {
   "cell_type": "code",
   "execution_count": 1,
   "id": "feed46b7",
   "metadata": {},
   "outputs": [
    {
     "name": "stdout",
     "output_type": "stream",
     "text": [
      "Not now\n",
      "Not now\n",
      "Not now\n"
     ]
    }
   ],
   "source": [
    "def sol():\n",
    "    b1, b2, b3 = map(int, input().split())\n",
    "    if b1 + b2 + b3 <= 1:\n",
    "        print(\"Water filling time\")\n",
    "    else:\n",
    "        print(\"Not now\")\n",
    "\n",
    "t = int(input())\n",
    "for _ in range(t):\n",
    "    sol()"
   ]
  }
 ],
 "metadata": {
  "kernelspec": {
   "display_name": "Python 3",
   "language": "python",
   "name": "python3"
  },
  "language_info": {
   "codemirror_mode": {
    "name": "ipython",
    "version": 3
   },
   "file_extension": ".py",
   "mimetype": "text/x-python",
   "name": "python",
   "nbconvert_exporter": "python",
   "pygments_lexer": "ipython3",
   "version": "3.12.7"
  }
 },
 "nbformat": 4,
 "nbformat_minor": 5
}
