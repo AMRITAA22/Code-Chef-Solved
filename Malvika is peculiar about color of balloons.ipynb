{
 "cells": [
  {
   "cell_type": "code",
   "execution_count": null,
   "id": "b90dc3f6",
   "metadata": {},
   "outputs": [],
   "source": [
    "# cook your dish here\n",
    "for i in range(int(input())):\n",
    "    s=input()\n",
    "    ca,cb=0,0\n",
    "    for i in s:\n",
    "        if i=='a':\n",
    "            ca+=1\n",
    "        elif i=='b':\n",
    "            cb+=1\n",
    "    print(min(ca,cb))"
   ]
  }
 ],
 "metadata": {
  "language_info": {
   "name": "python"
  }
 },
 "nbformat": 4,
 "nbformat_minor": 5
}
