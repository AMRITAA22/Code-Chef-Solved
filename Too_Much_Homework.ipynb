{
 "cells": [
  {
   "cell_type": "code",
   "execution_count": null,
   "id": "3bbad09e",
   "metadata": {},
   "outputs": [],
   "source": [
    "# cook your dish here\n",
    "x,y=map(int,input().split())\n",
    "z=x+(10*y)\n",
    "if z>=100:\n",
    "    print(\"yes\")\n",
    "else:\n",
    "    print(\"no\")"
   ]
  }
 ],
 "metadata": {
  "language_info": {
   "name": "python"
  }
 },
 "nbformat": 4,
 "nbformat_minor": 5
}
