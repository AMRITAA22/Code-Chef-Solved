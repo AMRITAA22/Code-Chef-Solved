{
 "cells": [
  {
   "cell_type": "code",
   "execution_count": null,
   "id": "197a124e",
   "metadata": {
    "vscode": {
     "languageId": "plaintext"
    }
   },
   "outputs": [],
   "source": [
    "# cook your dish here\n",
    "t=int(input())\n",
    "for i in range(t):\n",
    "    n=int(input())\n",
    "    l=map(int,input().split())\n",
    "    s=0\n",
    "    for i in l:\n",
    "        if(i==1):\n",
    "            s+=1\n",
    "        elif(i>1):\n",
    "            if((i%2)==0):\n",
    "                a=i//2\n",
    "                s+=a\n",
    "            elif((i%2)==1):\n",
    "                b=(i//2)+1\n",
    "                s+=b\n",
    "            else:\n",
    "                pass\n",
    "            \n",
    "        else:\n",
    "            pass\n",
    "    print(s)            \n",
    "                "
   ]
  }
 ],
 "metadata": {
  "language_info": {
   "name": "python"
  }
 },
 "nbformat": 4,
 "nbformat_minor": 5
}
