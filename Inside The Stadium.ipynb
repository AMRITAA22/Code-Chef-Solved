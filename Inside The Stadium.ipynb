{
 "cells": [
  {
   "cell_type": "code",
   "execution_count": null,
   "id": "c931ce6b",
   "metadata": {},
   "outputs": [],
   "source": [
    "#cook your dish here\n",
    "t=int(input())\n",
    "while t!=0:\n",
    "    n=int(input())\n",
    "    l=list(map(int,input().split()))\n",
    "    s=0\n",
    "    co=0\n",
    "    for i in range(len(l)):\n",
    "        s=s+l[i]\n",
    "        k=(s/(i+1))*100\n",
    "        if k==100:\n",
    "            co+=1 \n",
    "    print(co)\n",
    "    t-=1\n",
    "        "
   ]
  }
 ],
 "metadata": {
  "language_info": {
   "name": "python"
  }
 },
 "nbformat": 4,
 "nbformat_minor": 5
}
