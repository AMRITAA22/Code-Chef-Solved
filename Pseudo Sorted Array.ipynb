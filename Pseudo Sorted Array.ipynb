{
 "cells": [
  {
   "cell_type": "code",
   "execution_count": null,
   "id": "ef3046cc",
   "metadata": {},
   "outputs": [],
   "source": [
    "# cook your dish here\n",
    "t=int(input())\n",
    "for _ in range(t):\n",
    "    a=int(input())\n",
    "    b=list(map(int,input().split()))\n",
    "    \n",
    "    c=0\n",
    "    for j in range(len(b)-1):\n",
    "        if b[j]>b[j+1]:\n",
    "            b[j+1],b[j]=b[j],b[j+1]\n",
    "            break\n",
    "    if b!=sorted(b):\n",
    "        print(\"NO\")\n",
    "            \n",
    "    else:\n",
    "        print(\"YES\")"
   ]
  }
 ],
 "metadata": {
  "language_info": {
   "name": "python"
  }
 },
 "nbformat": 4,
 "nbformat_minor": 5
}
