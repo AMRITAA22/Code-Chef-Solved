{
 "cells": [
  {
   "cell_type": "code",
   "execution_count": null,
   "id": "b237c46f",
   "metadata": {},
   "outputs": [],
   "source": [
    "# cook your dish here\n",
    "t=int(input())\n",
    "for _ in range(t):\n",
    "    x,y,a,b,k=map(int,input().split())\n",
    "    petrol_price=x+(a*k)\n",
    "    diesel_price=y+(b*k)\n",
    "    if petrol_price==diesel_price:\n",
    "        print(\"SAME PRICE\")\n",
    "    elif petrol_price>diesel_price:\n",
    "        print(\"DIESEL\")\n",
    "    else:\n",
    "        print(\"PETROL\")"
   ]
  }
 ],
 "metadata": {
  "language_info": {
   "name": "python"
  }
 },
 "nbformat": 4,
 "nbformat_minor": 5
}
