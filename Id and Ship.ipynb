{
 "cells": [
  {
   "cell_type": "code",
   "execution_count": null,
   "id": "2bef3d60",
   "metadata": {},
   "outputs": [],
   "source": [
    "# cook your dish here\n",
    "t=int(input())\n",
    "for _ in range(t):\n",
    "    s=input()\n",
    "    if s==\"b\" or s==\"B\":\n",
    "        print(\"BattleShip\")\n",
    "    elif s==\"c\" or s==\"C\":\n",
    "        print(\"Cruiser\")\n",
    "    elif s==\"d\" or s==\"D\":\n",
    "        print(\"Destroyer\")\n",
    "    else:\n",
    "        print(\"Frigate\")"
   ]
  }
 ],
 "metadata": {
  "language_info": {
   "name": "python"
  }
 },
 "nbformat": 4,
 "nbformat_minor": 5
}
