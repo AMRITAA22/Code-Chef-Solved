{
 "cells": [
  {
   "cell_type": "code",
   "execution_count": null,
   "id": "24b1033b",
   "metadata": {},
   "outputs": [],
   "source": [
    "# cook your dish here\n",
    "for i in range(int(input())):\n",
    "    n=int(input())\n",
    "    a=input()\n",
    "    b=input()\n",
    "    s=set()\n",
    "    for i in range(n):\n",
    "        if a[i]!=b[i]:\n",
    "            s.add(b[i])\n",
    "    print(len(s))"
   ]
  }
 ],
 "metadata": {
  "language_info": {
   "name": "python"
  }
 },
 "nbformat": 4,
 "nbformat_minor": 5
}
