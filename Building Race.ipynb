{
 "cells": [
  {
   "cell_type": "code",
   "execution_count": null,
   "id": "29eb10cd",
   "metadata": {},
   "outputs": [],
   "source": [
    "# cook your dish here\n",
    "t=int(input())\n",
    "for _ in range(t):\n",
    "    a,b,x,y=map(int,input().split())\n",
    "    chef=a/x  \n",
    "    chefina=b/y \n",
    "    if chef>chefina:\n",
    "        print(\"chefina\")\n",
    "    elif chefina>chef:\n",
    "        print(\"chef\")\n",
    "    else:\n",
    "        print(\"both\")"
   ]
  }
 ],
 "metadata": {
  "language_info": {
   "name": "python"
  }
 },
 "nbformat": 4,
 "nbformat_minor": 5
}
