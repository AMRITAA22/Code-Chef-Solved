{
 "cells": [
  {
   "cell_type": "code",
   "execution_count": null,
   "id": "921b5294",
   "metadata": {},
   "outputs": [],
   "source": [
    "# cook your dish here\n",
    "t=int(input())\n",
    "for _ in range(t):\n",
    "    a,b,c=map(int,input().split())\n",
    "    for k in range(1,100):\n",
    "        if a%k!=0 and b%k!=0 and c%k!=0:\n",
    "            print(k)\n",
    "            break"
   ]
  }
 ],
 "metadata": {
  "language_info": {
   "name": "python"
  }
 },
 "nbformat": 4,
 "nbformat_minor": 5
}
