{
 "cells": [
  {
   "cell_type": "code",
   "execution_count": null,
   "id": "41669414",
   "metadata": {},
   "outputs": [],
   "source": [
    "# cook your dish here\n",
    "x=int(input())\n",
    "if x+25>=2050:\n",
    "    print(\"yes\")\n",
    "else:\n",
    "    print(\"no\")"
   ]
  }
 ],
 "metadata": {
  "language_info": {
   "name": "python"
  }
 },
 "nbformat": 4,
 "nbformat_minor": 5
}
