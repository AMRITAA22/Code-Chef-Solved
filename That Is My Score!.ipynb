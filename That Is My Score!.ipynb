{
 "cells": [
  {
   "cell_type": "code",
   "execution_count": null,
   "id": "a021dd7c",
   "metadata": {},
   "outputs": [],
   "source": [
    "# cook your dish here\n",
    "for i in range(int(input())):\n",
    "    n=int(input())\n",
    "    a=[0]*8\n",
    "    for j in range(n):\n",
    "        x,y=map(int,input().split())\n",
    "        if x<=8:\n",
    "            a[x-1]=max(a[x-1],y)\n",
    "    print(sum(a))"
   ]
  }
 ],
 "metadata": {
  "language_info": {
   "name": "python"
  }
 },
 "nbformat": 4,
 "nbformat_minor": 5
}
