{
 "cells": [
  {
   "cell_type": "code",
   "execution_count": null,
   "id": "c40b26e2",
   "metadata": {},
   "outputs": [],
   "source": [
    "# cook your dish here\n",
    "t=int(input())\n",
    "for _ in range(t):\n",
    "    a=list(map(int,input().split()))\n",
    "    p = a[-1]\n",
    "    if (sum(a)-p)*p <= 24*5:\n",
    "        print('No')\n",
    "    else:\n",
    "        print('Yes')"
   ]
  }
 ],
 "metadata": {
  "language_info": {
   "name": "python"
  }
 },
 "nbformat": 4,
 "nbformat_minor": 5
}
