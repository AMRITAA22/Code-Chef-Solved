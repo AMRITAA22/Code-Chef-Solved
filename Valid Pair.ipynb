{
 "cells": [
  {
   "cell_type": "code",
   "execution_count": null,
   "id": "03872098",
   "metadata": {},
   "outputs": [],
   "source": [
    "# cook your dish here\n",
    "a=set(map(int,input().split()))\n",
    "if(len(a)==3):\n",
    "    print(\"NO\")\n",
    "else:\n",
    "    print(\"YES\")"
   ]
  }
 ],
 "metadata": {
  "language_info": {
   "name": "python"
  }
 },
 "nbformat": 4,
 "nbformat_minor": 5
}
