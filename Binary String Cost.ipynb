{
 "cells": [
  {
   "cell_type": "code",
   "execution_count": null,
   "id": "0ad66568",
   "metadata": {},
   "outputs": [],
   "source": [
    "# cook your dish here\n",
    "for _ in range(int(input())):\n",
    "    n,x,y = map(int,input().split())\n",
    "    string = input()\n",
    "    if ('0' not in string) or ('1' not in string):\n",
    "        print(0)\n",
    "    else:\n",
    "        print(min(x,y))\n",
    "        "
   ]
  }
 ],
 "metadata": {
  "language_info": {
   "name": "python"
  }
 },
 "nbformat": 4,
 "nbformat_minor": 5
}
