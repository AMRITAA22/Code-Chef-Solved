{
 "cells": [
  {
   "cell_type": "code",
   "execution_count": null,
   "id": "bac37955",
   "metadata": {},
   "outputs": [],
   "source": [
    "# cook your dish here\n",
    "t = int(input())\n",
    "for _ in range(t):\n",
    "    x,y = map(int,input().split())\n",
    "    if x==y:\n",
    "        print(x+y-1)\n",
    "    else:\n",
    "        print(x+y)"
   ]
  }
 ],
 "metadata": {
  "language_info": {
   "name": "python"
  }
 },
 "nbformat": 4,
 "nbformat_minor": 5
}
