{
 "cells": [
  {
   "cell_type": "code",
   "execution_count": null,
   "id": "54440c28",
   "metadata": {},
   "outputs": [],
   "source": [
    "# cook your dish here\n",
    "T = int(input())\n",
    "for tc in range (T):\n",
    "    N,X,S = list(map(int,input().split()))\n",
    "    P = X\n",
    "    for i in range(S):\n",
    "        A,B = map(int,input().split())\n",
    "        if P == A:\n",
    "            P = B  \n",
    "        elif P == B:\n",
    "            P = A\n",
    "    print(P)"
   ]
  }
 ],
 "metadata": {
  "language_info": {
   "name": "python"
  }
 },
 "nbformat": 4,
 "nbformat_minor": 5
}
