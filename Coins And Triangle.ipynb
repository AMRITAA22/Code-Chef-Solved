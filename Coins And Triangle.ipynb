{
 "cells": [
  {
   "cell_type": "code",
   "execution_count": null,
   "id": "f8706bb9",
   "metadata": {},
   "outputs": [],
   "source": [
    "t = int(input())\n",
    "for i in range(t):\n",
    "    i = 1\n",
    "    c = 0\n",
    "    n = int(input())\n",
    "    for i in range(1,n+1):\n",
    "        i = i * (i + 1)/2\n",
    "        if i > n:\n",
    "            break\n",
    "        else:\n",
    "            c += 1\n",
    "    print(c)\n",
    "    "
   ]
  }
 ],
 "metadata": {
  "language_info": {
   "name": "python"
  }
 },
 "nbformat": 4,
 "nbformat_minor": 5
}
