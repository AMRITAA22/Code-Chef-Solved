{
 "cells": [
  {
   "cell_type": "code",
   "execution_count": null,
   "id": "1ea777e1",
   "metadata": {
    "vscode": {
     "languageId": "plaintext"
    }
   },
   "outputs": [],
   "source": [
    "# cook your dish here\n",
    "r1,r2=map(int,input().split())\n",
    "d1,d2=map(int,input().split())\n",
    "a=r1+d1\n",
    "b=r2+d2\n",
    "if a>b:\n",
    "    print(\"dominater\")\n",
    "else:\n",
    "    print(\"everule\")"
   ]
  }
 ],
 "metadata": {
  "language_info": {
   "name": "python"
  }
 },
 "nbformat": 4,
 "nbformat_minor": 5
}
