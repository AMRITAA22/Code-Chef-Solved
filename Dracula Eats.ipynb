{
 "cells": [
  {
   "cell_type": "code",
   "execution_count": null,
   "id": "387960c0",
   "metadata": {},
   "outputs": [],
   "source": [
    "# cook your dish here\n",
    "t=int(input())\n",
    "for _ in range(t):\n",
    "    n=int(input())\n",
    "    t_count=0\n",
    "    current_day=2\n",
    "    while current_day<=n:\n",
    "        t_count+=1\n",
    "        current_day+=7\n",
    "    print(t_count)"
   ]
  }
 ],
 "metadata": {
  "language_info": {
   "name": "python"
  }
 },
 "nbformat": 4,
 "nbformat_minor": 5
}
