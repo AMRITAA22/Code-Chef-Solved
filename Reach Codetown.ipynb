{
 "cells": [
  {
   "cell_type": "code",
   "execution_count": null,
   "id": "646d2751",
   "metadata": {},
   "outputs": [],
   "source": [
    "# cook your dish here\n",
    "t=int(input())\n",
    "for _ in range (t):\n",
    "    s=input()\n",
    "    s1=\"CODETOWN\"\n",
    "    v=[\"A\",\"E\",\"I\",\"O\",\"U\"]\n",
    "    flag = \"YES\"\n",
    "    for i in range (len(s)):\n",
    "        if(s[i]==s1[i]):\n",
    "            continue\n",
    "        elif (s[i] not in v and s1[i] not in v):\n",
    "            continue\n",
    "        elif(s[i] in v and s1[i] in v):\n",
    "            continue\n",
    "        else:\n",
    "            flag=\"NO\"\n",
    "            break\n",
    "    print(flag)"
   ]
  }
 ],
 "metadata": {
  "language_info": {
   "name": "python"
  }
 },
 "nbformat": 4,
 "nbformat_minor": 5
}
