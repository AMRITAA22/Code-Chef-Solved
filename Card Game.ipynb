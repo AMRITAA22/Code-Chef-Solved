{
 "cells": [
  {
   "cell_type": "code",
   "execution_count": null,
   "id": "95dd22d4",
   "metadata": {},
   "outputs": [],
   "source": [
    "def solve():\n",
    "    n, x = map(int, input().split())\n",
    "    even_numbers = n // 2\n",
    "    odd_numbers = (n + 1) // 2\n",
    "    if x % 2 == 0:\n",
    "        result = even_numbers - (1 if x in range(2, n + 1, 2) else 0)\n",
    "    else:\n",
    "        result = odd_numbers - (1 if x in range(1, n + 1, 2) else 0)\n",
    "    print(result)\n",
    "t = int(input())\n",
    "for _ in range(t):\n",
    "    solve()"
   ]
  }
 ],
 "metadata": {
  "language_info": {
   "name": "python"
  }
 },
 "nbformat": 4,
 "nbformat_minor": 5
}
