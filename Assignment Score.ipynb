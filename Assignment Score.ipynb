{
 "cells": [
  {
   "cell_type": "code",
   "execution_count": null,
   "id": "a6a68347",
   "metadata": {},
   "outputs": [],
   "source": [
    "def solve():\n",
    "    n = int(input())\n",
    "    scores = list(map(int, input().split()))\n",
    "    total_marks_req = 50 * (n + 1)\n",
    "    current_marks = sum(scores)\n",
    "    \n",
    "    required_marks = total_marks_req - current_marks\n",
    "    \n",
    "    if required_marks <= 0:\n",
    "        print(0)\n",
    "    elif required_marks > 100:\n",
    "        print(-1)\n",
    "    else:\n",
    "        print(int(required_marks))\n",
    "\n",
    "t=int(input())\n",
    "for _ in range(t):\n",
    "    solve()"
   ]
  }
 ],
 "metadata": {
  "language_info": {
   "name": "python"
  }
 },
 "nbformat": 4,
 "nbformat_minor": 5
}
