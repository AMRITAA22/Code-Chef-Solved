{
 "cells": [
  {
   "cell_type": "code",
   "execution_count": null,
   "id": "0e67c2a1",
   "metadata": {},
   "outputs": [],
   "source": [
    "# cook your dish here\n",
    "def sol():\n",
    "    n,x=map(int,input().split())\n",
    "    a=n*x//4\n",
    "    if n*x %4 ==0:\n",
    "        print(a)\n",
    "    else:\n",
    "        print(a+1)\n",
    "\n",
    "\n",
    "\n",
    "t=int(input())\n",
    "for _ in range(t):\n",
    "    sol()"
   ]
  }
 ],
 "metadata": {
  "language_info": {
   "name": "python"
  }
 },
 "nbformat": 4,
 "nbformat_minor": 5
}
