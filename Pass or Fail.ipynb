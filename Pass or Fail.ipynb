{
 "cells": [
  {
   "cell_type": "code",
   "execution_count": null,
   "id": "2681fee4",
   "metadata": {},
   "outputs": [],
   "source": [
    "# cook your dish here\n",
    "def marks():\n",
    "    n,x,p=map(int,input().split())\n",
    "    incorrect_answer=n-x\n",
    "    correct_marks=x*3\n",
    "    final_marks=correct_marks-incorrect_answer\n",
    "    if final_marks>=p:\n",
    "        print(\"pass\")\n",
    "    else:\n",
    "        print(\"fail\")\n",
    "\n",
    "t=int(input())\n",
    "for i in range(t):\n",
    "    marks()\n",
    "    "
   ]
  }
 ],
 "metadata": {
  "language_info": {
   "name": "python"
  }
 },
 "nbformat": 4,
 "nbformat_minor": 5
}
