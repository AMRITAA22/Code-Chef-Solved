{
 "cells": [
  {
   "cell_type": "code",
   "execution_count": null,
   "id": "423d9146",
   "metadata": {},
   "outputs": [],
   "source": [
    "# cook your dish here\n",
    "t=int(input())\n",
    "for _ in range(t):\n",
    "    a,b=map(int,input().split())\n",
    "    if a==b:\n",
    "        print(\"=\")\n",
    "    elif a<b:\n",
    "        print(\"<\")\n",
    "    else:\n",
    "        print(\">\")"
   ]
  }
 ],
 "metadata": {
  "language_info": {
   "name": "python"
  }
 },
 "nbformat": 4,
 "nbformat_minor": 5
}
