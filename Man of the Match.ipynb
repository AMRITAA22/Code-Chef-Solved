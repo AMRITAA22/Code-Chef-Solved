{
 "cells": [
  {
   "cell_type": "code",
   "execution_count": null,
   "id": "420ceff2",
   "metadata": {},
   "outputs": [],
   "source": [
    "# cook your dish here\n",
    "t = int(input())\n",
    "for _ in range(t):\n",
    "    s= -1\n",
    "    m= -1\n",
    "    for i in range(22):\n",
    "        r, w= map(int, input().split())\n",
    "        sc = r+(w*20)\n",
    "        if sc>s:\n",
    "            s=sc\n",
    "            m=i+1\n",
    "    print(m)"
   ]
  }
 ],
 "metadata": {
  "language_info": {
   "name": "python"
  }
 },
 "nbformat": 4,
 "nbformat_minor": 5
}
