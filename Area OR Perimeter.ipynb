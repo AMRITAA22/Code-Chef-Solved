{
 "cells": [
  {
   "cell_type": "code",
   "execution_count": null,
   "id": "24654f68",
   "metadata": {},
   "outputs": [],
   "source": [
    "# cook your dish here\n",
    "l=int(input())\n",
    "b=int(input())\n",
    "area = l * b\n",
    "perimeter = 2 * (l + b)\n",
    "if area > perimeter:\n",
    "    print(\"Area\")\n",
    "    print(area)\n",
    "elif area == perimeter:\n",
    "    print(\"Eq\")\n",
    "    print(area)\n",
    "else:\n",
    "    print(\"Peri\")\n",
    "    print(perimeter)"
   ]
  }
 ],
 "metadata": {
  "language_info": {
   "name": "python"
  }
 },
 "nbformat": 4,
 "nbformat_minor": 5
}
