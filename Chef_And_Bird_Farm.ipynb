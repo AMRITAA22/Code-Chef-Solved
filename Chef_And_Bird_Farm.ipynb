{
 "cells": [
  {
   "cell_type": "code",
   "execution_count": null,
   "id": "4b000c23",
   "metadata": {},
   "outputs": [],
   "source": [
    "# cook your dish here\n",
    "t = int(input())\n",
    "for i in range(t):\n",
    "    x,y,z = map(int, input().split())\n",
    "    if (z%x == 0 and z%y != 0):\n",
    "        print(\"CHICKEN\")\n",
    "    elif (z%y == 0 and z%x != 0):\n",
    "        print(\"DUCK\")\n",
    "    elif (z%x == 0 and z%y == 0):\n",
    "        print(\"ANY\")\n",
    "    else:\n",
    "        print(\"NONE\")"
   ]
  }
 ],
 "metadata": {
  "language_info": {
   "name": "python"
  }
 },
 "nbformat": 4,
 "nbformat_minor": 5
}
