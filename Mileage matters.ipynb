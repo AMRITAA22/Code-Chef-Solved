{
 "cells": [
  {
   "cell_type": "code",
   "execution_count": null,
   "id": "a9035bb3",
   "metadata": {},
   "outputs": [],
   "source": [
    "# cook your dish here\n",
    "t=int(input())\n",
    "for _ in range(t):\n",
    "    n,x,y,a,b=map(int,input().split())\n",
    "    amount_of_petrol_needed=n/a\n",
    "    amount_of_diesel_needed=n/b \n",
    "    total_cost_petrol=(n/a)*x \n",
    "    total_cost_diesel=(n/b)*y  \n",
    "    if total_cost_petrol==total_cost_diesel:\n",
    "        print(\"ANY\")\n",
    "    elif total_cost_diesel>total_cost_petrol:\n",
    "        print(\"PETROL\")\n",
    "    else:\n",
    "        print(\"DIESEL\")"
   ]
  }
 ],
 "metadata": {
  "language_info": {
   "name": "python"
  }
 },
 "nbformat": 4,
 "nbformat_minor": 5
}
