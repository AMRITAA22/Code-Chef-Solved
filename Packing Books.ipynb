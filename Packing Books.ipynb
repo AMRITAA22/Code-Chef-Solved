{
 "cells": [
  {
   "cell_type": "code",
   "execution_count": null,
   "id": "98be1ddb",
   "metadata": {},
   "outputs": [],
   "source": [
    "# cook your dish here\n",
    "t=int(input())\n",
    "for _ in range(t):\n",
    "    x,y,z=map(int,input().split())\n",
    "    boxes_per_shelf=(y+z-1)//z \n",
    "    total_boxes=x*boxes_per_shelf\n",
    "    print(total_boxes)"
   ]
  }
 ],
 "metadata": {
  "language_info": {
   "name": "python"
  }
 },
 "nbformat": 4,
 "nbformat_minor": 5
}
