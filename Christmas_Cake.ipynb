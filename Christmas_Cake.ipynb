{
 "cells": [
  {
   "cell_type": "code",
   "execution_count": null,
   "id": "a54529f4",
   "metadata": {},
   "outputs": [],
   "source": [
    "# cook your dish here\n",
    "x=int(input())\n",
    "if x<=25:\n",
    "    print(25-x)"
   ]
  }
 ],
 "metadata": {
  "language_info": {
   "name": "python"
  }
 },
 "nbformat": 4,
 "nbformat_minor": 5
}
