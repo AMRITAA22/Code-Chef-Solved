{
 "cells": [
  {
   "cell_type": "code",
   "execution_count": null,
   "id": "a8c9d2cb",
   "metadata": {},
   "outputs": [],
   "source": [
    "# cook your dish here\n",
    "import math\n",
    "t=int(input())\n",
    "for _ in range(t):\n",
    "    n, k = map(int, input().split())\n",
    "    count = 0\n",
    "    for i in range(k + 1, n + 1):\n",
    "        if math.ceil(i / 5) != math.ceil((i - 1) / 5):\n",
    "            count += 1\n",
    "    print(count)"
   ]
  }
 ],
 "metadata": {
  "language_info": {
   "name": "python"
  }
 },
 "nbformat": 4,
 "nbformat_minor": 5
}
