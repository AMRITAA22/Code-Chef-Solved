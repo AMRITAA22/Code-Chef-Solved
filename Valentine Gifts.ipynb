{
 "cells": [
  {
   "cell_type": "code",
   "execution_count": null,
   "id": "f9da25a2",
   "metadata": {},
   "outputs": [],
   "source": [
    "# cook your dish here\n",
    "def can_plan_gifts(budget):\n",
    "    total_cost = (2 ** 7 - 1)  \n",
    "    if total_cost <= budget:\n",
    "        return \"YES\"\n",
    "    else:\n",
    "        return \"NO\"\n",
    "t = int(input().strip())\n",
    "for _ in range(t):\n",
    "    x = int(input().strip())\n",
    "    result = can_plan_gifts(x)\n",
    "    print(result)"
   ]
  }
 ],
 "metadata": {
  "language_info": {
   "name": "python"
  }
 },
 "nbformat": 4,
 "nbformat_minor": 5
}
