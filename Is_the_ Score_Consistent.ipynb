{
 "cells": [
  {
   "cell_type": "code",
   "execution_count": null,
   "id": "bb89aa48",
   "metadata": {},
   "outputs": [],
   "source": [
    "# cook your dish here\n",
    "def sol():\n",
    "    a,b=map(int,input().split())\n",
    "    c,d=map(int,input().split())\n",
    "    if c>=a and d>=b:\n",
    "        print(\"POSSIBLE\")\n",
    "    else:\n",
    "        print(\"IMPOSSIBLE\")\n",
    "\n",
    "\n",
    "t=int(input())\n",
    "for _ in range(t):\n",
    "    sol()"
   ]
  }
 ],
 "metadata": {
  "language_info": {
   "name": "python"
  }
 },
 "nbformat": 4,
 "nbformat_minor": 5
}
