{
 "cells": [
  {
   "cell_type": "code",
   "execution_count": null,
   "id": "bba1dacf",
   "metadata": {},
   "outputs": [],
   "source": [
    "# cook your dish here\n",
    "t=int(input())\n",
    "for _ in range(t):\n",
    "    x=int(input())\n",
    "    if x>65:\n",
    "        print(\"Overload\")\n",
    "    elif x<35:\n",
    "        print(\"Underload\")\n",
    "    else:\n",
    "        print(\"Normal\")"
   ]
  }
 ],
 "metadata": {
  "language_info": {
   "name": "python"
  }
 },
 "nbformat": 4,
 "nbformat_minor": 5
}
