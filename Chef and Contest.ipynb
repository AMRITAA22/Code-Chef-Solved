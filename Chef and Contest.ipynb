{
 "cells": [
  {
   "cell_type": "code",
   "execution_count": null,
   "id": "3c10bbf6",
   "metadata": {},
   "outputs": [],
   "source": [
    "# cook your dish here\n",
    "t=int(input())\n",
    "for _ in range(t):\n",
    "    x,y,p,q=map(int,input().split())\n",
    "    total_A_p=x+p*10\n",
    "    total_B_P=y+q*10\n",
    "    if total_B_P==total_A_p:\n",
    "        print(\"Draw\")\n",
    "    elif total_A_p>total_B_P:\n",
    "        print(\"Chefina\")\n",
    "    else:\n",
    "        print(\"Chef\")"
   ]
  }
 ],
 "metadata": {
  "language_info": {
   "name": "python"
  }
 },
 "nbformat": 4,
 "nbformat_minor": 5
}
