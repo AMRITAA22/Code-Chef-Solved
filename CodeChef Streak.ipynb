{
 "cells": [
  {
   "cell_type": "code",
   "execution_count": null,
   "id": "497cda5e",
   "metadata": {},
   "outputs": [],
   "source": [
    "for i in range(int(input())):\n",
    "    n = int(input())\n",
    "    a = list(map(int, input().split()))\n",
    "    b = list(map(int, input().split()))\n",
    "    om_count = 0\n",
    "    addy_count = 0\n",
    "    om_streak = om_count\n",
    "    addy_streak = addy_count\n",
    "    for i in range(n):\n",
    "        if a[i] != 0:\n",
    "            om_count += 1\n",
    "        else:\n",
    "            om_count = 0\n",
    "            \n",
    "        if b[i] != 0:\n",
    "            addy_count += 1\n",
    "        else:\n",
    "            addy_count = 0\n",
    "        om_streak = max(om_count, om_streak)\n",
    "        addy_streak = max(addy_count, addy_streak)\n",
    "        \n",
    "    if om_streak > addy_streak:\n",
    "        print(\"Om\")\n",
    "    elif om_streak < addy_streak:\n",
    "        print(\"Addy\")\n",
    "    else:\n",
    "        print(\"Draw\")"
   ]
  }
 ],
 "metadata": {
  "language_info": {
   "name": "python"
  }
 },
 "nbformat": 4,
 "nbformat_minor": 5
}
