{
 "cells": [
  {
   "cell_type": "code",
   "execution_count": null,
   "id": "41f92a96",
   "metadata": {},
   "outputs": [],
   "source": [
    "# cook your dish here\n",
    "t=int(input())\n",
    "for _ in range(t):\n",
    "    a,b,c=map(int,input().split())\n",
    "    s=b*2**0.5/(a)\n",
    "    e=c/a\n",
    "    print(\"Stairs\" if e<s else \"Elevator\")"
   ]
  }
 ],
 "metadata": {
  "language_info": {
   "name": "python"
  }
 },
 "nbformat": 4,
 "nbformat_minor": 5
}
