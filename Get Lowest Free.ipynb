{
 "cells": [
  {
   "cell_type": "code",
   "execution_count": null,
   "id": "7d28f130",
   "metadata": {},
   "outputs": [],
   "source": [
    "# cook your dish here\n",
    "sale= int(input())\n",
    "for s in range(sale):\n",
    "  a=list(map(int,input().split()))\n",
    "  print(sum(a)-min(a))"
   ]
  }
 ],
 "metadata": {
  "language_info": {
   "name": "python"
  }
 },
 "nbformat": 4,
 "nbformat_minor": 5
}
