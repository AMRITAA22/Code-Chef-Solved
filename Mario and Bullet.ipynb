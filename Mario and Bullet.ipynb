{
 "cells": [
  {
   "cell_type": "code",
   "execution_count": null,
   "id": "57263a2d",
   "metadata": {},
   "outputs": [],
   "source": [
    "# cook your dish here\n",
    "t=int(input())\n",
    "for i in range(t):\n",
    "    X,Y,Z=map(int,input().split())\n",
    "     time_to_hit = Y // X\n",
    "    wait_time = max(0, Z - time_to_hit)\n",
    "    print(wait_time)"
   ]
  }
 ],
 "metadata": {
  "language_info": {
   "name": "python"
  }
 },
 "nbformat": 4,
 "nbformat_minor": 5
}
