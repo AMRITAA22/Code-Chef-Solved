{
 "cells": [
  {
   "cell_type": "code",
   "execution_count": null,
   "id": "ab65fafe",
   "metadata": {},
   "outputs": [],
   "source": [
    "x=int(input())\n",
    "print(x+20)"
   ]
  }
 ],
 "metadata": {
  "language_info": {
   "name": "python"
  }
 },
 "nbformat": 4,
 "nbformat_minor": 5
}
