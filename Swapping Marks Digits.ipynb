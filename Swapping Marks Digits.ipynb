{
 "cells": [
  {
   "cell_type": "code",
   "execution_count": null,
   "id": "f170529e",
   "metadata": {},
   "outputs": [],
   "source": [
    "# cook your dish here\n",
    "t=int(input())\n",
    "while(t>0):\n",
    "    a,b = map(int,input().split())\n",
    "    ka = int(str(a)[::-1])\n",
    "    kb = int(str(b)[::-1])\n",
    "    \n",
    "    if ka > b or ka > kb or a>b or a>kb:\n",
    "        print(\"yes\")\n",
    "    else:\n",
    "        print(\"no\")\n",
    "    t-=1"
   ]
  }
 ],
 "metadata": {
  "language_info": {
   "name": "python"
  }
 },
 "nbformat": 4,
 "nbformat_minor": 5
}
