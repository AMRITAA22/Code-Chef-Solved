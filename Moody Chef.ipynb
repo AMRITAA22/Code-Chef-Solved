{
 "cells": [
  {
   "cell_type": "code",
   "execution_count": null,
   "id": "2754ccb4",
   "metadata": {},
   "outputs": [],
   "source": [
    "# cook your dish here\n",
    "for i in range(int(input())):\n",
    "    n,m,r=map(int,input().split())\n",
    "    l=list(map(int,input().split()))\n",
    "    res=0\n",
    "    maxi=0\n",
    "    mini=0\n",
    "    for i in l:\n",
    "        if(m<=i and i<=r):\n",
    "            res+=1\n",
    "            maxi=max(maxi,res)\n",
    "        else:\n",
    "            res-=1\n",
    "            mini=min(mini,res)\n",
    "    print(maxi,mini)"
   ]
  }
 ],
 "metadata": {
  "language_info": {
   "name": "python"
  }
 },
 "nbformat": 4,
 "nbformat_minor": 5
}
