{
 "cells": [
  {
   "cell_type": "code",
   "execution_count": null,
   "id": "8d1aa1ad",
   "metadata": {},
   "outputs": [],
   "source": [
    "# cook your dish here\n",
    "r,b,p,q=map(int,input().split())\n",
    "if r*p>=b*q:\n",
    "    print(r*p)\n",
    "else:\n",
    "    print(b*q)"
   ]
  }
 ],
 "metadata": {
  "language_info": {
   "name": "python"
  }
 },
 "nbformat": 4,
 "nbformat_minor": 5
}
