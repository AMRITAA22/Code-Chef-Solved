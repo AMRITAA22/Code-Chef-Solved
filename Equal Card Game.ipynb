{
 "cells": [
  {
   "cell_type": "code",
   "execution_count": null,
   "id": "7d0b05cc",
   "metadata": {},
   "outputs": [],
   "source": [
    "# cook your dish here\n",
    "t=int(input())\n",
    "for _ in range(t):\n",
    "    k=int(input())\n",
    "    for i in range(52,0,-1):\n",
    "        if i % k == 0:\n",
    "            print(52-i)\n",
    "            break"
   ]
  }
 ],
 "metadata": {
  "language_info": {
   "name": "python"
  }
 },
 "nbformat": 4,
 "nbformat_minor": 5
}
