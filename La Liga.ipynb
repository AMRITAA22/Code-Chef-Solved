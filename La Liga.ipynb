{
 "cells": [
  {
   "cell_type": "code",
   "execution_count": null,
   "id": "89088430",
   "metadata": {},
   "outputs": [],
   "source": [
    "def solve():\n",
    "    goals = {}\n",
    "    teams = [\"Barcelona\", \"Malaga\", \"RealMadrid\", \"Eibar\"]\n",
    "    for team in teams:\n",
    "        line = input().split()\n",
    "        team_name = line[0]\n",
    "        score = int(line[1])  # Convert score to integer\n",
    "        goals[team_name] = score\n",
    "    \n",
    "    if goals[\"Barcelona\"] > goals[\"Eibar\"] and goals[\"RealMadrid\"] < goals[\"Malaga\"]:\n",
    "        print(\"Barcelona\")\n",
    "    else:\n",
    "        print(\"RealMadrid\")\n",
    "\n",
    "T = int(input())\n",
    "for _ in range(T):\n",
    "    solve()"
   ]
  }
 ],
 "metadata": {
  "language_info": {
   "name": "python"
  }
 },
 "nbformat": 4,
 "nbformat_minor": 5
}
