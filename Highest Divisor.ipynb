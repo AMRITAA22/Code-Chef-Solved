{
 "cells": [
  {
   "cell_type": "code",
   "execution_count": null,
   "id": "de4a7383",
   "metadata": {},
   "outputs": [],
   "source": [
    "# cook your dish here\n",
    "a = int(input())\n",
    "m=0\n",
    "for i in range(1,11):\n",
    "    if a%i==0:\n",
    "        if i>m: m=i \n",
    "print(m)"
   ]
  }
 ],
 "metadata": {
  "language_info": {
   "name": "python"
  }
 },
 "nbformat": 4,
 "nbformat_minor": 5
}
