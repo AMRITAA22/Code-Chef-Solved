{
 "cells": [
  {
   "cell_type": "code",
   "execution_count": null,
   "id": "245ca64e",
   "metadata": {},
   "outputs": [],
   "source": [
    "# cook your dish here\n",
    "def buns():\n",
    "    n,x,d=map(int,input().split())    \n",
    "    family_need=5*x\n",
    "    survive=n//family_need\n",
    "    total_survive=survive+d\n",
    "    print(total_survive)\n",
    "\n",
    "t=int(input())\n",
    "for _ in range(t):\n",
    "    buns()"
   ]
  }
 ],
 "metadata": {
  "language_info": {
   "name": "python"
  }
 },
 "nbformat": 4,
 "nbformat_minor": 5
}
