{
 "cells": [
  {
   "cell_type": "code",
   "execution_count": null,
   "id": "e234c7bc",
   "metadata": {},
   "outputs": [],
   "source": [
    "# cook your dish here\n",
    "t=int(input())\n",
    "for _ in range(t):\n",
    "    n,x,y=map(int,input().split())\n",
    "    if 2*x>=y:\n",
    "        print(n*x)\n",
    "    else:\n",
    "        ans=(n//2)*y+(n%2)*x\n",
    "        print(ans)"
   ]
  }
 ],
 "metadata": {
  "language_info": {
   "name": "python"
  }
 },
 "nbformat": 4,
 "nbformat_minor": 5
}
