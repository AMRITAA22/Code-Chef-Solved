{
 "cells": [
  {
   "cell_type": "code",
   "execution_count": null,
   "id": "c646eb40",
   "metadata": {},
   "outputs": [],
   "source": [
    "# cook your dish here\n",
    "def sol():\n",
    "    n=int(input())\n",
    "    a=list(map(int,input().split()))\n",
    "    lucky=0\n",
    "    unlucky=0\n",
    "    for i in a:\n",
    "        if i%2==0:\n",
    "            lucky+=1\n",
    "        else:\n",
    "            unlucky+=1\n",
    "     \n",
    "    if lucky>unlucky:\n",
    "        print(\"ready for battle\")\n",
    "    else:\n",
    "        print(\"not ready\")\n",
    "\n",
    "\n",
    "sol()"
   ]
  }
 ],
 "metadata": {
  "language_info": {
   "name": "python"
  }
 },
 "nbformat": 4,
 "nbformat_minor": 5
}
