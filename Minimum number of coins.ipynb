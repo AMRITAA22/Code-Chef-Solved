{
 "cells": [
  {
   "cell_type": "code",
   "execution_count": null,
   "id": "851d0698",
   "metadata": {},
   "outputs": [],
   "source": [
    "# cook your dish here\n",
    "t=int(input())\n",
    "for _ in range(t):\n",
    "    n=int(input())\n",
    "    if n%5==0:\n",
    "        tens = n // 10\n",
    "        fives = (n % 10) // 5\n",
    "        if n % 10 == 0:\n",
    "            print(n//10)\n",
    "        else:\n",
    "            print(n//10 + 1)\n",
    "    else:\n",
    "        print(\"-1\")"
   ]
  }
 ],
 "metadata": {
  "language_info": {
   "name": "python"
  }
 },
 "nbformat": 4,
 "nbformat_minor": 5
}
