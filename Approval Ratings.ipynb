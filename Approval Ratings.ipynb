{
 "cells": [
  {
   "cell_type": "code",
   "execution_count": null,
   "id": "bdb8fb28",
   "metadata": {},
   "outputs": [],
   "source": [
    "# cook your dish here\n",
    "def solve():\n",
    "    a = list(map(int, input().split()))\n",
    "    a.sort()\n",
    "    total_rating = sum(a)\n",
    "    if total_rating >= 35:\n",
    "        print(0)\n",
    "        return\n",
    "    \n",
    "    bribes = 0\n",
    "    for i in range(5):\n",
    "        total_rating += (10 - a[i])\n",
    "        bribes += 1\n",
    "        if total_rating >= 35:\n",
    "            print(bribes * 100)\n",
    "            return\n",
    "\n",
    "t = int(input())\n",
    "for _ in range(t):\n",
    "    solve()"
   ]
  }
 ],
 "metadata": {
  "language_info": {
   "name": "python"
  }
 },
 "nbformat": 4,
 "nbformat_minor": 5
}
