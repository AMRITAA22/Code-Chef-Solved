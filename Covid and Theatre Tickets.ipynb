{
 "cells": [
  {
   "cell_type": "code",
   "execution_count": null,
   "id": "c23d384b",
   "metadata": {},
   "outputs": [],
   "source": [
    "# cook your dish here\n",
    "n=int(input())\n",
    "for i in range(n):\n",
    "    c=0;\n",
    "    a,b=list(map(int,input().split()))\n",
    "    for i in range(0,a,2):\n",
    "        for j in range(0,b,2):\n",
    "            c+=1\n",
    "    print(c)"
   ]
  }
 ],
 "metadata": {
  "language_info": {
   "name": "python"
  }
 },
 "nbformat": 4,
 "nbformat_minor": 5
}
