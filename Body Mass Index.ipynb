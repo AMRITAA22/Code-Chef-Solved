{
 "cells": [
  {
   "cell_type": "code",
   "execution_count": null,
   "id": "da7c6b0b",
   "metadata": {},
   "outputs": [],
   "source": [
    "# cook your dish here\n",
    "t=int(input())\n",
    "for _ in range(t):\n",
    "    m,h=map(int,input().split())\n",
    "    BMI=m/(h**2)\n",
    "    if BMI<=18:\n",
    "        print(\"1\")\n",
    "    elif 19<=BMI<=24:\n",
    "        print(\"2\")\n",
    "    elif 25<=BMI<=29:\n",
    "        print(\"3\")\n",
    "    else:\n",
    "        print(\"4\")"
   ]
  }
 ],
 "metadata": {
  "language_info": {
   "name": "python"
  }
 },
 "nbformat": 4,
 "nbformat_minor": 5
}
