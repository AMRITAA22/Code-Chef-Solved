{
 "cells": [
  {
   "cell_type": "code",
   "execution_count": null,
   "id": "d178d588",
   "metadata": {},
   "outputs": [],
   "source": [
    "# cook your dish here\n",
    "# cook your dish here\n",
    "for i in range(int(input())):\n",
    "    n=int(input())\n",
    "    ind = [int(x) for x in input(\"\").split(\" \")]\n",
    "    pos=len(ind)-1\n",
    "    while pos>0 and ind[pos-1]<= (ind[pos]) //2:\n",
    "        ind.pop(pos-1)\n",
    "        pos-=1\n",
    "    print(pos+1)"
   ]
  },
  {
   "cell_type": "code",
   "execution_count": null,
   "id": "65c8ca9b",
   "metadata": {},
   "outputs": [],
   "source": [
    "# cook your dish here\n",
    "for _ in range(int(input())):\n",
    "    n = int(input())\n",
    "    a = list(map(int, input().split()))\n",
    "    sushil_wealth = a[n - 1]\n",
    "    bullied_count = 0\n",
    "    for i in range(n - 2, -1, -1):\n",
    "        if a[i] <= sushil_wealth // 2:\n",
    "            bullied_count += 1\n",
    "        else:\n",
    "            break\n",
    "    final_position = n - bullied_count\n",
    "    print(final_position)"
   ]
  }
 ],
 "metadata": {
  "language_info": {
   "name": "python"
  }
 },
 "nbformat": 4,
 "nbformat_minor": 5
}
