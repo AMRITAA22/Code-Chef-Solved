{
 "cells": [
  {
   "cell_type": "code",
   "execution_count": null,
   "id": "d33eec8c",
   "metadata": {},
   "outputs": [],
   "source": [
    "# cook your dish here\n",
    "for _ in range(int(input())):\n",
    "    N=int(input())\n",
    "    s=input()\n",
    "    one=s.count(\"1\")\n",
    "    zero=s.count(\"0\")\n",
    "    if zero>=one:\n",
    "        val=one\n",
    "    else:\n",
    "        val=1+zero\n",
    "    print(val)"
   ]
  }
 ],
 "metadata": {
  "language_info": {
   "name": "python"
  }
 },
 "nbformat": 4,
 "nbformat_minor": 5
}
