{
 "cells": [
  {
   "cell_type": "code",
   "execution_count": null,
   "id": "7eb50ef6",
   "metadata": {},
   "outputs": [],
   "source": [
    "def solve():\n",
    "    num_rows = int(input())\n",
    "    triangle = []\n",
    "    for _ in range(num_rows):\n",
    "        row = list(map(int, input().split()))\n",
    "        triangle.append(row)\n",
    "    for i in range(num_rows - 2, -1, -1):\n",
    "        for j in range(i + 1):\n",
    "            triangle[i][j] += max(triangle[i + 1][j], triangle[i + 1][j + 1])\n",
    "    print(triangle[0][0])\n",
    "if __name__ == \"__main__\":\n",
    "    num_test_cases = int(input())\n",
    "    for _ in range(num_test_cases):\n",
    "        solve()"
   ]
  }
 ],
 "metadata": {
  "language_info": {
   "name": "python"
  }
 },
 "nbformat": 4,
 "nbformat_minor": 5
}
