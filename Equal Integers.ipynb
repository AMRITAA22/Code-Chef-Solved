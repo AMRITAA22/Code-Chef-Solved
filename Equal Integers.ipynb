{
 "cells": [
  {
   "cell_type": "code",
   "execution_count": null,
   "id": "3a8805cf",
   "metadata": {},
   "outputs": [],
   "source": [
    "# cook your dish here\n",
    "t=int(input())\n",
    "for _ in range(t):\n",
    "    x,y=map(int,input().split())\n",
    "    if x<y:\n",
    "        print(y-x)\n",
    "    else:\n",
    "        if (x-y)%2==0:\n",
    "            print((x-y)//2)\n",
    "        else:\n",
    "            print((x-y)//2+2)"
   ]
  }
 ],
 "metadata": {
  "language_info": {
   "name": "python"
  }
 },
 "nbformat": 4,
 "nbformat_minor": 5
}
