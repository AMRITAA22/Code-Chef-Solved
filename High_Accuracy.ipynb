{
 "cells": [
  {
   "cell_type": "code",
   "execution_count": null,
   "id": "861b19d0",
   "metadata": {},
   "outputs": [],
   "source": [
    "\n",
    "# cook your dish here\n",
    "t=int(input())\n",
    "for _ in range(t):\n",
    "    x=int(input())\n",
    "    k=x%3\n",
    "    if (k%3)==0:\n",
    "     print(k%3)\n",
    "    else:\n",
    "        \n",
    "     print(3-k%3)\n",
    "    "
   ]
  }
 ],
 "metadata": {
  "language_info": {
   "name": "python"
  }
 },
 "nbformat": 4,
 "nbformat_minor": 5
}
