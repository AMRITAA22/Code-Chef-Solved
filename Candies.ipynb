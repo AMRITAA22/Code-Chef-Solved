{
 "cells": [
  {
   "cell_type": "code",
   "execution_count": null,
   "id": "3eb56f02",
   "metadata": {},
   "outputs": [],
   "source": [
    "# cook your dish here\n",
    "for i in range(int(input())):\n",
    "    n=int(input())\n",
    "    l=list(map(int,input().split()))\n",
    "    count=0\n",
    "    c=0\n",
    "    for j in l:\n",
    "        k=l.count(j)\n",
    "        if k>=3:\n",
    "            c+=1\n",
    "    if c>1:\n",
    "        print(\"NO\")\n",
    "    else:\n",
    "        print(\"yes\")"
   ]
  }
 ],
 "metadata": {
  "language_info": {
   "name": "python"
  }
 },
 "nbformat": 4,
 "nbformat_minor": 5
}
