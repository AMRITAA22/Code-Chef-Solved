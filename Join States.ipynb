{
 "cells": [
  {
   "cell_type": "code",
   "execution_count": null,
   "id": "9a35a07e",
   "metadata": {},
   "outputs": [],
   "source": [
    "# cook your dish here\n",
    "def max_states(N, M, A):\n",
    "    cumulative_sum = 0\n",
    "    states_count = 0\n",
    "    for i in range(N):\n",
    "        cumulative_sum += A[i]\n",
    "        if cumulative_sum >= M:\n",
    "            states_count += 1\n",
    "            cumulative_sum = 0\n",
    "    return states_count\n",
    "T = int(input())\n",
    "for _ in range(T):\n",
    "    N, M = map(int, input().split())\n",
    "    A = list(map(int, input().split()))\n",
    "    result = max_states(N, M, A)\n",
    "    print(result)"
   ]
  }
 ],
 "metadata": {
  "language_info": {
   "name": "python"
  }
 },
 "nbformat": 4,
 "nbformat_minor": 5
}
