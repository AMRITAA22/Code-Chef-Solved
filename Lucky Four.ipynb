{
 "cells": [
  {
   "cell_type": "code",
   "execution_count": null,
   "id": "a2d76bfb",
   "metadata": {},
   "outputs": [],
   "source": [
    "# cook your dish here\n",
    "T = int(input())\n",
    "for i in range(T):\n",
    "    a = int(input())\n",
    "    c = 0\n",
    "    while(a>0):\n",
    "        rem = a%10\n",
    "        if (rem == 4):\n",
    "            c = c+1\n",
    "        a = a//10\n",
    "    print(c)\n",
    "        "
   ]
  }
 ],
 "metadata": {
  "language_info": {
   "name": "python"
  }
 },
 "nbformat": 4,
 "nbformat_minor": 5
}
