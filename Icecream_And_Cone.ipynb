{
 "cells": [
  {
   "cell_type": "code",
   "execution_count": null,
   "id": "801fc4dd",
   "metadata": {},
   "outputs": [],
   "source": [
    "# cook your dish here\n",
    "x,y=map(int,input().split())\n",
    "if x<=y:\n",
    "    print(x)\n",
    "else:\n",
    "    print(y)"
   ]
  }
 ],
 "metadata": {
  "language_info": {
   "name": "python"
  }
 },
 "nbformat": 4,
 "nbformat_minor": 5
}
