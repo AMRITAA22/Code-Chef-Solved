{
 "cells": [
  {
   "cell_type": "code",
   "execution_count": null,
   "id": "01e3dfaa",
   "metadata": {
    "vscode": {
     "languageId": "plaintext"
    }
   },
   "outputs": [],
   "source": [
    "a=int(input())\n",
    "b=int(input())\n",
    "if a>b:\n",
    "    print(a-b)\n",
    "else:\n",
    "    print(a+b)"
   ]
  }
 ],
 "metadata": {
  "language_info": {
   "name": "python"
  }
 },
 "nbformat": 4,
 "nbformat_minor": 5
}
