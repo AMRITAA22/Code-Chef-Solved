{
 "cells": [
  {
   "cell_type": "code",
   "execution_count": null,
   "id": "0f7973d7",
   "metadata": {},
   "outputs": [],
   "source": [
    "# cook your dish here\n",
    "import math\n",
    "\n",
    "def sol():\n",
    "    n,x=map(int,input().split())\n",
    "    \n",
    "    if n<=x:\n",
    "        print(0)\n",
    "    else:\n",
    "        needed_candies = n - x\n",
    "        packets = math.ceil(needed_candies / 4)\n",
    "        print(packets)\n",
    "\n",
    "\n",
    "\n",
    "t=int(input())\n",
    "for _ in range(t):\n",
    "    sol()"
   ]
  }
 ],
 "metadata": {
  "language_info": {
   "name": "python"
  }
 },
 "nbformat": 4,
 "nbformat_minor": 5
}
