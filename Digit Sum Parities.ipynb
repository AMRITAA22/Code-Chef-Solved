{
 "cells": [
  {
   "cell_type": "code",
   "execution_count": null,
   "id": "59b45124",
   "metadata": {},
   "outputs": [],
   "source": [
    "# cook your dish here\n",
    "def digit_sum(num):\n",
    "    Listed_num = list(map(int, list(str(num))))\n",
    "    return sum(Listed_num)\n",
    "\n",
    "t = int(input())\n",
    "for _ in range(t):\n",
    "    N = int(input())\n",
    "    for i in range(1,3):\n",
    "        if digit_sum(N) % 2 != digit_sum(N + i) % 2:\n",
    "            print(N + i)\n",
    "            break"
   ]
  }
 ],
 "metadata": {
  "language_info": {
   "name": "python"
  }
 },
 "nbformat": 4,
 "nbformat_minor": 5
}
