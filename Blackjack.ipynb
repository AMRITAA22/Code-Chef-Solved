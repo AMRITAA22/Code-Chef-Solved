{
 "cells": [
  {
   "cell_type": "code",
   "execution_count": null,
   "id": "8d7595e4",
   "metadata": {},
   "outputs": [],
   "source": [
    "t=int(input())\n",
    "for _ in range(t):\n",
    "    a,b=map(int,input().split())\n",
    "    z=21-(a+b)\n",
    "    if 1<=z<=10:\n",
    "        print(z)\n",
    "    else:\n",
    "        print(\"-1\")"
   ]
  }
 ],
 "metadata": {
  "language_info": {
   "name": "python"
  }
 },
 "nbformat": 4,
 "nbformat_minor": 5
}
