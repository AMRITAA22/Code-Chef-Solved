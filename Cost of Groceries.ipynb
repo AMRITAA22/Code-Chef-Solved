{
 "cells": [
  {
   "cell_type": "code",
   "execution_count": null,
   "id": "6616fefd",
   "metadata": {},
   "outputs": [],
   "source": [
    "t = int(input())\n",
    "\n",
    "while t > 0:\n",
    "    n, x = map(int, input().split())\n",
    "    a = list(map(int, input().split()))\n",
    "    b = list(map(int, input().split()))\n",
    "    # Your code goes here\n",
    "    total=0\n",
    "    for i in range(len(a)):\n",
    "        if a[i]>=x:\n",
    "            total=total+b[i]\n",
    "    print(total)\n",
    "    t -= 1\n"
   ]
  }
 ],
 "metadata": {
  "language_info": {
   "name": "python"
  }
 },
 "nbformat": 4,
 "nbformat_minor": 5
}
