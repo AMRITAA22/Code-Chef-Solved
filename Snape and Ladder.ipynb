{
 "cells": [
  {
   "cell_type": "code",
   "execution_count": null,
   "id": "6e8f45dd",
   "metadata": {},
   "outputs": [],
   "source": [
    "# cook your dish here\n",
    "import math \n",
    "\n",
    "t=int(input())\n",
    "for _ in range(t):\n",
    "    b,LS=map(int,input().split())\n",
    "    min_RS=math.sqrt(LS**2-b**2)\n",
    "    max_RS=math.sqrt(LS**2+b**2)\n",
    "    print(min_RS,max_RS)"
   ]
  }
 ],
 "metadata": {
  "language_info": {
   "name": "python"
  }
 },
 "nbformat": 4,
 "nbformat_minor": 5
}
