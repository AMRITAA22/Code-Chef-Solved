{
 "cells": [
  {
   "cell_type": "code",
   "execution_count": null,
   "id": "3fefb84f",
   "metadata": {},
   "outputs": [],
   "source": [
    "# cook your dish here\n",
    "t=int(input())\n",
    "for _ in range(t):\n",
    "    x = int(input())\n",
    "    while x > 3 or x % 2 == 0 and x > 0:\n",
    "        if x > 3:\n",
    "            x -= 3\n",
    "        elif x % 2 == 0:\n",
    "            x //= 2\n",
    "        else:\n",
    "            break\n",
    "    print(x)"
   ]
  }
 ],
 "metadata": {
  "language_info": {
   "name": "python"
  }
 },
 "nbformat": 4,
 "nbformat_minor": 5
}
