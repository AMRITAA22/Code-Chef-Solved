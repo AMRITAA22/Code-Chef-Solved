{
 "cells": [
  {
   "cell_type": "code",
   "execution_count": null,
   "id": "a4c0a686",
   "metadata": {},
   "outputs": [],
   "source": [
    "for _ in range(int(input())):\n",
    "    n, m = map(int, input().split())\n",
    "    x, y = 9*n, 10*m\n",
    "    if x < y: \n",
    "        print('ONLINE')\n",
    "    elif x > y: \n",
    "        print('DINING')\n",
    "    else: \n",
    "        print('EITHER')"
   ]
  }
 ],
 "metadata": {
  "language_info": {
   "name": "python"
  }
 },
 "nbformat": 4,
 "nbformat_minor": 5
}
