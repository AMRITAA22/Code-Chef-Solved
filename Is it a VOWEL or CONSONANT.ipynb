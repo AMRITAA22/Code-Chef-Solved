{
 "cells": [
  {
   "cell_type": "code",
   "execution_count": null,
   "id": "1198b7a4",
   "metadata": {},
   "outputs": [],
   "source": [
    "# cook your dish here\n",
    "c=input()\n",
    "if c==\"A\" or c==\"E\" or c==\"I\" or c==\"O\" or c==\"U\":\n",
    "    print(\"Vowel\")\n",
    "else:\n",
    "    print(\"Consonant\")"
   ]
  }
 ],
 "metadata": {
  "language_info": {
   "name": "python"
  }
 },
 "nbformat": 4,
 "nbformat_minor": 5
}
