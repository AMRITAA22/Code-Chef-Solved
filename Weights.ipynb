{
 "cells": [
  {
   "cell_type": "code",
   "execution_count": null,
   "id": "011253a6",
   "metadata": {},
   "outputs": [],
   "source": [
    "# cook your dish here\n",
    "t=int(input())\n",
    "for _ in range(t):\n",
    "    W,X,Y,Z=map(int,input().split())\n",
    "    if W==X or W==Y or W==Z or W==X+Y or W==Y+Z or W==Z+X or W==X+Y+Z:\n",
    "        print(\"YES\")\n",
    "    else:\n",
    "        print(\"NO\")"
   ]
  }
 ],
 "metadata": {
  "language_info": {
   "name": "python"
  }
 },
 "nbformat": 4,
 "nbformat_minor": 5
}
