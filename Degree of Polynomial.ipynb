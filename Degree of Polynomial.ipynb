{
 "cells": [
  {
   "cell_type": "code",
   "execution_count": null,
   "id": "90c702f4",
   "metadata": {},
   "outputs": [],
   "source": [
    "for i in range(int(input())):\n",
    "    n=int(input())\n",
    "    c=list(map(int,input().split()))\n",
    "    degree=0\n",
    "    for i in range(len(c)):\n",
    "        if c[i] != 0 and i>degree:\n",
    "            degree=i \n",
    "    print(degree)"
   ]
  }
 ],
 "metadata": {
  "language_info": {
   "name": "python"
  }
 },
 "nbformat": 4,
 "nbformat_minor": 5
}
