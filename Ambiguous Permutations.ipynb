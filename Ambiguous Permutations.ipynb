{
 "cells": [
  {
   "cell_type": "code",
   "execution_count": null,
   "id": "f150ce18",
   "metadata": {},
   "outputs": [],
   "source": [
    "# cook your dish here\n",
    "n=int(input())\n",
    "while(n!=0):\n",
    "    a=list(map(int,input().split()))\n",
    "    b=a.copy()\n",
    "    for i in range(n):\n",
    "        b[a[i]-1]=i+1 \n",
    "    if (a==b):\n",
    "        print(\"ambiguous\")\n",
    "    else:\n",
    "        print(\"not ambiguous\")\n",
    "    n=int(input())"
   ]
  }
 ],
 "metadata": {
  "language_info": {
   "name": "python"
  }
 },
 "nbformat": 4,
 "nbformat_minor": 5
}
