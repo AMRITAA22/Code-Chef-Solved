{
 "cells": [
  {
   "cell_type": "code",
   "execution_count": null,
   "id": "c566ef77",
   "metadata": {},
   "outputs": [],
   "source": [
    "# cook your dish here\n",
    "for i in range(int(input())):\n",
    "    n=int(input())\n",
    "    s=input()\n",
    "    server=0\n",
    "    alice=0\n",
    "    bob=0\n",
    "    for j in range(n):\n",
    "        if((server==0)and(s[j]=='A')):\n",
    "            alice+=1\n",
    "        elif((server==0)and(s[j]=='B')):\n",
    "            server=1\n",
    "        elif((server==1)and(s[j]=='B')):\n",
    "            bob+=1\n",
    "        else:\n",
    "            server=0\n",
    "    print(alice,'',bob)\n",
    "        \n",
    "        \n",
    "            "
   ]
  }
 ],
 "metadata": {
  "language_info": {
   "name": "python"
  }
 },
 "nbformat": 4,
 "nbformat_minor": 5
}
