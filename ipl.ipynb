{
 "cells": [
  {
   "cell_type": "code",
   "execution_count": null,
   "id": "e8ce7cf6",
   "metadata": {},
   "outputs": [],
   "source": [
    "# cook your dish here\n",
    "n=int(input())\n",
    "if n>=7:\n",
    "    print(\"THALA\")\n",
    "else:\n",
    "    print(\"BOOM\")"
   ]
  }
 ],
 "metadata": {
  "language_info": {
   "name": "python"
  }
 },
 "nbformat": 4,
 "nbformat_minor": 5
}
