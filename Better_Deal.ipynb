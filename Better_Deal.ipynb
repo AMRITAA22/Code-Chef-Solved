{
 "cells": [
  {
   "cell_type": "code",
   "execution_count": null,
   "id": "84eab4d8",
   "metadata": {},
   "outputs": [],
   "source": [
    "# cook your dish here\n",
    "t=int(input())\n",
    "for _ in range(t):\n",
    "    a,b=map(int,input().split())\n",
    "    if 100-a<(200-2*b):\n",
    "        print(\"FIRST\")\n",
    "    elif 100-a==(200-2*b):\n",
    "        print(\"BOTH\")\n",
    "    else:\n",
    "        print(\"SECOND\")"
   ]
  }
 ],
 "metadata": {
  "language_info": {
   "name": "python"
  }
 },
 "nbformat": 4,
 "nbformat_minor": 5
}
