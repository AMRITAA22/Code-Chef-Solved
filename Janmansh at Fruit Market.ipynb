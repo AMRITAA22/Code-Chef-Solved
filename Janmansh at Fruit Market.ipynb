{
 "cells": [
  {
   "cell_type": "code",
   "execution_count": null,
   "id": "3c33c204",
   "metadata": {},
   "outputs": [],
   "source": [
    "# cook your dish here\n",
    "t=int(input())\n",
    "for _ in range(t):\n",
    "    x,a,b,c=map(int,input().split())\n",
    "    m=min(a,b,c)\n",
    "    mx=max(a,b,c)\n",
    "    print((x-1)*m+(a+b+c-m-mx))"
   ]
  }
 ],
 "metadata": {
  "language_info": {
   "name": "python"
  }
 },
 "nbformat": 4,
 "nbformat_minor": 5
}
