{
 "cells": [
  {
   "cell_type": "code",
   "execution_count": null,
   "id": "1d0a9929",
   "metadata": {},
   "outputs": [],
   "source": [
    "# cook your dish here\n",
    "for _ in range(int(input())):\n",
    "    n=int(input())\n",
    "    print(1,n)"
   ]
  }
 ],
 "metadata": {
  "language_info": {
   "name": "python"
  }
 },
 "nbformat": 4,
 "nbformat_minor": 5
}
