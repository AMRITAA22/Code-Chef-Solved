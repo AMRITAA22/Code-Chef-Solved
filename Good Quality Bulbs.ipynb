{
 "cells": [
  {
   "cell_type": "code",
   "execution_count": null,
   "id": "9a978033",
   "metadata": {},
   "outputs": [],
   "source": [
    "# cook your dish here\n",
    "for i in range(int(input())):\n",
    "    n,x=map(int,input().split())\n",
    "    l=list(map(int,input().split()))\n",
    "    sum=0\n",
    "    for i in range(len(l)):\n",
    "        sum=sum+l[i] \n",
    "    c=(x*n)-sum\n",
    "    if c>=0:\n",
    "        print(c)\n",
    "    else :\n",
    "        print(0)"
   ]
  }
 ],
 "metadata": {
  "language_info": {
   "name": "python"
  }
 },
 "nbformat": 4,
 "nbformat_minor": 5
}
