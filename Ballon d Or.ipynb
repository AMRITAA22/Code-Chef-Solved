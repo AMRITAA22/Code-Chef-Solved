{
 "cells": [
  {
   "cell_type": "code",
   "execution_count": null,
   "id": "e5994de1",
   "metadata": {},
   "outputs": [],
   "source": [
    "# cook your dish here\n",
    "t = int(input())\n",
    "for i in range(0,t):\n",
    "    N = int(input())\n",
    "    A = list(map(int,input().split()))\n",
    "    count = 0\n",
    "    for j in range(N):\n",
    "        if(A[j] == 2):\n",
    "            count += 1\n",
    "    if(count % 8 == 0):\n",
    "        print(\"YES\")\n",
    "    else:\n",
    "        print(\"NO\")"
   ]
  }
 ],
 "metadata": {
  "language_info": {
   "name": "python"
  }
 },
 "nbformat": 4,
 "nbformat_minor": 5
}
