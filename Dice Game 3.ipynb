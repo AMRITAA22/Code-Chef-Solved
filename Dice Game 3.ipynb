{
 "cells": [
  {
   "cell_type": "code",
   "execution_count": null,
   "id": "ddf7a537",
   "metadata": {},
   "outputs": [],
   "source": [
    "# cook your dish here\n",
    "def solve():\n",
    "    n = int(input())\n",
    "    ans = (n // 2) * 13\n",
    "    if n % 2 == 1:\n",
    "        ans += 6\n",
    "    print(ans)\n",
    "\n",
    "t = int(input())\n",
    "for _ in range(t):\n",
    "    solve()"
   ]
  }
 ],
 "metadata": {
  "language_info": {
   "name": "python"
  }
 },
 "nbformat": 4,
 "nbformat_minor": 5
}
