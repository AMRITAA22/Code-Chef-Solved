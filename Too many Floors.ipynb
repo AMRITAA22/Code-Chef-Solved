{
 "cells": [
  {
   "cell_type": "code",
   "execution_count": null,
   "id": "6b55becc",
   "metadata": {},
   "outputs": [],
   "source": [
    "# cook your dish here\n",
    "t=int(input())\n",
    "for __ in range(t):\n",
    "    x,y=map(int,input().split())\n",
    "    a=(x-1)//10+1 \n",
    "    b=(y-1)//10+1 \n",
    "    print(abs(a-b))"
   ]
  }
 ],
 "metadata": {
  "language_info": {
   "name": "python"
  }
 },
 "nbformat": 4,
 "nbformat_minor": 5
}
