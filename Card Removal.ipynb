{
 "cells": [
  {
   "cell_type": "code",
   "execution_count": null,
   "id": "bcf53144",
   "metadata": {},
   "outputs": [],
   "source": [
    "# cook your dish here\n",
    "from statistics import mode\n",
    "for _ in range(int(input())):\n",
    "    n = int(input())\n",
    "    k = list(map(int,input().split()))\n",
    "    j = mode(k)\n",
    "    cn = k.count(j)\n",
    "    print(n-cn)"
   ]
  }
 ],
 "metadata": {
  "language_info": {
   "name": "python"
  }
 },
 "nbformat": 4,
 "nbformat_minor": 5
}
