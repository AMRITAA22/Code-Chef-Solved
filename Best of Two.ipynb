{
 "cells": [
  {
   "cell_type": "code",
   "execution_count": null,
   "id": "32b6ede5",
   "metadata": {},
   "outputs": [],
   "source": [
    "# cook your dish here\n",
    "t=int(input())\n",
    "for _ in range(t):\n",
    "    l=list(map(int,input().split()))\n",
    "    a=l[0:3]\n",
    "    b=l[3:6]\n",
    "    a.sort()\n",
    "    b.sort()\n",
    "    if a[1]+a[2]==b[1]+b[2]:\n",
    "        print(\"tie\")\n",
    "    elif a[1]+a[2]>b[1]+b[2]:\n",
    "        print(\"alice\")\n",
    "    else:\n",
    "        print(\"bob\")\n",
    "    "
   ]
  }
 ],
 "metadata": {
  "language_info": {
   "name": "python"
  }
 },
 "nbformat": 4,
 "nbformat_minor": 5
}
