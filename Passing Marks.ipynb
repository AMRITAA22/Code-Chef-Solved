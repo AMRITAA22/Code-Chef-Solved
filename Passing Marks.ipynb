{
 "cells": [
  {
   "cell_type": "code",
   "execution_count": null,
   "id": "308370e3",
   "metadata": {},
   "outputs": [],
   "source": [
    "t = int(input())\n",
    "for _ in range(t):\n",
    "    n, x = map(int, input().split())\n",
    "    a = list(map(int, input().split()))\n",
    "    # your code goes here\n",
    "    arr=[]\n",
    "    for i in range(x):\n",
    "        max1=max(a)\n",
    "        arr.append(max1)\n",
    "        a.remove(max1)\n",
    "        i-=1\n",
    "    min1=min(arr)\n",
    "    print(min1-1)"
   ]
  }
 ],
 "metadata": {
  "language_info": {
   "name": "python"
  }
 },
 "nbformat": 4,
 "nbformat_minor": 5
}
