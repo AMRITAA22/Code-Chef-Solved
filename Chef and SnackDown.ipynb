{
 "cells": [
  {
   "cell_type": "code",
   "execution_count": null,
   "id": "b0b03744",
   "metadata": {},
   "outputs": [],
   "source": [
    "# cook your dish here\n",
    "t=int(input())\n",
    "years = {2010, 2015, 2016, 2017, 2019}\n",
    "for _ in range(t):\n",
    "    n=int(input())\n",
    "    if n in years:\n",
    "        print(\"HOSTED\")\n",
    "    else:\n",
    "        print(\"NOT HOSTED\")"
   ]
  }
 ],
 "metadata": {
  "language_info": {
   "name": "python"
  }
 },
 "nbformat": 4,
 "nbformat_minor": 5
}
