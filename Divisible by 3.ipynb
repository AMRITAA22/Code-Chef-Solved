{
 "cells": [
  {
   "cell_type": "code",
   "execution_count": null,
   "id": "78c6d08d",
   "metadata": {},
   "outputs": [],
   "source": [
    "# cook your dish here\n",
    "t=int(input())\n",
    "for _ in range(t):\n",
    "    A,B = map(int,input().split())\n",
    "    count = 0\n",
    "    while (A % 3 != 0) and (B % 3 != 0):\n",
    "        dif = abs(A-B)\n",
    "        if (A > B):\n",
    "            A = dif\n",
    "        else:\n",
    "            B = dif\n",
    "        count += 1\n",
    "    print(count)"
   ]
  }
 ],
 "metadata": {
  "language_info": {
   "name": "python"
  }
 },
 "nbformat": 4,
 "nbformat_minor": 5
}
