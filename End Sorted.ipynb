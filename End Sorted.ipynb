{
 "cells": [
  {
   "cell_type": "code",
   "execution_count": null,
   "id": "c6825c78",
   "metadata": {},
   "outputs": [],
   "source": [
    "# cook your dish here\n",
    "for _ in range(int(input())):\n",
    "    n = int(input())\n",
    "    p = list(map(int,input().split()))\n",
    "    loc1 = p.index(1)\n",
    "    locn = p.index(n)\n",
    "    #print(n - 1 - locn,'+', loc1,'-', int(loc1>locn))\n",
    "    print(n - 1 - locn + loc1 - int(loc1>locn))"
   ]
  }
 ],
 "metadata": {
  "language_info": {
   "name": "python"
  }
 },
 "nbformat": 4,
 "nbformat_minor": 5
}
