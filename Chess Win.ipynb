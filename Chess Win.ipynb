{
 "cells": [
  {
   "cell_type": "code",
   "execution_count": null,
   "id": "d5de4184",
   "metadata": {},
   "outputs": [],
   "source": [
    "# cook your dish here\n",
    "a,b=map(int,input().split())\n",
    "print((b-a)+1)"
   ]
  }
 ],
 "metadata": {
  "language_info": {
   "name": "python"
  }
 },
 "nbformat": 4,
 "nbformat_minor": 5
}
