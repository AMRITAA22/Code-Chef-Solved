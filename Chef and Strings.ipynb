{
 "cells": [
  {
   "cell_type": "code",
   "execution_count": null,
   "id": "ede401a1",
   "metadata": {},
   "outputs": [],
   "source": [
    "# cook your dish here\n",
    "t = int(input())\n",
    "for _ in range(t):\n",
    "    n = int(input())\n",
    "    l = list(map(int, input().split()))\n",
    "    skip = 0\n",
    "    for i in range(1,n):\n",
    "        skip = skip + abs(l[i]-l[i-1]) - 1\n",
    "    print(skip)"
   ]
  }
 ],
 "metadata": {
  "language_info": {
   "name": "python"
  }
 },
 "nbformat": 4,
 "nbformat_minor": 5
}
