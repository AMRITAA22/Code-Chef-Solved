{
 "cells": [
  {
   "cell_type": "code",
   "execution_count": null,
   "id": "55296ffd",
   "metadata": {},
   "outputs": [],
   "source": [
    "# cook your dish here\n",
    "t=int(input())\n",
    "for _ in range(t):\n",
    "    a,b,c,d=map(int,input().split())\n",
    "    if b > a:\n",
    "        a += c\n",
    "    else:\n",
    "        b += c\n",
    "    if b > a:\n",
    "        a += d\n",
    "    else:\n",
    "        b += d\n",
    "    if b > a:\n",
    "        print(\"S\")\n",
    "    else:\n",
    "        print(\"N\")"
   ]
  }
 ],
 "metadata": {
  "language_info": {
   "name": "python"
  }
 },
 "nbformat": 4,
 "nbformat_minor": 5
}
