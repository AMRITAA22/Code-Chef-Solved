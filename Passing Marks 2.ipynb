{
 "cells": [
  {
   "cell_type": "code",
   "execution_count": null,
   "id": "4dd09bdc",
   "metadata": {},
   "outputs": [],
   "source": [
    "# cook your dish here\n",
    "def solve():\n",
    "    A_min, B_min, C_min, T_min, A, B, C = map(int, input().split())\n",
    "    if A_min <= A and B_min <= B and C_min <= C and A + B + C >= T_min:\n",
    "        print(\"YES\")\n",
    "    else:\n",
    "        print(\"NO\")\n",
    "\n",
    "for _ in range(int(input())):\n",
    "    solve()s"
   ]
  }
 ],
 "metadata": {
  "language_info": {
   "name": "python"
  }
 },
 "nbformat": 4,
 "nbformat_minor": 5
}
