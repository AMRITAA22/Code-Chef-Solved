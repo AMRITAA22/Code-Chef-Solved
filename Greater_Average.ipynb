{
 "cells": [
  {
   "cell_type": "code",
   "execution_count": null,
   "id": "bfb0f073",
   "metadata": {},
   "outputs": [],
   "source": [
    "# cook your dish here\n",
    "def solve():\n",
    "    a,b,c=map(int,input().split())\n",
    "    if ((a+b)/2) >c:\n",
    "        print(\"yes\")\n",
    "    else:\n",
    "        print(\"no\")\n",
    "\n",
    "t=int(input())\n",
    "for i in range(t):\n",
    "    solve()"
   ]
  }
 ],
 "metadata": {
  "language_info": {
   "name": "python"
  }
 },
 "nbformat": 4,
 "nbformat_minor": 5
}
