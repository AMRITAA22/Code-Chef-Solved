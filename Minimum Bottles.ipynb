{
 "cells": [
  {
   "cell_type": "code",
   "execution_count": null,
   "id": "1dcd2a97",
   "metadata": {},
   "outputs": [],
   "source": [
    "t = int(input())\n",
    "for _ in range(t):\n",
    "    N, X = map(int, input().split())\n",
    "    A = list(map(int, input().split()))\n",
    "    total_water = sum(A)\n",
    "    min_bottles = (total_water + X - 1) // X  \n",
    "    print(min_bottles)"
   ]
  }
 ],
 "metadata": {
  "language_info": {
   "name": "python"
  }
 },
 "nbformat": 4,
 "nbformat_minor": 5
}
