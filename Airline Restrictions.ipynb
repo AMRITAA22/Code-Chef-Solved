{
 "cells": [
  {
   "cell_type": "code",
   "execution_count": null,
   "id": "43c34717",
   "metadata": {},
   "outputs": [],
   "source": [
    "# cook your dish here\n",
    "t=int(input())\n",
    "for _ in range(t):\n",
    "    a,b,c,d,e=map(int,input().split())\n",
    "    if(a+b<=d) and (c<=e):\n",
    "        print(\"YES\")\n",
    "    elif(b+c<=d) and (a<=e):\n",
    "        print(\"YES\")\n",
    "    elif(a+c<=d) and (b<=e):\n",
    "        print(\"YES\")\n",
    "    else:\n",
    "            print(\"NO\")"
   ]
  }
 ],
 "metadata": {
  "language_info": {
   "name": "python"
  }
 },
 "nbformat": 4,
 "nbformat_minor": 5
}
