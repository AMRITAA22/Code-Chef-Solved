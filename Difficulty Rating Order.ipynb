{
 "cells": [
  {
   "cell_type": "code",
   "execution_count": null,
   "id": "17b210c8",
   "metadata": {},
   "outputs": [],
   "source": [
    "# cook your dish here\n",
    "t = int(input())\n",
    "def Difficulty_rating(d):\n",
    "    for i in range(1,len(d)):\n",
    "        if (d[i] < d[i-1]):    \n",
    "            return \"No\"\n",
    "    return \"Yes\"\n",
    "for _ in range(t):\n",
    "    n = int(input())\n",
    "    d = list(map(int, input().split()))\n",
    "    print(Difficulty_rating(d))\n",
    "    "
   ]
  }
 ],
 "metadata": {
  "language_info": {
   "name": "python"
  }
 },
 "nbformat": 4,
 "nbformat_minor": 5
}
