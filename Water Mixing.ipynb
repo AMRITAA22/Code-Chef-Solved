{
 "cells": [
  {
   "cell_type": "code",
   "execution_count": null,
   "id": "b1c37117",
   "metadata": {},
   "outputs": [],
   "source": [
    "for testcases in range(int(input())):\n",
    "    a,b,x,y=map(int,input().split())\n",
    "    if(a>b):\n",
    "        need=a-b \n",
    "        if(y>=need):print(\"YES\")\n",
    "        else: print(\"NO\")\n",
    "    elif b>a :\n",
    "        need=b-a \n",
    "        if(x>=need): print(\"YES\")\n",
    "        else: print(\"NO\")\n",
    "    else : print(\"YES\")"
   ]
  }
 ],
 "metadata": {
  "language_info": {
   "name": "python"
  }
 },
 "nbformat": 4,
 "nbformat_minor": 5
}
