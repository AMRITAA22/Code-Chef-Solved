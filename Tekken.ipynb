{
 "cells": [
  {
   "cell_type": "code",
   "execution_count": null,
   "id": "bc2a9cb3",
   "metadata": {},
   "outputs": [],
   "source": [
    "# cook your dish here\n",
    "t=int(input())\n",
    "for _ in range(t):\n",
    "    a,b,c=map(int,input().split())\n",
    "    min3=min(b,c)\n",
    "    p=b-min3\n",
    "    q=c-min3\n",
    "    sum=p+q\n",
    "    if a!=0 and a>sum:\n",
    "        print(\"Yes\")\n",
    "    else:\n",
    "        print(\"No\") "
   ]
  }
 ],
 "metadata": {
  "language_info": {
   "name": "python"
  }
 },
 "nbformat": 4,
 "nbformat_minor": 5
}
