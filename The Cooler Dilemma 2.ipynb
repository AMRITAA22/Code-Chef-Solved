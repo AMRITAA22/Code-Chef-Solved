{
 "cells": [
  {
   "cell_type": "code",
   "execution_count": null,
   "id": "3fff252d",
   "metadata": {},
   "outputs": [],
   "source": [
    "# cook your dish here\n",
    "t=int(input())\n",
    "for _ in range(t):\n",
    "    x,y=map(int,input().split())\n",
    "    print((y-1)//x)"
   ]
  }
 ],
 "metadata": {
  "language_info": {
   "name": "python"
  }
 },
 "nbformat": 4,
 "nbformat_minor": 5
}
