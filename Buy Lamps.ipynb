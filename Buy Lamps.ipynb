{
 "cells": [
  {
   "cell_type": "code",
   "execution_count": null,
   "id": "d7ab0caf",
   "metadata": {},
   "outputs": [],
   "source": [
    "# cook your dish here\n",
    "for t in range(int(input())):\n",
    "    n,k,x,y = map(int, input().split())\n",
    "    if min(x,y) == x:\n",
    "        print(n*x)\n",
    "    else:\n",
    "        print((k*x)+(n-k)*y)"
   ]
  }
 ],
 "metadata": {
  "language_info": {
   "name": "python"
  }
 },
 "nbformat": 4,
 "nbformat_minor": 5
}
