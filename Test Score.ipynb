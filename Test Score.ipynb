{
 "cells": [
  {
   "cell_type": "code",
   "execution_count": null,
   "id": "1716eaba",
   "metadata": {},
   "outputs": [],
   "source": [
    "def solve():\n",
    "    N, X, Y = map(int, input().split())\n",
    "    \n",
    "    if Y % X == 0 and Y // X <= N:\n",
    "        print(\"YES\")\n",
    "    else:\n",
    "        print(\"NO\")\n",
    "\n",
    "T = int(input())\n",
    "for _ in range(T):\n",
    "    solve()"
   ]
  }
 ],
 "metadata": {
  "language_info": {
   "name": "python"
  }
 },
 "nbformat": 4,
 "nbformat_minor": 5
}
