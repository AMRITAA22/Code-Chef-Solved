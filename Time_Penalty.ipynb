{
 "cells": [
  {
   "cell_type": "code",
   "execution_count": null,
   "id": "d5f5994f",
   "metadata": {},
   "outputs": [],
   "source": [
    "# cook your dish here\n",
    "x,y=map(int,input().split())\n",
    "print(x+y*10)"
   ]
  }
 ],
 "metadata": {
  "language_info": {
   "name": "python"
  }
 },
 "nbformat": 4,
 "nbformat_minor": 5
}
