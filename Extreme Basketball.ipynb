{
 "cells": [
  {
   "cell_type": "code",
   "execution_count": null,
   "id": "48b8a07e",
   "metadata": {},
   "outputs": [],
   "source": [
    "# cook your dish here\n",
    "t=int(input())\n",
    "for _ in range(t):\n",
    "    a,b=map(int,input().split())\n",
    "    if a>=b+10 :\n",
    "        print(0)\n",
    "    else:\n",
    "        d=(b+10)-a\n",
    "        s=(d+2)//3\n",
    "        print(s)"
   ]
  }
 ],
 "metadata": {
  "language_info": {
   "name": "python"
  }
 },
 "nbformat": 4,
 "nbformat_minor": 5
}
