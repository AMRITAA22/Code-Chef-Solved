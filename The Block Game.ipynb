{
 "cells": [
  {
   "cell_type": "code",
   "execution_count": null,
   "id": "bd0a4ec3",
   "metadata": {},
   "outputs": [],
   "source": [
    "# cook your dish here\n",
    "def check(num):\n",
    "    if num[::-1] == num:\n",
    "        return True\n",
    "    return False\n",
    "\n",
    "for T in range(int(input())):\n",
    "    N = input()\n",
    "    print(\"wins\" if check(N) else \"loses\")"
   ]
  }
 ],
 "metadata": {
  "language_info": {
   "name": "python"
  }
 },
 "nbformat": 4,
 "nbformat_minor": 5
}
