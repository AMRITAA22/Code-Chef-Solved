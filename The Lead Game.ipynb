{
 "cells": [
  {
   "cell_type": "code",
   "execution_count": null,
   "id": "7bc54a92",
   "metadata": {},
   "outputs": [],
   "source": [
    "n = int(input())\n",
    "play1 = 0\n",
    "play2 = 0\n",
    "max1 = 0\n",
    "max2 = 0\n",
    "for _ in range(n):\n",
    "    a,b = map(int,input().split())\n",
    "    max1 += a\n",
    "    max2 += b\n",
    "    if max1>max2:\n",
    "        play1 = max(play1,max1-max2)\n",
    "    else:\n",
    "        play2 = max(play2,max2-max1)\n",
    "if play1>play2:\n",
    "    print(1,play1)\n",
    "else:\n",
    "    print(2,play2)"
   ]
  }
 ],
 "metadata": {
  "language_info": {
   "name": "python"
  }
 },
 "nbformat": 4,
 "nbformat_minor": 5
}
