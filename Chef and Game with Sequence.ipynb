{
 "cells": [
  {
   "cell_type": "code",
   "execution_count": null,
   "id": "3cb3566d",
   "metadata": {},
   "outputs": [],
   "source": [
    "# cook your dish here\n",
    "for _ in range(int(input())):\n",
    "    n = int(input())\n",
    "    a = list(map(int,input().split()))\n",
    "    if n == 1:\n",
    "        print(1)\n",
    "        continue\n",
    "    odd = sum([1 for x in a if x%2])\n",
    "    print(odd%2 + 1)"
   ]
  }
 ],
 "metadata": {
  "language_info": {
   "name": "python"
  }
 },
 "nbformat": 4,
 "nbformat_minor": 5
}
