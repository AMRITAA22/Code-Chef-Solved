{
 "cells": [
  {
   "cell_type": "code",
   "execution_count": null,
   "id": "c7b7fe37",
   "metadata": {},
   "outputs": [],
   "source": [
    "# cook your dish here\n",
    "n = int(input())\n",
    "for _ in range(n):\n",
    "    a = int(input())\n",
    "    b = input().strip()\n",
    "    boys = girls = entered = 0\n",
    "    \n",
    "    for char in b:\n",
    "        if char == \"B\":\n",
    "            boys += 1\n",
    "        elif char == \"G\":\n",
    "            girls += 1\n",
    "        entered += 1\n",
    "        \n",
    "        if boys > girls * 2:\n",
    "            break\n",
    "    \n",
    "    print(entered)"
   ]
  }
 ],
 "metadata": {
  "language_info": {
   "name": "python"
  }
 },
 "nbformat": 4,
 "nbformat_minor": 5
}
