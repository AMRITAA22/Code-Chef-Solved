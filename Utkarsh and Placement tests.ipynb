{
 "cells": [
  {
   "cell_type": "code",
   "execution_count": null,
   "id": "3e78f7e8",
   "metadata": {},
   "outputs": [],
   "source": [
    "# cook your dish here\n",
    "n=int(input())\n",
    "for i in range(n):\n",
    "    a=list(input().split())\n",
    "    x=list(input().split())\n",
    "    for i in (a):\n",
    "        if i in x:\n",
    "            print(i)\n",
    "            break\n",
    "        "
   ]
  }
 ],
 "metadata": {
  "language_info": {
   "name": "python"
  }
 },
 "nbformat": 4,
 "nbformat_minor": 5
}
