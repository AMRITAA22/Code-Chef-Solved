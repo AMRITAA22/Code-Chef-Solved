{
 "cells": [
  {
   "cell_type": "code",
   "execution_count": null,
   "id": "2b6a3096",
   "metadata": {},
   "outputs": [],
   "source": [
    "# cook your dish here\n",
    "t=int(input())\n",
    "for _ in range(t):\n",
    "    quantity,price=map(int,input().split())\n",
    "    c=quantity*price*0.1\n",
    "    if quantity<=1000:\n",
    "        print(quantity*price)\n",
    "    else:\n",
    "        print(quantity*price-c)"
   ]
  }
 ],
 "metadata": {
  "language_info": {
   "name": "python"
  }
 },
 "nbformat": 4,
 "nbformat_minor": 5
}
