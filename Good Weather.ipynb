{
 "cells": [
  {
   "cell_type": "code",
   "execution_count": null,
   "id": "170e4b33",
   "metadata": {},
   "outputs": [],
   "source": [
    "# cook your dish here\n",
    "t=int(input())\n",
    "for _ in range(t):\n",
    "    a=list(map(int,input().split()))\n",
    "    i=0\n",
    "    j=0\n",
    "    for k in range(len(a)):\n",
    "        if(a[k]==1):\n",
    "            i=i+1\n",
    "        else:\n",
    "            j=j+1\n",
    "    if(i<j):\n",
    "        print(\"NO\")\n",
    "    else:\n",
    "        print(\"YES\")"
   ]
  }
 ],
 "metadata": {
  "language_info": {
   "name": "python"
  }
 },
 "nbformat": 4,
 "nbformat_minor": 5
}
