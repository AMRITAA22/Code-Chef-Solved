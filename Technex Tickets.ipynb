{
 "cells": [
  {
   "cell_type": "code",
   "execution_count": null,
   "id": "d6d04e1e",
   "metadata": {},
   "outputs": [],
   "source": [
    "# cook your dish here\n",
    "t=int(input())\n",
    "for _ in range(t):\n",
    "    n=int(input())\n",
    "    ans = 0\n",
    "    while n > 3:\n",
    "        n -= 2\n",
    "        ans += 1\n",
    "    if n == 1 or n == 3:\n",
    "        ans += 1\n",
    "    else:\n",
    "        ans += 2\n",
    "    print(ans)"
   ]
  }
 ],
 "metadata": {
  "language_info": {
   "name": "python"
  }
 },
 "nbformat": 4,
 "nbformat_minor": 5
}
