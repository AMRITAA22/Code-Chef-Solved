{
 "cells": [
  {
   "cell_type": "code",
   "execution_count": null,
   "id": "b619b12e",
   "metadata": {},
   "outputs": [],
   "source": [
    "# cook your dish here\n",
    "school=int(input())\n",
    "for s in range(school):\n",
    "  w=int(input())\n",
    "  if w%7==6:print(w//7+1)\n",
    "  else: print (w//7)"
   ]
  }
 ],
 "metadata": {
  "language_info": {
   "name": "python"
  }
 },
 "nbformat": 4,
 "nbformat_minor": 5
}
