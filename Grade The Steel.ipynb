{
 "cells": [
  {
   "cell_type": "code",
   "execution_count": null,
   "id": "db0c9ed0",
   "metadata": {},
   "outputs": [],
   "source": [
    "def solve():\n",
    "    h, c, t = map(int, input().split())\n",
    "    if h > 50 and c < 0.7 and t > 5600:\n",
    "        print(10)\n",
    "    elif h > 50 and c < 0.7:\n",
    "        print(9)\n",
    "    elif c < 0.7 and t > 5600:\n",
    "        print(8)\n",
    "    elif h > 50 and t > 5600:\n",
    "        print(7)\n",
    "    elif h > 50 or c < 0.7 or t > 5600:\n",
    "        print(6)\n",
    "    else:\n",
    "        print(5)\n",
    "\n",
    "T = int(input())\n",
    "for _ in range(T):\n",
    "    solve()"
   ]
  }
 ],
 "metadata": {
  "language_info": {
   "name": "python"
  }
 },
 "nbformat": 4,
 "nbformat_minor": 5
}
