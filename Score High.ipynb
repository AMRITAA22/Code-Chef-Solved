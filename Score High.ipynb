{
 "cells": [
  {
   "cell_type": "code",
   "execution_count": null,
   "id": "16c2f012",
   "metadata": {},
   "outputs": [],
   "source": [
    "# cook your dish here\n",
    "def marks():\n",
    "    n=int(input())\n",
    "    a,b,c,d=list(map(int,input().split()))\n",
    "    print(max(a,b,c,d))\n",
    "\n",
    "\n",
    "t=int(input())\n",
    "for _ in range(t):\n",
    "    marks()"
   ]
  }
 ],
 "metadata": {
  "language_info": {
   "name": "python"
  }
 },
 "nbformat": 4,
 "nbformat_minor": 5
}
