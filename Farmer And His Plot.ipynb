{
 "cells": [
  {
   "cell_type": "code",
   "execution_count": null,
   "id": "3070c797",
   "metadata": {},
   "outputs": [],
   "source": [
    "# cook your dish here\n",
    "import math\n",
    "t=int(input())\n",
    "for _ in range(t):\n",
    "    m,n=map(int,input().split())\n",
    "    gcd_val = math.gcd(m, n)\n",
    "    print((m * n) // (gcd_val * gcd_val))"
   ]
  }
 ],
 "metadata": {
  "language_info": {
   "name": "python"
  }
 },
 "nbformat": 4,
 "nbformat_minor": 5
}
