{
 "cells": [
  {
   "cell_type": "code",
   "execution_count": null,
   "id": "3f6e98d7",
   "metadata": {},
   "outputs": [],
   "source": [
    "# cook your dish here\n",
    "temp = input\n",
    "t = int(temp())\n",
    "for p in range(t):\n",
    "    n = int(temp())\n",
    "    arr = list(map(int, temp().split()))\n",
    "    c1 = arr.count(1)\n",
    "    c2 = n - c1\n",
    "    if c1 % 2 == 1:\n",
    "        print(c2)\n",
    "    else:\n",
    "        print(min(c2, c1 // 2))"
   ]
  }
 ],
 "metadata": {
  "language_info": {
   "name": "python"
  }
 },
 "nbformat": 4,
 "nbformat_minor": 5
}
