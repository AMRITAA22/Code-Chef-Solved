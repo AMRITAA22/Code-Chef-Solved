{
 "cells": [
  {
   "cell_type": "code",
   "execution_count": null,
   "id": "40f227cc",
   "metadata": {},
   "outputs": [],
   "source": [
    "# cook your dish here\n",
    "for _ in range(int(input())):\n",
    "    a,b,c=map(int,input().split())\n",
    "    d=c//b\n",
    "    e=int(c%b)\n",
    "    if(d<a):\n",
    "        print((d*b*b)+(e*e))\n",
    "    else:\n",
    "        print(a*b*b)"
   ]
  }
 ],
 "metadata": {
  "language_info": {
   "name": "python"
  }
 },
 "nbformat": 4,
 "nbformat_minor": 5
}
