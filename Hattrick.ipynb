{
 "cells": [
  {
   "cell_type": "code",
   "execution_count": null,
   "id": "c013c5b9",
   "metadata": {},
   "outputs": [],
   "source": [
    "# cook your dish here\n",
    "t=int(input())\n",
    "for _ in range(t):\n",
    "    a,b,c,d,e,f=list(input().split())\n",
    "    if  c==b==a=='W' or b==c==d=='W' or c==d==e=='W' or d==e==f=='W':\n",
    "        print(\"YES\")\n",
    "    else:\n",
    "        print(\"NO\")"
   ]
  }
 ],
 "metadata": {
  "language_info": {
   "name": "python"
  }
 },
 "nbformat": 4,
 "nbformat_minor": 5
}
