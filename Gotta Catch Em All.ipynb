{
 "cells": [
  {
   "cell_type": "code",
   "execution_count": null,
   "id": "77618adb",
   "metadata": {},
   "outputs": [],
   "source": [
    "# cook your dish here\n",
    "for i in range(int(input())):\n",
    "    n,x,y=map(int, input().split())\n",
    "    a=list(map(int, input().split()))\n",
    "    sum=0\n",
    "    for i in range(len(a)):\n",
    "        sum+=min(a[i]*x,y)\n",
    "    print(sum)"
   ]
  }
 ],
 "metadata": {
  "language_info": {
   "name": "python"
  }
 },
 "nbformat": 4,
 "nbformat_minor": 5
}
