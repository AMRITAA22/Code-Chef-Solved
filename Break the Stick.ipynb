{
 "cells": [
  {
   "cell_type": "code",
   "execution_count": null,
   "id": "e83dae89",
   "metadata": {},
   "outputs": [],
   "source": [
    "# cook your dish here\n",
    "for i in range(int(input())):\n",
    "    a,b=map(int,input().split())\n",
    "    if(a%2==0 or b%2!=0):\n",
    "        print('YES')\n",
    "    else:\n",
    "        print('NO')"
   ]
  }
 ],
 "metadata": {
  "language_info": {
   "name": "python"
  }
 },
 "nbformat": 4,
 "nbformat_minor": 5
}
