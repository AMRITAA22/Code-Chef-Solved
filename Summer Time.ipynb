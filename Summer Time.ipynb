{
 "cells": [
  {
   "cell_type": "code",
   "execution_count": null,
   "id": "85534b0d",
   "metadata": {},
   "outputs": [],
   "source": [
    "# cook your dish here\n",
    "x=int(input())\n",
    "if x<=35:\n",
    "    print(\"no\")\n",
    "else:\n",
    "    print(\"yes\")"
   ]
  }
 ],
 "metadata": {
  "language_info": {
   "name": "python"
  }
 },
 "nbformat": 4,
 "nbformat_minor": 5
}
