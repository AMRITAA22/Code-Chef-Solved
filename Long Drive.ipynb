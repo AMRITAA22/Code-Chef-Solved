{
 "cells": [
  {
   "cell_type": "code",
   "execution_count": null,
   "id": "e7c771f0",
   "metadata": {},
   "outputs": [],
   "source": [
    "# cook your dish here\n",
    "import math\n",
    "\n",
    "t=int(input())\n",
    "for _ in range(t):\n",
    "    x,y=map(int,input().split())\n",
    "    additional_hrs=(10*(x-y))/(y-100)\n",
    "    print(math.ceil(additional_hrs))"
   ]
  }
 ],
 "metadata": {
  "language_info": {
   "name": "python"
  }
 },
 "nbformat": 4,
 "nbformat_minor": 5
}
