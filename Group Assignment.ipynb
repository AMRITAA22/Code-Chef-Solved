{
 "cells": [
  {
   "cell_type": "code",
   "execution_count": null,
   "id": "d58d42f1",
   "metadata": {},
   "outputs": [],
   "source": [
    "# cook your dish here\n",
    "t=int(input())\n",
    "for _ in range(t):\n",
    "    n,x=map(int,input().split())\n",
    "    print(2*n+1-x)"
   ]
  }
 ],
 "metadata": {
  "language_info": {
   "name": "python"
  }
 },
 "nbformat": 4,
 "nbformat_minor": 5
}
