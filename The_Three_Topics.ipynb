{
 "cells": [
  {
   "cell_type": "code",
   "execution_count": null,
   "id": "5d9e5b1d",
   "metadata": {},
   "outputs": [],
   "source": [
    "# cook your dish here\n",
    "a,b,c,x=map(int,input().split())\n",
    "if x==a or x==b or x==c:\n",
    "    print(\"yes\")\n",
    "else:\n",
    "    print(\"no\")"
   ]
  }
 ],
 "metadata": {
  "language_info": {
   "name": "python"
  }
 },
 "nbformat": 4,
 "nbformat_minor": 5
}
