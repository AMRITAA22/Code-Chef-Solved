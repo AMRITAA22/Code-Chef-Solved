{
 "cells": [
  {
   "cell_type": "code",
   "execution_count": null,
   "id": "0a4c6977",
   "metadata": {},
   "outputs": [],
   "source": [
    "T=int(input())\n",
    "for i in range(T):\n",
    "    n=int(input())\n",
    "    c=0\n",
    "    for x in [100,50,10,5,2,1]:\n",
    "        y=n//x\n",
    "        n-=y*x\n",
    "        c+=y\n",
    "    print(c)"
   ]
  }
 ],
 "metadata": {
  "language_info": {
   "name": "python"
  }
 },
 "nbformat": 4,
 "nbformat_minor": 5
}
