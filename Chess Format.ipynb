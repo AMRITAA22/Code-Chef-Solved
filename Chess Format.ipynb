{
 "cells": [
  {
   "cell_type": "code",
   "execution_count": null,
   "id": "61c4751b",
   "metadata": {},
   "outputs": [],
   "source": [
    "# cook your dish here\n",
    "t=int(input())\n",
    "for _ in range(t):\n",
    "    a,b=map(int,input().split())\n",
    "    if a+b<3:\n",
    "        print(\"1\")\n",
    "    elif 3<=a+b<=10:\n",
    "        print(\"2\")\n",
    "    elif 11<=a+b<=60:\n",
    "        print(\"3\")\n",
    "    else:\n",
    "        print(\"4\")"
   ]
  }
 ],
 "metadata": {
  "language_info": {
   "name": "python"
  }
 },
 "nbformat": 4,
 "nbformat_minor": 5
}
