{
 "cells": [
  {
   "cell_type": "code",
   "execution_count": null,
   "id": "8b37f64a",
   "metadata": {},
   "outputs": [],
   "source": [
    "# cook your dish here\n",
    "t=int(input())\n",
    "for i in range(t):\n",
    "    n=int(input())\n",
    "    if n==1:\n",
    "        print(\"ALICE\")\n",
    "    else:\n",
    "        print(\"BOB\")\n",
    "        "
   ]
  }
 ],
 "metadata": {
  "language_info": {
   "name": "python"
  }
 },
 "nbformat": 4,
 "nbformat_minor": 5
}
