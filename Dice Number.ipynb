{
 "cells": [
  {
   "cell_type": "code",
   "execution_count": null,
   "id": "30d447f0",
   "metadata": {},
   "outputs": [],
   "source": [
    "# cook your dish here\n",
    "t=int(input())\n",
    "for _ in range(t):\n",
    "    a1,a2,a3,b1,b2,b3=map(int,input().split())\n",
    "    l1=[a1,a2,a3]\n",
    "    l2=[b1,b2,b3]\n",
    "    l1.sort(reverse=True)\n",
    "    l2.sort(reverse=True)\n",
    "    ls1=map(str,l1)\n",
    "    ls2=map(str,l2)\n",
    "    A=\"\".join(ls1)\n",
    "    B=\"\".join(ls2)\n",
    "\n",
    "    C=int(A)\n",
    "    D=int(B)\n",
    "    if C > D:\n",
    "        print(\"Alice\")\n",
    "    elif C == D :\n",
    "        print(\"Tie\")\n",
    "    else :\n",
    "        print(\"Bob\")"
   ]
  }
 ],
 "metadata": {
  "language_info": {
   "name": "python"
  }
 },
 "nbformat": 4,
 "nbformat_minor": 5
}
