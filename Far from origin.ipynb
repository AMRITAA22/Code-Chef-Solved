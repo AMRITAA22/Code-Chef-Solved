{
 "cells": [
  {
   "cell_type": "code",
   "execution_count": null,
   "id": "4c66737f",
   "metadata": {},
   "outputs": [],
   "source": [
    "for t in range(int(input())):\n",
    "    x1, y1, x2, y2 = map(int, input().split())\n",
    "    alex = pow(x1, 2) + pow(y1, 2)\n",
    "    bob = pow(x2, 2) + pow(y2, 2)\n",
    "        \n",
    "    if(alex > bob):\n",
    "        print(\"Alex\")\n",
    "    elif(bob > alex):\n",
    "        print(\"Bob\")\n",
    "    elif(alex == bob):\n",
    "        print(\"Equal\")"
   ]
  }
 ],
 "metadata": {
  "language_info": {
   "name": "python"
  }
 },
 "nbformat": 4,
 "nbformat_minor": 5
}
