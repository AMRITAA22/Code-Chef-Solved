{
 "cells": [
  {
   "cell_type": "code",
   "execution_count": null,
   "id": "760953d2",
   "metadata": {},
   "outputs": [],
   "source": [
    "t=int(input())\n",
    "while t>0:\n",
    "    ls=list(map(int,input().split()))\n",
    "    a=max(ls)\n",
    "    ls.remove(max(ls))\n",
    "    b=sum(ls)\n",
    "    if(a>b):\n",
    "        print(\"YES\")\n",
    "    else:\n",
    "        print(\"NO\")\n",
    "    t-=1"
   ]
  }
 ],
 "metadata": {
  "language_info": {
   "name": "python"
  }
 },
 "nbformat": 4,
 "nbformat_minor": 5
}
