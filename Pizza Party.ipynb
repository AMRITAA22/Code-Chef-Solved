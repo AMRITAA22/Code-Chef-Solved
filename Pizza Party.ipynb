{
 "cells": [
  {
   "cell_type": "code",
   "execution_count": null,
   "id": "887b7598",
   "metadata": {},
   "outputs": [],
   "source": [
    "# cook your dish here\n",
    "a,b=map(int,input().split())\n",
    "total_pizza_boys=(a+1)*4\n",
    "total_pizza_girls=3*b\n",
    "total=total_pizza_girls+total_pizza_boys\n",
    "print((total+7)//8)"
   ]
  }
 ],
 "metadata": {
  "language_info": {
   "name": "python"
  }
 },
 "nbformat": 4,
 "nbformat_minor": 5
}
