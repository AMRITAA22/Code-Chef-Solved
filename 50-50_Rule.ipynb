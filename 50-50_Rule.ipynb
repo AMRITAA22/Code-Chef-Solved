{
 "cells": [
  {
   "cell_type": "code",
   "execution_count": null,
   "id": "e5b8d176",
   "metadata": {},
   "outputs": [],
   "source": [
    "# cook your dish here\n",
    "def sol():\n",
    "    x,y=map(int,input().split())\n",
    "    if x<50:\n",
    "        print(\"Z\")\n",
    "    elif y<50 and x>=50:\n",
    "        print(\"F\")\n",
    "    else:\n",
    "        print(\"A\")\n",
    "\n",
    "\n",
    "\n",
    "t=int(input())\n",
    "for _ in range(t):\n",
    "    sol()"
   ]
  }
 ],
 "metadata": {
  "language_info": {
   "name": "python"
  }
 },
 "nbformat": 4,
 "nbformat_minor": 5
}
