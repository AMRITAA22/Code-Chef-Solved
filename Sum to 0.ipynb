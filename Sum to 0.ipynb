{
 "cells": [
  {
   "cell_type": "code",
   "execution_count": null,
   "id": "ef46f49a",
   "metadata": {},
   "outputs": [],
   "source": [
    "# cook your dish here\n",
    "t=int(input())\n",
    "for i in range(t):\n",
    "    l=int(input())\n",
    "    if l==1:\n",
    "        print(-1)\n",
    "    elif l%2== 0:\n",
    "        r=[1,-1]*(l//2)\n",
    "        print(*r)\n",
    "    else:\n",
    "        r=[1,2,-3]\n",
    "        for j in range((l-3)//2):\n",
    "            r+=[1,-1]\n",
    "        print(*r)\n",
    "    "
   ]
  }
 ],
 "metadata": {
  "language_info": {
   "name": "python"
  }
 },
 "nbformat": 4,
 "nbformat_minor": 5
}
