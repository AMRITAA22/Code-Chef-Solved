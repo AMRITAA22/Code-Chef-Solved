{
 "cells": [
  {
   "cell_type": "code",
   "execution_count": null,
   "id": "8e561ce1",
   "metadata": {},
   "outputs": [],
   "source": [
    "for _ in range(int(input())):\n",
    "    x,y,z=map(int,input().split())\n",
    "    total=x*y\n",
    "    if total<=z:\n",
    "        print(0)\n",
    "    else:\n",
    "        c=0\n",
    "        while not total<=z:\n",
    "            total-=y\n",
    "            c+=1\n",
    "        print(c)"
   ]
  }
 ],
 "metadata": {
  "language_info": {
   "name": "python"
  }
 },
 "nbformat": 4,
 "nbformat_minor": 5
}
