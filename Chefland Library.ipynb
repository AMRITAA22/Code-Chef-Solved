{
 "cells": [
  {
   "cell_type": "code",
   "execution_count": null,
   "id": "485adeb6",
   "metadata": {},
   "outputs": [],
   "source": [
    "# cook your dish here\n",
    "t = int(input())\n",
    "for _ in range(t):\n",
    "    n = int(input())\n",
    "    a = list(map(int, input().split()))\n",
    "    p = {}\n",
    "    for i in range(n):\n",
    "        d = a[i]\n",
    "        l = i + 1\n",
    "        if d in p:\n",
    "            p[d] = max(p[d], l)\n",
    "        else:\n",
    "            p[d] = l\n",
    "    print(sum(p.values()))"
   ]
  }
 ],
 "metadata": {
  "language_info": {
   "name": "python"
  }
 },
 "nbformat": 4,
 "nbformat_minor": 5
}
