{
 "cells": [
  {
   "cell_type": "code",
   "execution_count": null,
   "id": "e14662bf",
   "metadata": {},
   "outputs": [],
   "source": [
    "# cook your dish here\n",
    "t=int(input())\n",
    "for _ in range(t):\n",
    "    N, X = map(int, input().split(\" \"))\n",
    "    if(X > ((2*N)-X)):\n",
    "        print(X-((2*N)-X))\n",
    "    else:\n",
    "        print(0)"
   ]
  }
 ],
 "metadata": {
  "language_info": {
   "name": "python"
  }
 },
 "nbformat": 4,
 "nbformat_minor": 5
}
