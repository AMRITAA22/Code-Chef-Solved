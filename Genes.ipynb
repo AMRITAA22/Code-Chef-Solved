{
 "cells": [
  {
   "cell_type": "code",
   "execution_count": null,
   "id": "c48253fe",
   "metadata": {},
   "outputs": [],
   "source": [
    "# cook your dish here\n",
    "a,b=input().split()\n",
    "if a==\"R\" or b==\"R\":\n",
    "    print(\"R\")\n",
    "elif a==\"B\" or b==\"B\":\n",
    "    print(\"B\")\n",
    "else:\n",
    "    print(\"G\")"
   ]
  }
 ],
 "metadata": {
  "language_info": {
   "name": "python"
  }
 },
 "nbformat": 4,
 "nbformat_minor": 5
}
