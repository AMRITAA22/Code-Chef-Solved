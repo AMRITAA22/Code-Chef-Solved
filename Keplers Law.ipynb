{
 "cells": [
  {
   "cell_type": "code",
   "execution_count": null,
   "id": "c385af24",
   "metadata": {},
   "outputs": [],
   "source": [
    "# cook your dish here\n",
    "t=int(input())\n",
    "for _ in range(t):\n",
    "    t1,t2,r1,r2=map(int,input().split())\n",
    "    if (t1**2)*(r2**3)==(t2**2)*(r1**3):\n",
    "        print(\"Yes\")\n",
    "    else:\n",
    "        print(\"NO\")"
   ]
  }
 ],
 "metadata": {
  "language_info": {
   "name": "python"
  }
 },
 "nbformat": 4,
 "nbformat_minor": 5
}
