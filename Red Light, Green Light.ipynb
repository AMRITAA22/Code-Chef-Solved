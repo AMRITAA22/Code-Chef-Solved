{
 "cells": [
  {
   "cell_type": "code",
   "execution_count": null,
   "id": "493558e5",
   "metadata": {},
   "outputs": [],
   "source": [
    "# cook your dish here\n",
    "for i in range(int(input())):\n",
    "    n,k=map(int,input().split())\n",
    "    H=list(map(int,input().split(\" \")))\n",
    "    c=0\n",
    "    for j in range(n):\n",
    "        if(H[j] > k):\n",
    "            c+=1\n",
    "    print(c)"
   ]
  }
 ],
 "metadata": {
  "language_info": {
   "name": "python"
  }
 },
 "nbformat": 4,
 "nbformat_minor": 5
}
