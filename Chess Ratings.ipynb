{
 "cells": [
  {
   "cell_type": "code",
   "execution_count": null,
   "id": "698820c1",
   "metadata": {},
   "outputs": [],
   "source": [
    "# cook your dish here\n",
    "def ratings():\n",
    "    x,y=map(int,input().split())\n",
    "    if (y-x)%8==0:\n",
    "        print((y-x)//8)\n",
    "    else:\n",
    "        print((y-x)//8+1)\n",
    "\n",
    "\n",
    "t=int(input())\n",
    "for _ in range(t):\n",
    "    ratings()"
   ]
  }
 ],
 "metadata": {
  "language_info": {
   "name": "python"
  }
 },
 "nbformat": 4,
 "nbformat_minor": 5
}
