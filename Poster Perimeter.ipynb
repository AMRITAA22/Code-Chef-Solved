{
 "cells": [
  {
   "cell_type": "code",
   "execution_count": null,
   "id": "900f7764",
   "metadata": {},
   "outputs": [],
   "source": [
    "# cook your dish here\n",
    "t=int(input())\n",
    "for _ in range(t):\n",
    "    x,y,z=map(int,input().split())\n",
    "    if 2*(x+y)<=z:\n",
    "        print(z-2*(x+y))\n",
    "    elif z<=4:\n",
    "        print(4-z)\n",
    "    elif z & 1:\n",
    "        print(1)\n",
    "    else:\n",
    "        print(0)"
   ]
  }
 ],
 "metadata": {
  "language_info": {
   "name": "python"
  }
 },
 "nbformat": 4,
 "nbformat_minor": 5
}
