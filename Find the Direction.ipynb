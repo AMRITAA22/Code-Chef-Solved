{
 "cells": [
  {
   "cell_type": "code",
   "execution_count": null,
   "id": "abe153e0",
   "metadata": {},
   "outputs": [],
   "source": [
    "# cook your dish here\n",
    "def solve():\n",
    "    x = int(input())\n",
    "    x = x % 4\n",
    "    if x == 0:\n",
    "        print(\"North\")\n",
    "    elif x == 1:\n",
    "        print(\"East\")\n",
    "    elif x == 2:\n",
    "        print(\"South\")\n",
    "    else:\n",
    "        print(\"West\")\n",
    "\n",
    "t = int(input())\n",
    "for _ in range(t):\n",
    "    solve()"
   ]
  }
 ],
 "metadata": {
  "language_info": {
   "name": "python"
  }
 },
 "nbformat": 4,
 "nbformat_minor": 5
}
