{
 "cells": [
  {
   "cell_type": "code",
   "execution_count": null,
   "id": "258c030a",
   "metadata": {},
   "outputs": [],
   "source": [
    "def solve():\n",
    "    num_chairs, ved_height, varun_height = map(int, input().split())\n",
    "    chairs = list(map(int, input().split()))\n",
    "\n",
    "    ved_total_height = ved_height + max(chairs)\n",
    "    varun_total_height = varun_height + (sum(chairs) - max(chairs))\n",
    "\n",
    "    if ved_total_height > varun_total_height:\n",
    "        print(\"Ved\")\n",
    "    elif ved_total_height == varun_total_height:\n",
    "        print(\"Equal\")\n",
    "    else:\n",
    "        print(\"Varun\")\n",
    "\n",
    "T = int(input())\n",
    "for _ in range(T):\n",
    "    solve()"
   ]
  }
 ],
 "metadata": {
  "language_info": {
   "name": "python"
  }
 },
 "nbformat": 4,
 "nbformat_minor": 5
}
