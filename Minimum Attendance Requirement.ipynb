{
 "cells": [
  {
   "cell_type": "code",
   "execution_count": null,
   "id": "cf505270",
   "metadata": {},
   "outputs": [],
   "source": [
    "# cook your dish here\n",
    "for i in range(int(input())):\n",
    "    T = 120\n",
    "    d_t_n = int(input())\n",
    "    b = input()\n",
    "    count=0\n",
    "    for j in b:\n",
    "        if j==\"1\":\n",
    "            count+=1\n",
    "    if count + (T - d_t_n) >=90:\n",
    "        print(\"YES\")\n",
    "    else:\n",
    "        print(\"NO\")\n",
    "  \n",
    "    "
   ]
  }
 ],
 "metadata": {
  "language_info": {
   "name": "python"
  }
 },
 "nbformat": 4,
 "nbformat_minor": 5
}
