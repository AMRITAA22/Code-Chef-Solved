{
 "cells": [
  {
   "cell_type": "code",
   "execution_count": null,
   "id": "7618d82a",
   "metadata": {},
   "outputs": [],
   "source": [
    "# cook your dish here\n",
    "n = int(input())\n",
    "for _ in range(n):\n",
    "    x = int(input())\n",
    "    odd=0\n",
    "    even=0\n",
    "    for i in range(1,x+1):\n",
    "        if x%i==0:\n",
    "            if i%2!=0:\n",
    "                odd+=1\n",
    "            else:\n",
    "                even+=1\n",
    "    print(odd,even)\n",
    "            \n",
    "        "
   ]
  }
 ],
 "metadata": {
  "language_info": {
   "name": "python"
  }
 },
 "nbformat": 4,
 "nbformat_minor": 5
}
