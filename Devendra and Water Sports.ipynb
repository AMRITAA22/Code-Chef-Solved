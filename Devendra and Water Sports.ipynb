{
 "cells": [
  {
   "cell_type": "code",
   "execution_count": null,
   "id": "41f6058e",
   "metadata": {},
   "outputs": [],
   "source": [
    "# cook your dish here\n",
    "for t in range(int(input())):\n",
    "    a = list(map(int,input().split()))\n",
    "    b= a[0]-a[1]\n",
    "    if b>=a[2]+a[3]+a[4]:\n",
    "        print(\"yes\")\n",
    "    else: print(\"no\")"
   ]
  }
 ],
 "metadata": {
  "language_info": {
   "name": "python"
  }
 },
 "nbformat": 4,
 "nbformat_minor": 5
}
