{
 "cells": [
  {
   "cell_type": "code",
   "execution_count": null,
   "id": "9c3e91db",
   "metadata": {},
   "outputs": [],
   "source": [
    "# cook your dish here\n",
    "t=int(input())\n",
    "while t>0:\n",
    "    n=int(input())\n",
    "    l=list(map(int,input().split()))\n",
    "    h=set(l)\n",
    "    k=len(h)\n",
    "    if k == 1:\n",
    "        print(-1)\n",
    "    else:\n",
    "        print(2)\n",
    "    t-=1"
   ]
  }
 ],
 "metadata": {
  "language_info": {
   "name": "python"
  }
 },
 "nbformat": 4,
 "nbformat_minor": 5
}
