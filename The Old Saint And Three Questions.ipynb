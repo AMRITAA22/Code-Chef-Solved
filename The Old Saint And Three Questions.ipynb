{
 "cells": [
  {
   "cell_type": "code",
   "execution_count": null,
   "id": "d42ca180",
   "metadata": {},
   "outputs": [],
   "source": [
    "# cook your dish here\n",
    "for i in range(int(input())):\n",
    "    a=list(map(int,input().split()))\n",
    "    b=list(map(int,input().split()))\n",
    "    count=0\n",
    "    for i in a:\n",
    "        if i==1:\n",
    "            count+=1\n",
    "    count1=0\n",
    "    for j in b:\n",
    "        if j==1:\n",
    "            count1+=1\n",
    "    if(count1==count):\n",
    "        print(\"Pass\")\n",
    "    else:\n",
    "        print(\"Fail\")"
   ]
  }
 ],
 "metadata": {
  "language_info": {
   "name": "python"
  }
 },
 "nbformat": 4,
 "nbformat_minor": 5
}
