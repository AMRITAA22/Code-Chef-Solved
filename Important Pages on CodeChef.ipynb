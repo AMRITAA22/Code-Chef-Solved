{
 "cells": [
  {
   "cell_type": "code",
   "execution_count": null,
   "id": "1fb3e686",
   "metadata": {},
   "outputs": [],
   "source": [
    "# cook your dish here\n",
    "a,b=map(int,input().split())\n",
    "if a==1 and b==1:\n",
    "    print(\"https://discuss.codechef.com\")\n",
    "elif a==1 and b==0:\n",
    "    print(\"https://www.codechef.com/contests\")\n",
    "else:\n",
    "    print(\"https://www.codechef.com/practice\")"
   ]
  }
 ],
 "metadata": {
  "language_info": {
   "name": "python"
  }
 },
 "nbformat": 4,
 "nbformat_minor": 5
}
