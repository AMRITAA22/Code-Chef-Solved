{
 "cells": [
  {
   "cell_type": "code",
   "execution_count": null,
   "id": "5ac20be0",
   "metadata": {},
   "outputs": [],
   "source": [
    "# cook your dish here\n",
    "t=int(input())\n",
    "while(t):\n",
    "    log=input()\n",
    "    size=len(log)\n",
    "    for i in range(0,size,2):\n",
    "        if(log[i]==log[i+1]):\n",
    "            print(\"no\")\n",
    "            break\n",
    "    else:\n",
    "        print(\"yes\")\n",
    "    t-=1"
   ]
  }
 ],
 "metadata": {
  "language_info": {
   "name": "python"
  }
 },
 "nbformat": 4,
 "nbformat_minor": 5
}
