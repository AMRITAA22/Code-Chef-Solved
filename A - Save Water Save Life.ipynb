{
 "cells": [
  {
   "cell_type": "code",
   "execution_count": null,
   "id": "87ac515f",
   "metadata": {},
   "outputs": [],
   "source": [
    "# cook your dish here\n",
    "for i in range(int(input())):\n",
    "    a,b,c,d=map(int,input().split(\" \"))\n",
    "    e=b+c//2\n",
    "    if(a*e<=d):\n",
    "        print(\"YES\")\n",
    "    else:\n",
    "        print(\"NO\")"
   ]
  }
 ],
 "metadata": {
  "language_info": {
   "name": "python"
  }
 },
 "nbformat": 4,
 "nbformat_minor": 5
}
