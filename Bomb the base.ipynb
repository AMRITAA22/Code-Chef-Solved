{
 "cells": [
  {
   "cell_type": "code",
   "execution_count": null,
   "id": "67dd3ef6",
   "metadata": {},
   "outputs": [],
   "source": [
    "# cook your dish here\n",
    "t=int(input())\n",
    "for _ in range(t):\n",
    "    n,x=map(int,input().split())\n",
    "    a=list(map(int,input().split()))\n",
    "    ans=0\n",
    "    for i in range(n-1,-1,-1):\n",
    "        if a[i]<x:\n",
    "            ans=i+1 \n",
    "            break\n",
    "    print(ans)"
   ]
  }
 ],
 "metadata": {
  "language_info": {
   "name": "python"
  }
 },
 "nbformat": 4,
 "nbformat_minor": 5
}
