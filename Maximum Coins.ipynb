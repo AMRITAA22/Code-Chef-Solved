{
 "cells": [
  {
   "cell_type": "code",
   "execution_count": null,
   "id": "417a2378",
   "metadata": {},
   "outputs": [],
   "source": [
    "# cook your dish here\n",
    "t=int(input())\n",
    "for _ in range(t):\n",
    "    n,x=map(int,input().split())\n",
    "    ans=0\n",
    "    for i in range(x):\n",
    "        ans+=2**(n-i)\n",
    "    for i in range(n-x):\n",
    "        ans-=2**(i+1)\n",
    "    print(ans)"
   ]
  }
 ],
 "metadata": {
  "language_info": {
   "name": "python"
  }
 },
 "nbformat": 4,
 "nbformat_minor": 5
}
