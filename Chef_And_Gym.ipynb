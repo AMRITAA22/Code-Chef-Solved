{
 "cells": [
  {
   "cell_type": "code",
   "execution_count": null,
   "id": "9a1752be",
   "metadata": {},
   "outputs": [],
   "source": [
    "# cook your dish here\n",
    "def solve():\n",
    "    x,y,z=map(int,input().split())\n",
    "    if x+y<=z:\n",
    "        print(2)\n",
    "    elif x<=z:\n",
    "        print(1)\n",
    "    else:\n",
    "        print(0)\n",
    "    \n",
    "t=int(input())\n",
    "for i in range(t):\n",
    "    solve()"
   ]
  }
 ],
 "metadata": {
  "language_info": {
   "name": "python"
  }
 },
 "nbformat": 4,
 "nbformat_minor": 5
}
