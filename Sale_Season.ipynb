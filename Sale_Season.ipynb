{
 "cells": [
  {
   "cell_type": "code",
   "execution_count": null,
   "id": "34f6f2d0",
   "metadata": {},
   "outputs": [],
   "source": [
    "# cook your dish here\n",
    "t=int(input())\n",
    "for i in range(t):\n",
    "    x=int(input())\n",
    "    if x<=100:\n",
    "        print(x)\n",
    "    elif 100<x<=1000:\n",
    "        print(x-25)\n",
    "    elif 1000<x<=5000:\n",
    "        print(x-100)\n",
    "    elif x>5000:\n",
    "        print(x-500)"
   ]
  }
 ],
 "metadata": {
  "language_info": {
   "name": "python"
  }
 },
 "nbformat": 4,
 "nbformat_minor": 5
}
