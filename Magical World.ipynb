{
 "cells": [
  {
   "cell_type": "code",
   "execution_count": null,
   "id": "9e2a72ef",
   "metadata": {},
   "outputs": [],
   "source": [
    "# cook your dish here\n",
    "t=int(input())\n",
    "for _ in range(t):\n",
    "    a,b,x=map(int,input().split())\n",
    "    if a*b<=x*x:\n",
    "        print(0)\n",
    "    elif a*1<=x*x or 1*b<=x*x:\n",
    "        print(1)\n",
    "    else:\n",
    "        print(2)"
   ]
  }
 ],
 "metadata": {
  "language_info": {
   "name": "python"
  }
 },
 "nbformat": 4,
 "nbformat_minor": 5
}
