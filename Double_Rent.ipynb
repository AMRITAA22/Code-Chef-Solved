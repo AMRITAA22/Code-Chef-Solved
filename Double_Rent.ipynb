{
 "cells": [
  {
   "cell_type": "code",
   "execution_count": null,
   "id": "a05ad13b",
   "metadata": {},
   "outputs": [],
   "source": [
    "# cook your dish here\n",
    "x=int(input())\n",
    "print(x*2)"
   ]
  }
 ],
 "metadata": {
  "language_info": {
   "name": "python"
  }
 },
 "nbformat": 4,
 "nbformat_minor": 5
}
