{
 "cells": [
  {
   "cell_type": "code",
   "execution_count": null,
   "id": "a7751dca",
   "metadata": {},
   "outputs": [],
   "source": [
    "t = int(input())\n",
    "\n",
    "while t > 0:\n",
    "    n = int(input())\n",
    "    s = input()\n",
    "    # Your code goes here\n",
    "    encoded_string = \"\"\n",
    "    for i in range(0, n, 2):\n",
    "        pair = s[i:i+2]\n",
    "        if pair == \"00\":\n",
    "            encoded_string += \"A\"\n",
    "        elif pair == \"01\":\n",
    "            encoded_string += \"T\"\n",
    "        elif pair == \"10\":\n",
    "            encoded_string += \"C\"\n",
    "        elif pair == \"11\":\n",
    "            encoded_string += \"G\"\n",
    "    print(encoded_string)\n",
    "    t -= 1\n"
   ]
  }
 ],
 "metadata": {
  "language_info": {
   "name": "python"
  }
 },
 "nbformat": 4,
 "nbformat_minor": 5
}
