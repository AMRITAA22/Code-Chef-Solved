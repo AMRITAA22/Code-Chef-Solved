{
 "cells": [
  {
   "cell_type": "code",
   "execution_count": null,
   "id": "01a46ca1",
   "metadata": {},
   "outputs": [],
   "source": [
    "# cook your dish here\n",
    "for i in range(int(input())):\n",
    "    l=list(map(int,input().split()))\n",
    "    n=len(l)\n",
    "    c=k=0\n",
    "    for i in range(n):\n",
    "        if(i%2):\n",
    "            if(l[i]==1):\n",
    "                c+=1\n",
    "        else:\n",
    "            if(l[i]==1):\n",
    "                k+=1\n",
    "    if(c<k):\n",
    "        print(1)\n",
    "    elif(c>k):\n",
    "        print(2)\n",
    "    else:\n",
    "        print(0)"
   ]
  }
 ],
 "metadata": {
  "language_info": {
   "name": "python"
  }
 },
 "nbformat": 4,
 "nbformat_minor": 5
}
