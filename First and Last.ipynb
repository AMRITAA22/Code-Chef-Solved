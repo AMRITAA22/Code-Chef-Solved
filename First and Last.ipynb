{
 "cells": [
  {
   "cell_type": "code",
   "execution_count": null,
   "id": "09c331b4",
   "metadata": {},
   "outputs": [],
   "source": [
    "# cook your dish here\n",
    "t = int(input())\n",
    "for _ in range(t):\n",
    "    n = int(input())\n",
    "    a = list(map(int,input().split()))\n",
    "    s = a[0] + a[-1]\n",
    "    curr_s = a[0] + a[1]\n",
    "    s = max(s,curr_s)\n",
    "    for i in range(1,n-1):\n",
    "        curr_s -= a[i-1]\n",
    "        curr_s += a[i+1]\n",
    "        s = max(s,curr_s)\n",
    "    print(s)"
   ]
  }
 ],
 "metadata": {
  "language_info": {
   "name": "python"
  }
 },
 "nbformat": 4,
 "nbformat_minor": 5
}
