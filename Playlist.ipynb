{
 "cells": [
  {
   "cell_type": "code",
   "execution_count": null,
   "id": "97ac75fa",
   "metadata": {},
   "outputs": [],
   "source": [
    "def solve():\n",
    "    n,x=map(int,input().split())\n",
    "    print(n//x//3)\n",
    "    \n",
    "\n",
    "t=int(input())\n",
    "for i in range(t):\n",
    "    solve()"
   ]
  }
 ],
 "metadata": {
  "language_info": {
   "name": "python"
  }
 },
 "nbformat": 4,
 "nbformat_minor": 5
}
