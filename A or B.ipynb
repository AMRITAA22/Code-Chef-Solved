{
 "cells": [
  {
   "cell_type": "code",
   "execution_count": null,
   "id": "c7324c8e",
   "metadata": {},
   "outputs": [],
   "source": [
    "# cook your dish he\n",
    "t=int(input())\n",
    "for _ in range(t):\n",
    "    x,y=map(int,input().split())\n",
    "    score_ab = (500 - x * 2) + (1000 - (x + y) * 4)\n",
    "    score_ba = (1000 - y * 4) + (500 - (x + y) * 2)\n",
    "    print(max(score_ab, score_ba))"
   ]
  }
 ],
 "metadata": {
  "language_info": {
   "name": "python"
  }
 },
 "nbformat": 4,
 "nbformat_minor": 5
}
