{
 "cells": [
  {
   "cell_type": "code",
   "execution_count": null,
   "id": "c2dfdb61",
   "metadata": {},
   "outputs": [],
   "source": [
    "# cook your dish here\n",
    "t=int(input())\n",
    "for _ in range(t):\n",
    "    n,x,k=map(int,input().split())\n",
    "    print(min(n,k//x))"
   ]
  }
 ],
 "metadata": {
  "language_info": {
   "name": "python"
  }
 },
 "nbformat": 4,
 "nbformat_minor": 5
}
