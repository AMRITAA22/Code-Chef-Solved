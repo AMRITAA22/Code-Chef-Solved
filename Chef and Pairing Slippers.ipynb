{
 "cells": [
  {
   "cell_type": "code",
   "execution_count": null,
   "id": "d0ed8cc5",
   "metadata": {},
   "outputs": [],
   "source": [
    "# cook your dish here\n",
    "t=int(input())\n",
    "for _ in range(t):\n",
    "    n,l,x=map(int,input().split())\n",
    "    no_right_slipper=n-l\n",
    "    print(min(l,no_right_slipper)*x)\n",
    "    "
   ]
  }
 ],
 "metadata": {
  "language_info": {
   "name": "python"
  }
 },
 "nbformat": 4,
 "nbformat_minor": 5
}
