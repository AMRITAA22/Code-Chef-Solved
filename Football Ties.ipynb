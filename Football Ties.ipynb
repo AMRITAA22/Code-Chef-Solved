{
 "cells": [
  {
   "cell_type": "code",
   "execution_count": null,
   "id": "dbc830aa",
   "metadata": {},
   "outputs": [],
   "source": [
    "# cook your dish here\n",
    "t=int(input())\n",
    "for _ in range(t):\n",
    "    x,y=map(int,input().split())\n",
    "    if x%3==0 and y%3==0:\n",
    "        print(\"0\")\n",
    "    elif x%3!=0 and y%3!=0:\n",
    "        print(x%3)\n",
    "    else:\n",
    "        print(y%3)\n"
   ]
  }
 ],
 "metadata": {
  "language_info": {
   "name": "python"
  }
 },
 "nbformat": 4,
 "nbformat_minor": 5
}
