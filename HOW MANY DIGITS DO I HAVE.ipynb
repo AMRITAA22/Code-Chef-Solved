{
 "cells": [
  {
   "cell_type": "code",
   "execution_count": null,
   "id": "72bb4a24",
   "metadata": {},
   "outputs": [],
   "source": [
    "# cook your dish here\n",
    "n=(input())\n",
    "if len(n)<=3:\n",
    "    print(len(n))\n",
    "else:\n",
    "    print(\"More than 3 digits\")"
   ]
  }
 ],
 "metadata": {
  "language_info": {
   "name": "python"
  }
 },
 "nbformat": 4,
 "nbformat_minor": 5
}
