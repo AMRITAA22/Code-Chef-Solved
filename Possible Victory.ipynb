{
 "cells": [
  {
   "cell_type": "code",
   "execution_count": null,
   "id": "a5b665e2",
   "metadata": {},
   "outputs": [],
   "source": [
    "# cook your dish here\n",
    "r,o,c=map(int,input().split())\n",
    "over_left=20-o\n",
    "score=over_left*6*6\n",
    "max_score=score+c \n",
    "if max_score>r:\n",
    "    print(\"yes\")\n",
    "else:\n",
    "    print(\"no\")"
   ]
  }
 ],
 "metadata": {
  "language_info": {
   "name": "python"
  }
 },
 "nbformat": 4,
 "nbformat_minor": 5
}
