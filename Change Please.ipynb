{
 "cells": [
  {
   "cell_type": "code",
   "execution_count": null,
   "id": "83aa7986",
   "metadata": {},
   "outputs": [],
   "source": [
    "# cook your dish here\n",
    "t=int(input())\n",
    "for _ in range(t):\n",
    "    x=int(input())\n",
    "    change = 100 - x\n",
    "    max_return = (change // 10) * 10\n",
    "    print(max_return)"
   ]
  }
 ],
 "metadata": {
  "language_info": {
   "name": "python"
  }
 },
 "nbformat": 4,
 "nbformat_minor": 5
}
