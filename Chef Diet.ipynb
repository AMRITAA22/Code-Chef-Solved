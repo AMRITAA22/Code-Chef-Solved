{
 "cells": [
  {
   "cell_type": "code",
   "execution_count": null,
   "id": "80fbead6",
   "metadata": {},
   "outputs": [],
   "source": [
    "# cook your dish here\n",
    "T = int(input())\n",
    "for i in range(T):\n",
    "    N, K = map(int, input().split(' '))\n",
    "    A = list(map(int, input().split(' ')))\n",
    "    r = 0\n",
    "    d = 0\n",
    "    for i in range(len(A)):\n",
    "        if A[i]+r < K:\n",
    "            print('NO', i+1)\n",
    "            break\n",
    "        else:\n",
    "            r = (A[i]+r) - K\n",
    "            d += 1\n",
    "    if d == len(A):\n",
    "        print('YES')\n",
    "    "
   ]
  }
 ],
 "metadata": {
  "language_info": {
   "name": "python"
  }
 },
 "nbformat": 4,
 "nbformat_minor": 5
}
