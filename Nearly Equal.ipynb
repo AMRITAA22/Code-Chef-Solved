{
 "cells": [
  {
   "cell_type": "code",
   "execution_count": null,
   "id": "9394c228",
   "metadata": {},
   "outputs": [],
   "source": [
    "# cook your dish here\n",
    "t = int(input())\n",
    "for _ in range(t):\n",
    "    n, m = map(int, input().split())\n",
    "    a = input()\n",
    "    b = input()\n",
    "    min_ham_d= float('inf')\n",
    "    for i in range(n - m + 1):\n",
    "        ham_d= 0\n",
    "        for j in range(m):\n",
    "            if a[i + j] != b[j]:\n",
    "                ham_d+= 1\n",
    "        min_ham_d= min(min_ham_d, ham_d)\n",
    "    print(min_ham_d)"
   ]
  }
 ],
 "metadata": {
  "language_info": {
   "name": "python"
  }
 },
 "nbformat": 4,
 "nbformat_minor": 5
}
