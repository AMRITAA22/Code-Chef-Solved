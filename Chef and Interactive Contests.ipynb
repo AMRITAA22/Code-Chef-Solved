{
 "cells": [
  {
   "cell_type": "code",
   "execution_count": null,
   "id": "c36d68a6",
   "metadata": {},
   "outputs": [],
   "source": [
    "# cook your dish here\n",
    "a,b=map(int,input().split())\n",
    "for i in range(a):\n",
    "    r=int(input())\n",
    "    if r>=b:\n",
    "        print(\"Good boi\")\n",
    "    else:\n",
    "        print(\"Bad boi\")\n",
    "    "
   ]
  }
 ],
 "metadata": {
  "language_info": {
   "name": "python"
  }
 },
 "nbformat": 4,
 "nbformat_minor": 5
}
