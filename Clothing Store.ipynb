{
 "cells": [
  {
   "cell_type": "code",
   "execution_count": null,
   "id": "9bd91a88",
   "metadata": {},
   "outputs": [],
   "source": [
    "# cook your dish here\n",
    "t=int(input())\n",
    "for _ in range(t):\n",
    "    st, lt, xt, A, B, C = map(int,input().split())\n",
    "    count = 0\n",
    "    count += min(C, xt)\n",
    "    lt += xt - min (C, xt)\n",
    "    count += min(B, lt)\n",
    "    st += lt- min (B,lt)\n",
    "    count += min(A, st)\n",
    "    print(count)"
   ]
  }
 ],
 "metadata": {
  "language_info": {
   "name": "python"
  }
 },
 "nbformat": 4,
 "nbformat_minor": 5
}
