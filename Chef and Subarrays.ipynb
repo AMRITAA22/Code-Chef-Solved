{
 "cells": [
  {
   "cell_type": "code",
   "execution_count": null,
   "id": "c8a46014",
   "metadata": {},
   "outputs": [],
   "source": [
    "# cook your dish here\n",
    "a = int(input())\n",
    "for _ in range(a):\n",
    "    b = int(input())\n",
    "    lis = list(map(int, input().split()))\n",
    "    c = 0 \n",
    "    for i in range(b):\n",
    "        p = 1\n",
    "        s = 0\n",
    "        for i in range(i,b):\n",
    "            s = s + lis[i] \n",
    "            p = p * lis[i] \n",
    "            if s ==  p:\n",
    "                c = c + 1 \n",
    "    print(c)\n",
    "    \n",
    "    \n",
    "    "
   ]
  }
 ],
 "metadata": {
  "language_info": {
   "name": "python"
  }
 },
 "nbformat": 4,
 "nbformat_minor": 5
}
