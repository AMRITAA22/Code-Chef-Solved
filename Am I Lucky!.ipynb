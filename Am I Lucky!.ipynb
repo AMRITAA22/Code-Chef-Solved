{
 "cells": [
  {
   "cell_type": "code",
   "execution_count": null,
   "id": "2eae68c4",
   "metadata": {},
   "outputs": [],
   "source": [
    "# cook your dish here\n",
    "t=int(input())\n",
    "for _ in range(t):\n",
    "    n,x,k=map(int,input().split())\n",
    "    girls=n-x\n",
    "    remaining_boys = x % k\n",
    "    remaining_girls = girls % k\n",
    "    reading = abs(remaining_boys - remaining_girls)\n",
    "    print(reading)\n"
   ]
  }
 ],
 "metadata": {
  "language_info": {
   "name": "python"
  }
 },
 "nbformat": 4,
 "nbformat_minor": 5
}
