{
 "cells": [
  {
   "cell_type": "code",
   "execution_count": null,
   "id": "39954cf2",
   "metadata": {},
   "outputs": [],
   "source": [
    "# cook your dish here\n",
    "def solve():\n",
    "    x1, x2, x3, v1, v2 = map(int, input().split())\n",
    "    chef_time = abs(x3 - x1) / v1\n",
    "    kefa_time = abs(x2 - x3) / v2\n",
    "    if chef_time < kefa_time:\n",
    "        print(\"Chef\")\n",
    "    elif kefa_time < chef_time:\n",
    "        print(\"Kefa\")\n",
    "    else:\n",
    "        print(\"Draw\")\n",
    "t = int(input())\n",
    "for _ in range(t):\n",
    "    solve()"
   ]
  }
 ],
 "metadata": {
  "language_info": {
   "name": "python"
  }
 },
 "nbformat": 4,
 "nbformat_minor": 5
}
