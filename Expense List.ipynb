{
 "cells": [
  {
   "cell_type": "code",
   "execution_count": null,
   "id": "0efce461",
   "metadata": {},
   "outputs": [],
   "source": [
    "# cook your dish here\n",
    "t=int(input())\n",
    "for _ in range(t):\n",
    "    n,x=map(int,input().split())\n",
    "    print(2**(x-n))"
   ]
  }
 ],
 "metadata": {
  "language_info": {
   "name": "python"
  }
 },
 "nbformat": 4,
 "nbformat_minor": 5
}
