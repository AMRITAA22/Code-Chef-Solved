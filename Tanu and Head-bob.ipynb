{
 "cells": [
  {
   "cell_type": "code",
   "execution_count": null,
   "id": "522563e6",
   "metadata": {},
   "outputs": [],
   "source": [
    "# cook your dish here\n",
    "for i in range(int(input())):\n",
    "    a=int(input())\n",
    "    s=input()\n",
    "    if('I' in s):\n",
    "        print('INDIAN')\n",
    "    elif('Y' in s):\n",
    "        print('NOT INDIAN')\n",
    "    else:\n",
    "        print('NOT SURE')"
   ]
  }
 ],
 "metadata": {
  "language_info": {
   "name": "python"
  }
 },
 "nbformat": 4,
 "nbformat_minor": 5
}
