{
 "cells": [
  {
   "cell_type": "code",
   "execution_count": null,
   "id": "f8340bb9",
   "metadata": {},
   "outputs": [],
   "source": [
    "# cook your dish here\n",
    "for I in range(int(input())):\n",
    "    a,b,c=map(int,input().split())\n",
    "    f=-1\n",
    "    while(a):\n",
    "        a//=2\n",
    "        f+=1\n",
    "    k=f*b+(f-1)*c\n",
    "    print(k)"
   ]
  }
 ],
 "metadata": {
  "language_info": {
   "name": "python"
  }
 },
 "nbformat": 4,
 "nbformat_minor": 5
}
