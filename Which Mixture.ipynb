{
 "cells": [
  {
   "cell_type": "code",
   "execution_count": null,
   "id": "ad13db96",
   "metadata": {
    "vscode": {
     "languageId": "plaintext"
    }
   },
   "outputs": [],
   "source": [
    "# cook your dish here\n",
    "t=int(input())\n",
    "for _ in range(t):\n",
    "    a,b=map(int,input().split())\n",
    "    if a>0 and b>0:\n",
    "        print(\"Solution\")\n",
    "    elif b==0:\n",
    "        print(\"Solid\")\n",
    "    else:\n",
    "        print(\"Liquid\")"
   ]
  }
 ],
 "metadata": {
  "language_info": {
   "name": "python"
  }
 },
 "nbformat": 4,
 "nbformat_minor": 5
}
