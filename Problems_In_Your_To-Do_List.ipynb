{
 "cells": [
  {
   "cell_type": "code",
   "execution_count": null,
   "id": "9012428b",
   "metadata": {},
   "outputs": [],
   "source": [
    "# cook your dish here\n",
    "def question():\n",
    "    n=int(input())\n",
    "    d=list(map(int,input().split()))\n",
    "    count=0\n",
    "    for i in d:\n",
    "        if i>=1000:\n",
    "            count+=1 \n",
    "    print(count)\n",
    "\n",
    "t=int(input())\n",
    "for _ in range(t):\n",
    "    question()"
   ]
  }
 ],
 "metadata": {
  "language_info": {
   "name": "python"
  }
 },
 "nbformat": 4,
 "nbformat_minor": 5
}
