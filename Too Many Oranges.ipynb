{
 "cells": [
  {
   "cell_type": "code",
   "execution_count": null,
   "id": "7eadff7a",
   "metadata": {},
   "outputs": [],
   "source": [
    "# cook your dish here\n",
    "t=int(input())\n",
    "for _ in range(t):\n",
    "    n,k=map(int,input().split())\n",
    "    min_slice=10*n\n",
    "    max_slice=12*n\n",
    "    if k>=min_slice and k<=max_slice:\n",
    "        print(\"yes\")\n",
    "    else:\n",
    "        print(\"no\")"
   ]
  }
 ],
 "metadata": {
  "language_info": {
   "name": "python"
  }
 },
 "nbformat": 4,
 "nbformat_minor": 5
}
