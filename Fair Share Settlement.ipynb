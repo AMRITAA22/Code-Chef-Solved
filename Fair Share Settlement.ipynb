{
 "cells": [
  {
   "cell_type": "code",
   "execution_count": null,
   "id": "d1ce670c",
   "metadata": {},
   "outputs": [],
   "source": [
    "# cook your dish here\n",
    "def pay():\n",
    "    n,k=map(int,input().split())\n",
    "    friend_share=n//(k+1) \n",
    "    print(n-k*friend_share)\n",
    "\n",
    "\n",
    "\n",
    "t=int(input())\n",
    "for _ in range(t):\n",
    "    pay()"
   ]
  }
 ],
 "metadata": {
  "language_info": {
   "name": "python"
  }
 },
 "nbformat": 4,
 "nbformat_minor": 5
}
