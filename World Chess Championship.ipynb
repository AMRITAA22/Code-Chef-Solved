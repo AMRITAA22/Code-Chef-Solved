{
 "cells": [
  {
   "cell_type": "code",
   "execution_count": null,
   "id": "905a0f93",
   "metadata": {},
   "outputs": [],
   "source": [
    "# cook your dish here\n",
    "t = int(input())\n",
    "for _ in range(t):\n",
    "    x = int(input())\n",
    "    p = input()\n",
    "    c = 0\n",
    "    n = 0\n",
    "    d = 0\n",
    "    for i in range(0,len(p)):\n",
    "        if p[i] == \"C\":\n",
    "            c+=1\n",
    "        elif p[i] == \"N\":\n",
    "            n+=1\n",
    "        elif p[i] == \"D\":\n",
    "            d+=1\n",
    "    cr = (2*c)+(d*1)\n",
    "    nr = (2*n)+(1*d)\n",
    "    if cr == nr:\n",
    "        print(55 * x)\n",
    "    elif cr > nr:\n",
    "        print(x*60)\n",
    "    else:\n",
    "        print(x*40)\n",
    "        "
   ]
  }
 ],
 "metadata": {
  "language_info": {
   "name": "python"
  }
 },
 "nbformat": 4,
 "nbformat_minor": 5
}
