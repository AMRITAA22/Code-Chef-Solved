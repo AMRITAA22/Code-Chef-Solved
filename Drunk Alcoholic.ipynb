{
 "cells": [
  {
   "cell_type": "code",
   "execution_count": null,
   "id": "aeafedf6",
   "metadata": {},
   "outputs": [],
   "source": [
    "# cook your dish here\n",
    "t=int(input())\n",
    "for _ in range(t):\n",
    "    k=int(input())\n",
    "    position=((k//2)*2)+(k%2)*3\n",
    "    print(position)"
   ]
  }
 ],
 "metadata": {
  "language_info": {
   "name": "python"
  }
 },
 "nbformat": 4,
 "nbformat_minor": 5
}
