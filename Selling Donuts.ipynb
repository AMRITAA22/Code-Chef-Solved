{
 "cells": [
  {
   "cell_type": "code",
   "execution_count": null,
   "id": "a89b1461",
   "metadata": {},
   "outputs": [],
   "source": [
    "test_cases = int(input())\n",
    "\n",
    "for _ in range(test_cases):\n",
    "    donut_types, customers_count = map(int, input().split())\n",
    "    donuts_available = list(map(int, input().split()))\n",
    "    customer_requests = list(map(int, input().split()))\n",
    "    \n",
    " \n",
    "    sad_customers = 0\n",
    "    \n",
    "    for request in customer_requests:\n",
    "        donut_type = request - 1\n",
    "        if donuts_available[donut_type] > 0:\n",
    "            donuts_available[donut_type] -= 1\n",
    "        else:\n",
    "            sad_customers += 1\n",
    "    \n",
    "  \n",
    "    print(sad_customers)"
   ]
  }
 ],
 "metadata": {
  "language_info": {
   "name": "python"
  }
 },
 "nbformat": 4,
 "nbformat_minor": 5
}
