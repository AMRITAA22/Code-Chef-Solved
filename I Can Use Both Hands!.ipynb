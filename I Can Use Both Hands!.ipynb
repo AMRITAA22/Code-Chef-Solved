{
 "cells": [
  {
   "cell_type": "code",
   "execution_count": null,
   "id": "22edbac1",
   "metadata": {},
   "outputs": [],
   "source": [
    "# cook your dish here\n",
    "import math\n",
    "t=int(input())\n",
    "for _ in range(t):\n",
    "    l,r,m=map(int,input().split())\n",
    "    pages=math.ceil(m/l) \n",
    "    lines=math.floor(m/r) \n",
    "    print(int(pages+lines))"
   ]
  }
 ],
 "metadata": {
  "language_info": {
   "name": "python"
  }
 },
 "nbformat": 4,
 "nbformat_minor": 5
}
