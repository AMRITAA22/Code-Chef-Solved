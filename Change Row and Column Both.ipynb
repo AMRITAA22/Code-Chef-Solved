{
 "cells": [
  {
   "cell_type": "code",
   "execution_count": null,
   "id": "4dda09f1",
   "metadata": {},
   "outputs": [],
   "source": [
    "# code by paras gupta\n",
    "for _ in range(int(input())):\n",
    "    sx, sy, ex, ey = map(int, input().split())\n",
    "    if sx!=ex and sy!=ey:\n",
    "        print(1)\n",
    "    else:\n",
    "        print(2)"
   ]
  }
 ],
 "metadata": {
  "language_info": {
   "name": "python"
  }
 },
 "nbformat": 4,
 "nbformat_minor": 5
}
