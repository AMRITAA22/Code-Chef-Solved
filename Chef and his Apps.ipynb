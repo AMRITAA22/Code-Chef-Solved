{
 "cells": [
  {
   "cell_type": "code",
   "execution_count": null,
   "id": "71295001",
   "metadata": {},
   "outputs": [],
   "source": [
    "# cook your dish here\n",
    "t=int(input())\n",
    "for _ in range(t):\n",
    "    s,x,y,z=map(int,input().split())\n",
    "    if (x+y)+z<=s:\n",
    "        print(\"0\")\n",
    "    elif (x+z)<=s or (y+z)<=s:\n",
    "        print(\"1\")\n",
    "    else:\n",
    "        print(\"2\")"
   ]
  }
 ],
 "metadata": {
  "language_info": {
   "name": "python"
  }
 },
 "nbformat": 4,
 "nbformat_minor": 5
}
