{
 "cells": [
  {
   "cell_type": "code",
   "execution_count": null,
   "id": "c31f3320",
   "metadata": {},
   "outputs": [],
   "source": [
    "T=int(input())\n",
    "for i in range(T):\n",
    "    x,y,z=map(int,input().split())\n",
    "    if(x%3==0):\n",
    "        b=x//3-1\n",
    "        tc=x*y+b*z\n",
    "        print(tc)\n",
    "    else:\n",
    "        b=x//3\n",
    "        tc=x*y+b*z\n",
    "        print(tc)"
   ]
  }
 ],
 "metadata": {
  "language_info": {
   "name": "python"
  }
 },
 "nbformat": 4,
 "nbformat_minor": 5
}
