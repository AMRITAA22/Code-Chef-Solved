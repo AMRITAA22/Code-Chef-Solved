{
 "cells": [
  {
   "cell_type": "code",
   "execution_count": null,
   "id": "2ce17110",
   "metadata": {},
   "outputs": [],
   "source": [
    "t = int(input())\n",
    "\n",
    "for _ in range(t):\n",
    "    x = int(input())\n",
    "    \n",
    "    xq = dict()\n",
    "    xq['normal'] = 'huge'\n",
    "    xq['huge'] = 'small'\n",
    "    xq['small'] = 'normal'\n",
    "    \n",
    "    s = 'normal'\n",
    "    \n",
    "    for i in range(x):\n",
    "        s = xq[s]\n",
    "    print(s)"
   ]
  }
 ],
 "metadata": {
  "language_info": {
   "name": "python"
  }
 },
 "nbformat": 4,
 "nbformat_minor": 5
}
