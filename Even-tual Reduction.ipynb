{
 "cells": [
  {
   "cell_type": "code",
   "execution_count": null,
   "id": "a29a640a",
   "metadata": {},
   "outputs": [],
   "source": [
    "# cook your dish here\n",
    "a=int(input())\n",
    "for i in range(a):\n",
    "    b=int(input())\n",
    "    d=input()\n",
    "    c=0\n",
    "    for i in d:\n",
    "        c=d.count(i)\n",
    "        if(c%2==0):\n",
    "            c=0\n",
    "        else:\n",
    "            c=1\n",
    "            break \n",
    "    if(c!=0):\n",
    "        print(\"NO\")\n",
    "    else:\n",
    "        print(\"YES\")"
   ]
  }
 ],
 "metadata": {
  "language_info": {
   "name": "python"
  }
 },
 "nbformat": 4,
 "nbformat_minor": 5
}
