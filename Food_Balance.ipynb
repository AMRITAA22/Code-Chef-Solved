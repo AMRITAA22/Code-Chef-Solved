{
 "cells": [
  {
   "cell_type": "code",
   "execution_count": null,
   "id": "7678777c",
   "metadata": {},
   "outputs": [],
   "source": [
    "# cook your dish here\n",
    "a,b,c,d=map(int,input().split())\n",
    "x=abs(a-b)\n",
    "y=abs(c-d)\n",
    "if x>y:\n",
    "    print(\"second\")\n",
    "elif y>x:\n",
    "    print(\"first\")\n",
    "else:\n",
    "    print(\"both\")"
   ]
  }
 ],
 "metadata": {
  "language_info": {
   "name": "python"
  }
 },
 "nbformat": 4,
 "nbformat_minor": 5
}
