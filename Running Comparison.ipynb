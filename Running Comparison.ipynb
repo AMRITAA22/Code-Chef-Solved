{
 "cells": [
  {
   "cell_type": "code",
   "execution_count": null,
   "id": "1cc6a13a",
   "metadata": {},
   "outputs": [],
   "source": [
    "# cook your dish here\n",
    "for i in range(int(input())):\n",
    "    n=int(input())\n",
    "    a=list(map(int , input().split()))\n",
    "    b=list(map(int , input().split()))\n",
    "    ans = 0 \n",
    "    for i in range(n):\n",
    "        if a[i]<=2*b[i] and b[i]<=2*a[i]:\n",
    "            ans+=1 \n",
    "    print(ans)"
   ]
  }
 ],
 "metadata": {
  "language_info": {
   "name": "python"
  }
 },
 "nbformat": 4,
 "nbformat_minor": 5
}
