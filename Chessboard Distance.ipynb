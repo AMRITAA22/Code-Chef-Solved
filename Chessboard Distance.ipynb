{
 "cells": [
  {
   "cell_type": "code",
   "execution_count": null,
   "id": "7ecc885f",
   "metadata": {},
   "outputs": [],
   "source": [
    "# cook your dish here\n",
    "t=int(input())\n",
    "for _ in range(t):\n",
    "    x1,y1,x2,y2=map(int,input().split())\n",
    "    print(max(abs(x1-x2),abs(y1-y2)))"
   ]
  }
 ],
 "metadata": {
  "language_info": {
   "name": "python"
  }
 },
 "nbformat": 4,
 "nbformat_minor": 5
}
