{
 "cells": [
  {
   "cell_type": "code",
   "execution_count": null,
   "id": "edc72ae2",
   "metadata": {},
   "outputs": [],
   "source": [
    "# cook your dish here\n",
    "t=int(input())\n",
    "for _ in range(t):\n",
    "    d=int(input())\n",
    "    n = input()\n",
    "    found = False\n",
    "    for digit in n:\n",
    "        if digit == '0' or digit == '5':\n",
    "            found = True\n",
    "            break\n",
    "    if found:\n",
    "        print(\"Yes\")\n",
    "    else:\n",
    "        print(\"No\")"
   ]
  }
 ],
 "metadata": {
  "language_info": {
   "name": "python"
  }
 },
 "nbformat": 4,
 "nbformat_minor": 5
}
