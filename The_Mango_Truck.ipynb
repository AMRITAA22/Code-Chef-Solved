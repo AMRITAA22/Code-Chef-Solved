{
 "cells": [
  {
   "cell_type": "code",
   "execution_count": null,
   "id": "fc65982f",
   "metadata": {},
   "outputs": [],
   "source": [
    "def sol():\n",
    "    x, y, z = map(int, input().split())\n",
    "    max_m = (z - y) // x\n",
    "    print(max_m)\n",
    "\n",
    "t = int(input())\n",
    "for _ in range(t):\n",
    "    sol()"
   ]
  }
 ],
 "metadata": {
  "language_info": {
   "name": "python"
  }
 },
 "nbformat": 4,
 "nbformat_minor": 5
}
