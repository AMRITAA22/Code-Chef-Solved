{
 "cells": [
  {
   "cell_type": "code",
   "execution_count": null,
   "id": "d793565e",
   "metadata": {},
   "outputs": [],
   "source": [
    "# cook your dish here\n",
    "def solve():\n",
    "    n = int(input())\n",
    "    a = list(map(int, input().split()))\n",
    "    \n",
    "    for i in range(1, 1 << n):\n",
    "        subset_sum = 0\n",
    "        for j in range(n):\n",
    "            if (i >> j) & 1:\n",
    "                subset_sum += a[j]\n",
    "        if subset_sum % 3 == 0:\n",
    "            print(\"Yes\")\n",
    "            return\n",
    "    print(\"No\")\n",
    "t = int(input())\n",
    "for _ in range(t):\n",
    "    solve()"
   ]
  }
 ],
 "metadata": {
  "language_info": {
   "name": "python"
  }
 },
 "nbformat": 4,
 "nbformat_minor": 5
}
