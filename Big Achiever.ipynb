{
 "cells": [
  {
   "cell_type": "code",
   "execution_count": null,
   "id": "7d365a7d",
   "metadata": {},
   "outputs": [],
   "source": [
    "# cook your dish here\n",
    "t=int(input())\n",
    "while t>0:\n",
    "    n=int(input())\n",
    "    list1=list(map(int,input().split()))\n",
    "    list2=[1]\n",
    "    max1=list1[0]\n",
    "    for i in range(1,n):\n",
    "        if list1[i]>max1:\n",
    "            list2.append(1)\n",
    "            max1=list1[i]\n",
    "        else:\n",
    "            list2.append(0)\n",
    "    for i in list2:\n",
    "        print(i,end=\" \")\n",
    "    print()\n",
    "    t-=1\n",
    "    "
   ]
  }
 ],
 "metadata": {
  "language_info": {
   "name": "python"
  }
 },
 "nbformat": 4,
 "nbformat_minor": 5
}
