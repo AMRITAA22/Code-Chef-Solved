{
 "cells": [
  {
   "cell_type": "code",
   "execution_count": null,
   "id": "65bd1631",
   "metadata": {},
   "outputs": [],
   "source": [
    "# cook your dish here\n",
    "a=int(input())\n",
    "for i in range(a):\n",
    "    b,c=map(int,input().split())\n",
    "    d=b*c\n",
    "    e=str(d)\n",
    "    f=len(e)\n",
    "    if f==5:\n",
    "        print(\"YES\")\n",
    "    else:\n",
    "        print(\"NO\")"
   ]
  }
 ],
 "metadata": {
  "language_info": {
   "name": "python"
  }
 },
 "nbformat": 4,
 "nbformat_minor": 5
}
